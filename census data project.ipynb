{
 "cells": [
  {
   "cell_type": "code",
   "execution_count": 1,
   "id": "4efdeca6",
   "metadata": {},
   "outputs": [
    {
     "data": {
      "text/html": [
       "<div>\n",
       "<style scoped>\n",
       "    .dataframe tbody tr th:only-of-type {\n",
       "        vertical-align: middle;\n",
       "    }\n",
       "\n",
       "    .dataframe tbody tr th {\n",
       "        vertical-align: top;\n",
       "    }\n",
       "\n",
       "    .dataframe thead th {\n",
       "        text-align: right;\n",
       "    }\n",
       "</style>\n",
       "<table border=\"1\" class=\"dataframe\">\n",
       "  <thead>\n",
       "    <tr style=\"text-align: right;\">\n",
       "      <th></th>\n",
       "      <th>House Number</th>\n",
       "      <th>Street</th>\n",
       "      <th>First Name</th>\n",
       "      <th>Surname</th>\n",
       "      <th>Age</th>\n",
       "      <th>Relationship to Head of House</th>\n",
       "      <th>Marital Status</th>\n",
       "      <th>Gender</th>\n",
       "      <th>Occupation</th>\n",
       "      <th>Infirmity</th>\n",
       "      <th>Religion</th>\n",
       "    </tr>\n",
       "  </thead>\n",
       "  <tbody>\n",
       "    <tr>\n",
       "      <th>0</th>\n",
       "      <td>1</td>\n",
       "      <td>Barry Avenue</td>\n",
       "      <td>Gail</td>\n",
       "      <td>Lamb</td>\n",
       "      <td>31</td>\n",
       "      <td>Head</td>\n",
       "      <td>Single</td>\n",
       "      <td>Female</td>\n",
       "      <td>Producer, radio</td>\n",
       "      <td>None</td>\n",
       "      <td>Methodist</td>\n",
       "    </tr>\n",
       "    <tr>\n",
       "      <th>1</th>\n",
       "      <td>2</td>\n",
       "      <td>Barry Avenue</td>\n",
       "      <td>Grace</td>\n",
       "      <td>Wells</td>\n",
       "      <td>91</td>\n",
       "      <td>Head</td>\n",
       "      <td>Widowed</td>\n",
       "      <td>Female</td>\n",
       "      <td>Retired Administrator, sports</td>\n",
       "      <td>None</td>\n",
       "      <td>Catholic</td>\n",
       "    </tr>\n",
       "    <tr>\n",
       "      <th>2</th>\n",
       "      <td>3</td>\n",
       "      <td>Barry Avenue</td>\n",
       "      <td>John</td>\n",
       "      <td>Rowley</td>\n",
       "      <td>88</td>\n",
       "      <td>Head</td>\n",
       "      <td>Married</td>\n",
       "      <td>Male</td>\n",
       "      <td>Retired Bookseller</td>\n",
       "      <td>None</td>\n",
       "      <td>None</td>\n",
       "    </tr>\n",
       "    <tr>\n",
       "      <th>3</th>\n",
       "      <td>3</td>\n",
       "      <td>Barry Avenue</td>\n",
       "      <td>Andrea</td>\n",
       "      <td>Rowley</td>\n",
       "      <td>88</td>\n",
       "      <td>Wife</td>\n",
       "      <td>Married</td>\n",
       "      <td>Female</td>\n",
       "      <td>Retired Industrial buyer</td>\n",
       "      <td>None</td>\n",
       "      <td>None</td>\n",
       "    </tr>\n",
       "    <tr>\n",
       "      <th>4</th>\n",
       "      <td>4</td>\n",
       "      <td>Barry Avenue</td>\n",
       "      <td>Jade</td>\n",
       "      <td>Morris</td>\n",
       "      <td>73</td>\n",
       "      <td>Head</td>\n",
       "      <td>Widowed</td>\n",
       "      <td>Female</td>\n",
       "      <td>Retired Scientist, audiological</td>\n",
       "      <td>None</td>\n",
       "      <td>Christian</td>\n",
       "    </tr>\n",
       "    <tr>\n",
       "      <th>...</th>\n",
       "      <td>...</td>\n",
       "      <td>...</td>\n",
       "      <td>...</td>\n",
       "      <td>...</td>\n",
       "      <td>...</td>\n",
       "      <td>...</td>\n",
       "      <td>...</td>\n",
       "      <td>...</td>\n",
       "      <td>...</td>\n",
       "      <td>...</td>\n",
       "      <td>...</td>\n",
       "    </tr>\n",
       "    <tr>\n",
       "      <th>9682</th>\n",
       "      <td>1</td>\n",
       "      <td>Williams Manorhouse</td>\n",
       "      <td>Sylvia</td>\n",
       "      <td>Day</td>\n",
       "      <td>17</td>\n",
       "      <td>Daughter</td>\n",
       "      <td>NaN</td>\n",
       "      <td>Female</td>\n",
       "      <td>Student</td>\n",
       "      <td>None</td>\n",
       "      <td>NaN</td>\n",
       "    </tr>\n",
       "    <tr>\n",
       "      <th>9683</th>\n",
       "      <td>1</td>\n",
       "      <td>Williams Manorhouse</td>\n",
       "      <td>Tracy</td>\n",
       "      <td>Day</td>\n",
       "      <td>11</td>\n",
       "      <td>Daughter</td>\n",
       "      <td>NaN</td>\n",
       "      <td>Female</td>\n",
       "      <td>Student</td>\n",
       "      <td>None</td>\n",
       "      <td>NaN</td>\n",
       "    </tr>\n",
       "    <tr>\n",
       "      <th>9684</th>\n",
       "      <td>1</td>\n",
       "      <td>Williams Manorhouse</td>\n",
       "      <td>Lisa</td>\n",
       "      <td>Day</td>\n",
       "      <td>9</td>\n",
       "      <td>Daughter</td>\n",
       "      <td>NaN</td>\n",
       "      <td>Female</td>\n",
       "      <td>Student</td>\n",
       "      <td>None</td>\n",
       "      <td>NaN</td>\n",
       "    </tr>\n",
       "    <tr>\n",
       "      <th>9685</th>\n",
       "      <td>1</td>\n",
       "      <td>Williams Manorhouse</td>\n",
       "      <td>Dennis</td>\n",
       "      <td>Day</td>\n",
       "      <td>4</td>\n",
       "      <td>Son</td>\n",
       "      <td>NaN</td>\n",
       "      <td>Male</td>\n",
       "      <td>Child</td>\n",
       "      <td>None</td>\n",
       "      <td>NaN</td>\n",
       "    </tr>\n",
       "    <tr>\n",
       "      <th>9686</th>\n",
       "      <td>1</td>\n",
       "      <td>Duck Hall</td>\n",
       "      <td>Jane</td>\n",
       "      <td>Hutchinson</td>\n",
       "      <td>69</td>\n",
       "      <td>Head</td>\n",
       "      <td>Widowed</td>\n",
       "      <td>Female</td>\n",
       "      <td>Retired Research officer, government</td>\n",
       "      <td>None</td>\n",
       "      <td>None</td>\n",
       "    </tr>\n",
       "  </tbody>\n",
       "</table>\n",
       "<p>9687 rows × 11 columns</p>\n",
       "</div>"
      ],
      "text/plain": [
       "     House Number               Street First Name     Surname Age  \\\n",
       "0               1         Barry Avenue       Gail        Lamb  31   \n",
       "1               2         Barry Avenue      Grace       Wells  91   \n",
       "2               3         Barry Avenue       John      Rowley  88   \n",
       "3               3         Barry Avenue     Andrea      Rowley  88   \n",
       "4               4         Barry Avenue       Jade      Morris  73   \n",
       "...           ...                  ...        ...         ...  ..   \n",
       "9682            1  Williams Manorhouse     Sylvia         Day  17   \n",
       "9683            1  Williams Manorhouse      Tracy         Day  11   \n",
       "9684            1  Williams Manorhouse       Lisa         Day   9   \n",
       "9685            1  Williams Manorhouse     Dennis         Day   4   \n",
       "9686            1            Duck Hall       Jane  Hutchinson  69   \n",
       "\n",
       "     Relationship to Head of House Marital Status  Gender  \\\n",
       "0                             Head         Single  Female   \n",
       "1                             Head        Widowed  Female   \n",
       "2                             Head        Married    Male   \n",
       "3                             Wife        Married  Female   \n",
       "4                             Head        Widowed  Female   \n",
       "...                            ...            ...     ...   \n",
       "9682                      Daughter            NaN  Female   \n",
       "9683                      Daughter            NaN  Female   \n",
       "9684                      Daughter            NaN  Female   \n",
       "9685                           Son            NaN    Male   \n",
       "9686                          Head        Widowed  Female   \n",
       "\n",
       "                                Occupation Infirmity   Religion  \n",
       "0                          Producer, radio      None  Methodist  \n",
       "1            Retired Administrator, sports      None   Catholic  \n",
       "2                       Retired Bookseller      None       None  \n",
       "3                 Retired Industrial buyer      None       None  \n",
       "4          Retired Scientist, audiological      None  Christian  \n",
       "...                                    ...       ...        ...  \n",
       "9682                               Student      None        NaN  \n",
       "9683                               Student      None        NaN  \n",
       "9684                               Student      None        NaN  \n",
       "9685                                 Child      None        NaN  \n",
       "9686  Retired Research officer, government      None       None  \n",
       "\n",
       "[9687 rows x 11 columns]"
      ]
     },
     "execution_count": 1,
     "metadata": {},
     "output_type": "execute_result"
    }
   ],
   "source": [
    "import pandas as pd\n",
    "import numpy as np\n",
    "import seaborn as sns\n",
    "\n",
    "\n",
    "#Read csv file\n",
    "df=pd.read_csv('census_03.csv')\n",
    "df\n"
   ]
  },
  {
   "cell_type": "code",
   "execution_count": 2,
   "id": "b9c6ffba",
   "metadata": {},
   "outputs": [
    {
     "name": "stdout",
     "output_type": "stream",
     "text": [
      "<class 'pandas.core.frame.DataFrame'>\n",
      "RangeIndex: 9687 entries, 0 to 9686\n",
      "Data columns (total 11 columns):\n",
      " #   Column                         Non-Null Count  Dtype \n",
      "---  ------                         --------------  ----- \n",
      " 0   House Number                   9683 non-null   object\n",
      " 1   Street                         9686 non-null   object\n",
      " 2   First Name                     9685 non-null   object\n",
      " 3   Surname                        9686 non-null   object\n",
      " 4   Age                            9687 non-null   object\n",
      " 5   Relationship to Head of House  9686 non-null   object\n",
      " 6   Marital Status                 7440 non-null   object\n",
      " 7   Gender                         9684 non-null   object\n",
      " 8   Occupation                     9687 non-null   object\n",
      " 9   Infirmity                      9687 non-null   object\n",
      " 10  Religion                       7389 non-null   object\n",
      "dtypes: object(11)\n",
      "memory usage: 832.6+ KB\n"
     ]
    }
   ],
   "source": [
    "df.info()"
   ]
  },
  {
   "cell_type": "code",
   "execution_count": 3,
   "id": "e58150e9",
   "metadata": {},
   "outputs": [
    {
     "data": {
      "text/html": [
       "<div>\n",
       "<style scoped>\n",
       "    .dataframe tbody tr th:only-of-type {\n",
       "        vertical-align: middle;\n",
       "    }\n",
       "\n",
       "    .dataframe tbody tr th {\n",
       "        vertical-align: top;\n",
       "    }\n",
       "\n",
       "    .dataframe thead th {\n",
       "        text-align: right;\n",
       "    }\n",
       "</style>\n",
       "<table border=\"1\" class=\"dataframe\">\n",
       "  <thead>\n",
       "    <tr style=\"text-align: right;\">\n",
       "      <th></th>\n",
       "      <th>House Number</th>\n",
       "      <th>Street</th>\n",
       "      <th>First Name</th>\n",
       "      <th>Surname</th>\n",
       "      <th>Age</th>\n",
       "      <th>Relationship to Head of House</th>\n",
       "      <th>Marital Status</th>\n",
       "      <th>Gender</th>\n",
       "      <th>Occupation</th>\n",
       "      <th>Infirmity</th>\n",
       "      <th>Religion</th>\n",
       "    </tr>\n",
       "  </thead>\n",
       "  <tbody>\n",
       "    <tr>\n",
       "      <th>0</th>\n",
       "      <td>1</td>\n",
       "      <td>Barry Avenue</td>\n",
       "      <td>Gail</td>\n",
       "      <td>Lamb</td>\n",
       "      <td>31</td>\n",
       "      <td>Head</td>\n",
       "      <td>Single</td>\n",
       "      <td>Female</td>\n",
       "      <td>Producer, radio</td>\n",
       "      <td>None</td>\n",
       "      <td>Methodist</td>\n",
       "    </tr>\n",
       "    <tr>\n",
       "      <th>1</th>\n",
       "      <td>2</td>\n",
       "      <td>Barry Avenue</td>\n",
       "      <td>Grace</td>\n",
       "      <td>Wells</td>\n",
       "      <td>91</td>\n",
       "      <td>Head</td>\n",
       "      <td>Widowed</td>\n",
       "      <td>Female</td>\n",
       "      <td>Retired Administrator, sports</td>\n",
       "      <td>None</td>\n",
       "      <td>Catholic</td>\n",
       "    </tr>\n",
       "    <tr>\n",
       "      <th>2</th>\n",
       "      <td>3</td>\n",
       "      <td>Barry Avenue</td>\n",
       "      <td>John</td>\n",
       "      <td>Rowley</td>\n",
       "      <td>88</td>\n",
       "      <td>Head</td>\n",
       "      <td>Married</td>\n",
       "      <td>Male</td>\n",
       "      <td>Retired Bookseller</td>\n",
       "      <td>None</td>\n",
       "      <td>None</td>\n",
       "    </tr>\n",
       "    <tr>\n",
       "      <th>3</th>\n",
       "      <td>3</td>\n",
       "      <td>Barry Avenue</td>\n",
       "      <td>Andrea</td>\n",
       "      <td>Rowley</td>\n",
       "      <td>88</td>\n",
       "      <td>Wife</td>\n",
       "      <td>Married</td>\n",
       "      <td>Female</td>\n",
       "      <td>Retired Industrial buyer</td>\n",
       "      <td>None</td>\n",
       "      <td>None</td>\n",
       "    </tr>\n",
       "    <tr>\n",
       "      <th>4</th>\n",
       "      <td>4</td>\n",
       "      <td>Barry Avenue</td>\n",
       "      <td>Jade</td>\n",
       "      <td>Morris</td>\n",
       "      <td>73</td>\n",
       "      <td>Head</td>\n",
       "      <td>Widowed</td>\n",
       "      <td>Female</td>\n",
       "      <td>Retired Scientist, audiological</td>\n",
       "      <td>None</td>\n",
       "      <td>Christian</td>\n",
       "    </tr>\n",
       "  </tbody>\n",
       "</table>\n",
       "</div>"
      ],
      "text/plain": [
       "  House Number        Street First Name Surname Age  \\\n",
       "0            1  Barry Avenue       Gail    Lamb  31   \n",
       "1            2  Barry Avenue      Grace   Wells  91   \n",
       "2            3  Barry Avenue       John  Rowley  88   \n",
       "3            3  Barry Avenue     Andrea  Rowley  88   \n",
       "4            4  Barry Avenue       Jade  Morris  73   \n",
       "\n",
       "  Relationship to Head of House Marital Status  Gender  \\\n",
       "0                          Head         Single  Female   \n",
       "1                          Head        Widowed  Female   \n",
       "2                          Head        Married    Male   \n",
       "3                          Wife        Married  Female   \n",
       "4                          Head        Widowed  Female   \n",
       "\n",
       "                        Occupation Infirmity   Religion  \n",
       "0                  Producer, radio      None  Methodist  \n",
       "1    Retired Administrator, sports      None   Catholic  \n",
       "2               Retired Bookseller      None       None  \n",
       "3         Retired Industrial buyer      None       None  \n",
       "4  Retired Scientist, audiological      None  Christian  "
      ]
     },
     "execution_count": 3,
     "metadata": {},
     "output_type": "execute_result"
    }
   ],
   "source": [
    "# first 5 rows\n",
    "df.head(5)"
   ]
  },
  {
   "cell_type": "code",
   "execution_count": 4,
   "id": "8885ec95",
   "metadata": {},
   "outputs": [
    {
     "name": "stdout",
     "output_type": "stream",
     "text": [
      "(9687, 11)\n"
     ]
    }
   ],
   "source": [
    "#shape of the data\n",
    "print(df.shape)"
   ]
  },
  {
   "cell_type": "code",
   "execution_count": 5,
   "id": "b645b2a1",
   "metadata": {},
   "outputs": [
    {
     "name": "stdout",
     "output_type": "stream",
     "text": [
      "House Number                     object\n",
      "Street                           object\n",
      "First Name                       object\n",
      "Surname                          object\n",
      "Age                              object\n",
      "Relationship to Head of House    object\n",
      "Marital Status                   object\n",
      "Gender                           object\n",
      "Occupation                       object\n",
      "Infirmity                        object\n",
      "Religion                         object\n",
      "dtype: object\n"
     ]
    }
   ],
   "source": [
    "#type of the data\n",
    "print(df.dtypes)"
   ]
  },
  {
   "cell_type": "code",
   "execution_count": 6,
   "id": "d27f8081",
   "metadata": {},
   "outputs": [
    {
     "data": {
      "text/plain": [
       "House Number                        4\n",
       "Street                              1\n",
       "First Name                          2\n",
       "Surname                             1\n",
       "Age                                 0\n",
       "Relationship to Head of House       1\n",
       "Marital Status                   2247\n",
       "Gender                              3\n",
       "Occupation                          0\n",
       "Infirmity                           0\n",
       "Religion                         2298\n",
       "dtype: int64"
      ]
     },
     "execution_count": 6,
     "metadata": {},
     "output_type": "execute_result"
    }
   ],
   "source": [
    "# number of missing data/vale per column\n",
    "\n",
    "#missing_values_count\n",
    "\n",
    "df.isnull().sum()"
   ]
  },
  {
   "cell_type": "code",
   "execution_count": 7,
   "id": "1348f739",
   "metadata": {},
   "outputs": [
    {
     "name": "stdout",
     "output_type": "stream",
     "text": [
      "[]\n"
     ]
    }
   ],
   "source": [
    "#select numeric columns\n",
    "df_numeric = df.select_dtypes(include=[np.number])\n",
    "numeric_cols = df_numeric.columns.values\n",
    "print(numeric_cols)"
   ]
  },
  {
   "cell_type": "code",
   "execution_count": 8,
   "id": "4a360253",
   "metadata": {},
   "outputs": [
    {
     "name": "stdout",
     "output_type": "stream",
     "text": [
      "['House Number' 'Street' 'First Name' 'Surname' 'Age'\n",
      " 'Relationship to Head of House' 'Marital Status' 'Gender' 'Occupation'\n",
      " 'Infirmity' 'Religion']\n"
     ]
    }
   ],
   "source": [
    "#select non numeric columns\n",
    "df_non_numeric = df.select_dtypes(exclude=[np.number])\n",
    "non_numeric_cols= df_non_numeric.columns.values\n",
    "print(non_numeric_cols)"
   ]
  },
  {
   "cell_type": "code",
   "execution_count": 9,
   "id": "963c4c12",
   "metadata": {},
   "outputs": [
    {
     "data": {
      "text/plain": [
       "<AxesSubplot:>"
      ]
     },
     "execution_count": 9,
     "metadata": {},
     "output_type": "execute_result"
    },
    {
     "data": {
      "image/png": "[encoded data removed]",
      "text/plain": [
       "<Figure size 576x432 with 2 Axes>"
      ]
     },
     "metadata": {
      "needs_background": "light"
     },
     "output_type": "display_data"
    }
   ],
   "source": [
    "#Missing Data/Value #Using Missing Data heatmap\n",
    "import matplotlib.pyplot as plt\n",
    "cols = df.columns\n",
    "plt.figure(figsize = (8, 6)) \n",
    "colours = ['#000099', '#ffff00'] # yellow is missing, blue is not missing.\n",
    "sns.heatmap(df[cols].isnull(), cmap=sns.color_palette(colours))\n"
   ]
  },
  {
   "cell_type": "code",
   "execution_count": 10,
   "id": "a9167ea8",
   "metadata": {},
   "outputs": [
    {
     "name": "stdout",
     "output_type": "stream",
     "text": [
      "House Number - 0%\n",
      "Street - 0%\n",
      "First Name - 0%\n",
      "Surname - 0%\n",
      "Age - 0%\n",
      "Relationship to Head of House - 0%\n",
      "Marital Status - 23%\n",
      "Gender - 0%\n",
      "Occupation - 0%\n",
      "Infirmity - 0%\n",
      "Religion - 24%\n"
     ]
    }
   ],
   "source": [
    "#Missing Data/Value\n",
    "#Using Missing Data percentage list\n",
    "for col in df.columns:\n",
    "    pct_missing = np.mean(df[col].isnull())\n",
    "    print('{} - {}%'. format(col, round(pct_missing*100)))"
   ]
  },
  {
   "cell_type": "code",
   "execution_count": 11,
   "id": "9be60c41",
   "metadata": {},
   "outputs": [
    {
     "name": "stdout",
     "output_type": "stream",
     "text": [
      "created missing indicator for: House Number\n",
      "created missing indicator for: Street\n",
      "created missing indicator for: First Name\n",
      "created missing indicator for: Surname\n",
      "created missing indicator for: Relationship to Head of House\n",
      "created missing indicator for: Marital Status\n",
      "created missing indicator for: Gender\n",
      "created missing indicator for: Religion\n"
     ]
    },
    {
     "data": {
      "text/plain": [
       "<AxesSubplot:xlabel='index'>"
      ]
     },
     "execution_count": 11,
     "metadata": {},
     "output_type": "execute_result"
    },
    {
     "data": {
      "image/png": "[encoded data removed]",
      "text/plain": [
       "<Figure size 432x288 with 1 Axes>"
      ]
     },
     "metadata": {
      "needs_background": "light"
     },
     "output_type": "display_data"
    }
   ],
   "source": [
    "#Missing Data/Value\n",
    "#missing data histogram\n",
    "\n",
    "#creating missing indicator for features with missing data\n",
    "\n",
    "for col in df.columns:\n",
    "    missing = df[col].isnull()\n",
    "    num_missing = np.sum(missing)\n",
    "    \n",
    "    if num_missing> 0:\n",
    "        print('created missing indicator for: {}'.format(col))\n",
    "        df['{}_ismissing'.format(col)] = missing\n",
    "        \n",
    "#then based on the indicator, plot the histogram of missing values\n",
    "\n",
    "ismissing_cols = [col for col in df.columns if 'ismissing' in col]\n",
    "df['num_missing'] = df[ismissing_cols].sum(axis=1)\n",
    "\n",
    "df['num_missing'].value_counts().reset_index().sort_values(by='index').plot.bar(x='index', y='num_missing')"
   ]
  },
  {
   "cell_type": "code",
   "execution_count": 12,
   "id": "6eed81d7",
   "metadata": {},
   "outputs": [
    {
     "data": {
      "text/plain": [
       "array(['31', '91', '88', '73', '41', '43', '5', '53', '54', '85', '71',\n",
       "       '22', '70', '60', '95', '96', '80', '34', '38', '65', '64', '57',\n",
       "       '35', '37', '72', '3', '32', '1', '69', '59', '62', '33', '30',\n",
       "       '46', '48', '19', '18', '16', '15', '24', '0', '27', '14', '10',\n",
       "       '6', '45', '47', '9', '23', '36', '21', '20', '55', '25', '13',\n",
       "       '2', '74', '50', '44', '49', '56', '42', '40', '17', '12', '11',\n",
       "       '67', '28', '8', '39', '7', '76', '78', '66', '29', '26', '58',\n",
       "       '81', '61', '52', 'three', '79', '82', '51', '4', '83', '63', '77',\n",
       "       '68', '84', '87', '89', '75', '93', '11.1', '97', '86', '92', '94',\n",
       "       '90', '101', '103', '100', ' ', 'twelve', '-1', '0.3', '41.4',\n",
       "       '104', '322', '99', '80.21545403', '82.21545403', '102',\n",
       "       '91.97455657', '93.97455657', '28.0', '105', '107'], dtype=object)"
      ]
     },
     "execution_count": 12,
     "metadata": {},
     "output_type": "execute_result"
    }
   ],
   "source": [
    "#unique values Age #blank #twelve #three #-1 #0.3, #11.1 #41.4 #322,  #80.21545403, #82.21545403 #91.97455657 #93.97455657 #28.0\n",
    "\n",
    "df['Age'].unique()\n"
   ]
  },
  {
   "cell_type": "code",
   "execution_count": 13,
   "id": "6e6228e2",
   "metadata": {},
   "outputs": [
    {
     "data": {
      "text/plain": [
       "array(['31', '91', '88', '73', '41', '43', '5', '53', '54', '85', '71',\n",
       "       '22', '70', '60', '95', '96', '80', '34', '38', '65', '64', '57',\n",
       "       '35', '37', '72', '3', '32', '1', '69', '59', '62', '33', '30',\n",
       "       '46', '48', '19', '18', '16', '15', '24', '0', '27', '14', '10',\n",
       "       '6', '45', '47', '9', '23', '36', '21', '20', '55', '25', '13',\n",
       "       '2', '74', '50', '44', '49', '56', '42', '40', '17', '12', '11',\n",
       "       '67', '28', '8', '39', '7', '76', '78', '66', '29', '26', '58',\n",
       "       '81', '61', '52', 3, '79', '82', '51', '4', '83', '63', '77', '68',\n",
       "       '84', '87', '89', '75', '93', 11, '97', '86', '92', '94', '90',\n",
       "       '101', '103', '100', ' ', 12, '-1', 0, 41, '104', '322', '99', 80,\n",
       "       82, '102', 91, 93, 28, '105', '107'], dtype=object)"
      ]
     },
     "execution_count": 13,
     "metadata": {},
     "output_type": "execute_result"
    }
   ],
   "source": [
    "df['Age']=df['Age'].replace(to_replace='three', value= 3)\n",
    "df['Age']=df['Age'].replace(to_replace='twelve', value=12)\n",
    "df['Age']=df['Age'].replace(to_replace='11.1', value=11)\n",
    "df['Age']=df['Age'].replace(to_replace='41.4', value=41)\n",
    "df['Age']=df['Age'].replace(to_replace='28.0', value=28)\n",
    "df['Age']=df['Age'].replace(to_replace='80.21545403', value=80)\n",
    "df['Age']=df['Age'].replace(to_replace='82.21545403', value=82)\n",
    "df['Age']=df['Age'].replace(to_replace='91.97455657', value=91)\n",
    "df['Age']=df['Age'].replace(to_replace='93.97455657', value=93)\n",
    "df['Age']=df['Age'].replace(to_replace='0.3', value=0)\n",
    "df['Age'].unique()\n"
   ]
  },
  {
   "cell_type": "code",
   "execution_count": 14,
   "id": "1f940997",
   "metadata": {},
   "outputs": [
    {
     "data": {
      "text/plain": [
       "4594     \n",
       "8813     \n",
       "Name: Age, dtype: object"
      ]
     },
     "execution_count": 14,
     "metadata": {},
     "output_type": "execute_result"
    }
   ],
   "source": [
    "#investigating ' ' #blank Age\n",
    "df['Age'][df['Age']==' ']"
   ]
  },
  {
   "cell_type": "code",
   "execution_count": 15,
   "id": "68466eb2",
   "metadata": {},
   "outputs": [
    {
     "data": {
      "text/plain": [
       "House Number                                                  28\n",
       "Street                                     Honeysucklebag Avenue\n",
       "First Name                                                 Billy\n",
       "Surname                                                    Smith\n",
       "Age                                                             \n",
       "Relationship to Head of House                            Husband\n",
       "Marital Status                                           Married\n",
       "Gender                                                      Male\n",
       "Occupation                                        Air cabin crew\n",
       "Infirmity                                                   None\n",
       "Religion                                               Methodist\n",
       "House Number_ismissing                                     False\n",
       "Street_ismissing                                           False\n",
       "First Name_ismissing                                       False\n",
       "Surname_ismissing                                          False\n",
       "Relationship to Head of House_ismissing                    False\n",
       "Marital Status_ismissing                                   False\n",
       "Gender_ismissing                                           False\n",
       "Religion_ismissing                                         False\n",
       "num_missing                                                    0\n",
       "Name: 4594, dtype: object"
      ]
     },
     "execution_count": 15,
     "metadata": {},
     "output_type": "execute_result"
    }
   ],
   "source": [
    "df.loc[4594]"
   ]
  },
  {
   "cell_type": "code",
   "execution_count": 16,
   "id": "83c827dd",
   "metadata": {},
   "outputs": [
    {
     "data": {
      "text/plain": [
       "House Number                                           28\n",
       "Street                                       Yellow Inlet\n",
       "First Name                                        Malcolm\n",
       "Surname                                           Johnson\n",
       "Age                                                      \n",
       "Relationship to Head of House                     Husband\n",
       "Marital Status                                    Married\n",
       "Gender                                               Male\n",
       "Occupation                                 Office manager\n",
       "Infirmity                                            None\n",
       "Religion                                           Muslim\n",
       "House Number_ismissing                              False\n",
       "Street_ismissing                                    False\n",
       "First Name_ismissing                                False\n",
       "Surname_ismissing                                   False\n",
       "Relationship to Head of House_ismissing             False\n",
       "Marital Status_ismissing                            False\n",
       "Gender_ismissing                                    False\n",
       "Religion_ismissing                                  False\n",
       "num_missing                                             0\n",
       "Name: 8813, dtype: object"
      ]
     },
     "execution_count": 16,
     "metadata": {},
     "output_type": "execute_result"
    }
   ],
   "source": [
    "df.loc[8813]"
   ]
  },
  {
   "cell_type": "code",
   "execution_count": 17,
   "id": "40b7a72a",
   "metadata": {},
   "outputs": [
    {
     "data": {
      "text/plain": [
       "array(['31', '91', '88', '73', '41', '43', '5', '53', '54', '85', '71',\n",
       "       '22', '70', '60', '95', '96', '80', '34', '38', '65', '64', '57',\n",
       "       '35', '37', '72', '3', '32', '1', '69', '59', '62', '33', '30',\n",
       "       '46', '48', '19', '18', '16', '15', '24', '0', '27', '14', '10',\n",
       "       '6', '45', '47', '9', '23', '36', '21', '20', '55', '25', '13',\n",
       "       '2', '74', '50', '44', '49', '56', '42', '40', '17', '12', '11',\n",
       "       '67', '28', '8', '39', '7', '76', '78', '66', '29', '26', '58',\n",
       "       '81', '61', '52', 3, '79', '82', '51', '4', '83', '63', '77', '68',\n",
       "       '84', '87', '89', '75', '93', 11, '97', '86', '92', '94', '90',\n",
       "       '101', '103', '100', 35, 12, '-1', 0, 41, '104', '322', '99', 80,\n",
       "       82, '102', 91, 93, 28, '105', '107'], dtype=object)"
      ]
     },
     "execution_count": 17,
     "metadata": {},
     "output_type": "execute_result"
    }
   ],
   "source": [
    "df['Age']=df['Age'].replace(to_replace=' ', value=35)\n",
    "df['Age'].unique()"
   ]
  },
  {
   "cell_type": "code",
   "execution_count": 18,
   "id": "f87788c5",
   "metadata": {},
   "outputs": [
    {
     "data": {
      "text/plain": [
       "6730    -1\n",
       "Name: Age, dtype: object"
      ]
     },
     "execution_count": 18,
     "metadata": {},
     "output_type": "execute_result"
    }
   ],
   "source": [
    "#investigating -1 Age\n",
    "df['Age'][df['Age']=='-1']"
   ]
  },
  {
   "cell_type": "code",
   "execution_count": 19,
   "id": "68cc47b3",
   "metadata": {},
   "outputs": [
    {
     "data": {
      "text/plain": [
       "House Number                                           29\n",
       "Street                                     Gregory Rapids\n",
       "First Name                                        William\n",
       "Surname                                            Thomas\n",
       "Age                                                    -1\n",
       "Relationship to Head of House                         Son\n",
       "Marital Status                                        NaN\n",
       "Gender                                               Male\n",
       "Occupation                                          Child\n",
       "Infirmity                                            None\n",
       "Religion                                              NaN\n",
       "House Number_ismissing                              False\n",
       "Street_ismissing                                    False\n",
       "First Name_ismissing                                False\n",
       "Surname_ismissing                                   False\n",
       "Relationship to Head of House_ismissing             False\n",
       "Marital Status_ismissing                             True\n",
       "Gender_ismissing                                    False\n",
       "Religion_ismissing                                   True\n",
       "num_missing                                             2\n",
       "Name: 6730, dtype: object"
      ]
     },
     "execution_count": 19,
     "metadata": {},
     "output_type": "execute_result"
    }
   ],
   "source": [
    "df.loc[6730]"
   ]
  },
  {
   "cell_type": "code",
   "execution_count": 20,
   "id": "ef79f446",
   "metadata": {},
   "outputs": [
    {
     "data": {
      "text/plain": [
       "array(['31', '91', '88', '73', '41', '43', '5', '53', '54', '85', '71',\n",
       "       '22', '70', '60', '95', '96', '80', '34', '38', '65', '64', '57',\n",
       "       '35', '37', '72', '3', '32', '1', '69', '59', '62', '33', '30',\n",
       "       '46', '48', '19', '18', '16', '15', '24', '0', '27', '14', '10',\n",
       "       '6', '45', '47', '9', '23', '36', '21', '20', '55', '25', '13',\n",
       "       '2', '74', '50', '44', '49', '56', '42', '40', '17', '12', '11',\n",
       "       '67', '28', '8', '39', '7', '76', '78', '66', '29', '26', '58',\n",
       "       '81', '61', '52', 3, '79', '82', '51', '4', '83', '63', '77', '68',\n",
       "       '84', '87', '89', '75', '93', 11, '97', '86', '92', '94', '90',\n",
       "       '101', '103', '100', 35, 12, 0, 41, '104', '322', '99', 80, 82,\n",
       "       '102', 91, 93, 28, '105', '107'], dtype=object)"
      ]
     },
     "execution_count": 20,
     "metadata": {},
     "output_type": "execute_result"
    }
   ],
   "source": [
    "# -1 age in this scenarior is a an error considering the features of the individual occupation as child male, son to head of house and occupation role\n",
    "#hence, either a pregnancy or error will be corrected replacing with 0\n",
    "df['Age']=df['Age'].replace(to_replace='-1', value=0)\n",
    "df['Age'].unique()\n"
   ]
  },
  {
   "cell_type": "code",
   "execution_count": 21,
   "id": "0a55b377",
   "metadata": {},
   "outputs": [
    {
     "data": {
      "text/plain": [
       "6991    322\n",
       "Name: Age, dtype: object"
      ]
     },
     "execution_count": 21,
     "metadata": {},
     "output_type": "execute_result"
    }
   ],
   "source": [
    "#investigating outlier Age 322\n",
    "df['Age'][df['Age']=='322']"
   ]
  },
  {
   "cell_type": "code",
   "execution_count": 22,
   "id": "98c6bf3f",
   "metadata": {},
   "outputs": [
    {
     "data": {
      "text/plain": [
       "House Number                                                       4\n",
       "Street                                                    Burns Road\n",
       "First Name                                                    Justin\n",
       "Surname                                                         Howe\n",
       "Age                                                              322\n",
       "Relationship to Head of House                                 Lodger\n",
       "Marital Status                                                Single\n",
       "Gender                                                          Male\n",
       "Occupation                                 Health and safety adviser\n",
       "Infirmity                                                       None\n",
       "Religion                                                   Christian\n",
       "House Number_ismissing                                         False\n",
       "Street_ismissing                                               False\n",
       "First Name_ismissing                                           False\n",
       "Surname_ismissing                                              False\n",
       "Relationship to Head of House_ismissing                        False\n",
       "Marital Status_ismissing                                       False\n",
       "Gender_ismissing                                               False\n",
       "Religion_ismissing                                             False\n",
       "num_missing                                                        0\n",
       "Name: 6991, dtype: object"
      ]
     },
     "execution_count": 22,
     "metadata": {},
     "output_type": "execute_result"
    }
   ],
   "source": [
    "df.loc[6991]"
   ]
  },
  {
   "cell_type": "code",
   "execution_count": 23,
   "id": "181701c6",
   "metadata": {},
   "outputs": [
    {
     "data": {
      "text/plain": [
       "array(['31', '91', '88', '73', '41', '43', '5', '53', '54', '85', '71',\n",
       "       '22', '70', '60', '95', '96', '80', '34', '38', '65', '64', '57',\n",
       "       '35', '37', '72', '3', '32', '1', '69', '59', '62', '33', '30',\n",
       "       '46', '48', '19', '18', '16', '15', '24', '0', '27', '14', '10',\n",
       "       '6', '45', '47', '9', '23', '36', '21', '20', '55', '25', '13',\n",
       "       '2', '74', '50', '44', '49', '56', '42', '40', '17', '12', '11',\n",
       "       '67', '28', '8', '39', '7', '76', '78', '66', '29', '26', '58',\n",
       "       '81', '61', '52', 3, '79', '82', '51', '4', '83', '63', '77', '68',\n",
       "       '84', '87', '89', '75', '93', 11, '97', '86', '92', '94', '90',\n",
       "       '101', '103', '100', 35, 12, 0, 41, '104', 32, '99', 80, 82, '102',\n",
       "       91, 93, 28, '105', '107'], dtype=object)"
      ]
     },
     "execution_count": 23,
     "metadata": {},
     "output_type": "execute_result"
    }
   ],
   "source": [
    "#Oulier possibly due to error as individual is a single male, health and safety Aviser(actively employed) can be classified as a 32\n",
    "df['Age']=df['Age'].replace(to_replace='322', value=32)\n",
    "df['Age'].unique()"
   ]
  },
  {
   "cell_type": "code",
   "execution_count": 24,
   "id": "45ba5b2d",
   "metadata": {},
   "outputs": [
    {
     "data": {
      "text/plain": [
       "array([ 31,  91,  88,  73,  41,  43,   5,  53,  54,  85,  71,  22,  70,\n",
       "        60,  95,  96,  80,  34,  38,  65,  64,  57,  35,  37,  72,   3,\n",
       "        32,   1,  69,  59,  62,  33,  30,  46,  48,  19,  18,  16,  15,\n",
       "        24,   0,  27,  14,  10,   6,  45,  47,   9,  23,  36,  21,  20,\n",
       "        55,  25,  13,   2,  74,  50,  44,  49,  56,  42,  40,  17,  12,\n",
       "        11,  67,  28,   8,  39,   7,  76,  78,  66,  29,  26,  58,  81,\n",
       "        61,  52,  79,  82,  51,   4,  83,  63,  77,  68,  84,  87,  89,\n",
       "        75,  93,  97,  86,  92,  94,  90, 101, 103, 100, 104,  99, 102,\n",
       "       105, 107])"
      ]
     },
     "execution_count": 24,
     "metadata": {},
     "output_type": "execute_result"
    }
   ],
   "source": [
    "df['Age']=df['Age'].astype(int)\n",
    "df['Age'].unique()"
   ]
  },
  {
   "cell_type": "code",
   "execution_count": 25,
   "id": "b0c251b8",
   "metadata": {},
   "outputs": [
    {
     "data": {
      "text/plain": [
       "0       31\n",
       "1       91\n",
       "2       88\n",
       "3       88\n",
       "4       73\n",
       "        ..\n",
       "9682    17\n",
       "9683    11\n",
       "9684     9\n",
       "9685     4\n",
       "9686    69\n",
       "Name: Age, Length: 9687, dtype: int32"
      ]
     },
     "execution_count": 25,
     "metadata": {},
     "output_type": "execute_result"
    }
   ],
   "source": [
    "df['Age']"
   ]
  },
  {
   "cell_type": "code",
   "execution_count": 26,
   "id": "e6cf08e3",
   "metadata": {},
   "outputs": [
    {
     "data": {
      "text/plain": [
       "array(['1', '2', '3', '4', '5', '6', '7', '8', '9', '10', '11', '12',\n",
       "       '13', '14', '15', '16', '17', '18', '19', '20', '21', '22', '23',\n",
       "       '24', '25', '26', '27', '28', '29', '30', '31', '32', '33', '34',\n",
       "       '35', '36', '37', '38', '39', '40', '41', '42', '43', '44', '45',\n",
       "       '46', '47', '48', '49', '50', '51', '52', '53', '54', '55', '56',\n",
       "       '57', '58', '59', '60', '61', '62', '63', '64', '65', '66', '67',\n",
       "       '68', '69', '70', '71', '72', '73', '74', '75', '76', '77', '78',\n",
       "       '79', '80', '81', '82', '83', '84', '85', '86', '87', '88', '89',\n",
       "       '90', '91', '92', '93', '94', '95', '96', '97', '98', '99', '100',\n",
       "       '101', '102', '103', '104', '105', '106', '107', '108', '109',\n",
       "       '110', '111', '112', '113', '114', '115', '116', '117', '118',\n",
       "       '119', '120', '121', '122', '123', '124', '125', '126', '127',\n",
       "       '128', '129', '130', '131', '132', '133', '134', '135', '136',\n",
       "       '137', '138', '139', '140', '141', '142', '143', '144', '145',\n",
       "       '146', '147', '148', '149', '150', '151', '152', '153', '154',\n",
       "       '155', '156', '157', '158', '159', '160', '161', '162', '163',\n",
       "       '164', '165', '166', '167', '168', '169', '170', '171', '172',\n",
       "       '173', '174', '175', '176', '177', '178', '179', '180', '181',\n",
       "       '182', '183', '184', '185', '186', '187', 'nine', '188', '189',\n",
       "       '190', '191', '192', '193', '194', '195', '196', '197', '198',\n",
       "       '199', '200', '201', '202', '203', '204', '205', '206', '207',\n",
       "       '208', '209', '210', '211', '212', '213', '214', '215', '216',\n",
       "       '217', '218', '219', '220', '221', '222', '223', '224', '225',\n",
       "       '226', '227', '228', nan], dtype=object)"
      ]
     },
     "execution_count": 26,
     "metadata": {},
     "output_type": "execute_result"
    }
   ],
   "source": [
    "#unique values House Number #nan #nine\n",
    "\n",
    "df['House Number'].unique()"
   ]
  },
  {
   "cell_type": "code",
   "execution_count": 27,
   "id": "f9dd76c8",
   "metadata": {},
   "outputs": [
    {
     "data": {
      "text/plain": [
       "array(['1', '2', '3', '4', '5', '6', '7', '8', '9', '10', '11', '12',\n",
       "       '13', '14', '15', '16', '17', '18', '19', '20', '21', '22', '23',\n",
       "       '24', '25', '26', '27', '28', '29', '30', '31', '32', '33', '34',\n",
       "       '35', '36', '37', '38', '39', '40', '41', '42', '43', '44', '45',\n",
       "       '46', '47', '48', '49', '50', '51', '52', '53', '54', '55', '56',\n",
       "       '57', '58', '59', '60', '61', '62', '63', '64', '65', '66', '67',\n",
       "       '68', '69', '70', '71', '72', '73', '74', '75', '76', '77', '78',\n",
       "       '79', '80', '81', '82', '83', '84', '85', '86', '87', '88', '89',\n",
       "       '90', '91', '92', '93', '94', '95', '96', '97', '98', '99', '100',\n",
       "       '101', '102', '103', '104', '105', '106', '107', '108', '109',\n",
       "       '110', '111', '112', '113', '114', '115', '116', '117', '118',\n",
       "       '119', '120', '121', '122', '123', '124', '125', '126', '127',\n",
       "       '128', '129', '130', '131', '132', '133', '134', '135', '136',\n",
       "       '137', '138', '139', '140', '141', '142', '143', '144', '145',\n",
       "       '146', '147', '148', '149', '150', '151', '152', '153', '154',\n",
       "       '155', '156', '157', '158', '159', '160', '161', '162', '163',\n",
       "       '164', '165', '166', '167', '168', '169', '170', '171', '172',\n",
       "       '173', '174', '175', '176', '177', '178', '179', '180', '181',\n",
       "       '182', '183', '184', '185', '186', '187', 9, '188', '189', '190',\n",
       "       '191', '192', '193', '194', '195', '196', '197', '198', '199',\n",
       "       '200', '201', '202', '203', '204', '205', '206', '207', '208',\n",
       "       '209', '210', '211', '212', '213', '214', '215', '216', '217',\n",
       "       '218', '219', '220', '221', '222', '223', '224', '225', '226',\n",
       "       '227', '228', nan], dtype=object)"
      ]
     },
     "execution_count": 27,
     "metadata": {},
     "output_type": "execute_result"
    }
   ],
   "source": [
    "df['House Number']=df['House Number'].replace(to_replace='nine', value=9)\n",
    "df['House Number'].unique()\n"
   ]
  },
  {
   "cell_type": "code",
   "execution_count": 28,
   "id": "a9d833e7",
   "metadata": {},
   "outputs": [
    {
     "data": {
      "text/plain": [
       "array(['1', '2', '3', '4', '5', '6', '7', '8', '9', '10', '11', '12',\n",
       "       '13', '14', '15', '16', '17', '18', '19', '20', '21', '22', '23',\n",
       "       '24', '25', '26', '27', '28', '29', '30', '31', '32', '33', '34',\n",
       "       '35', '36', '37', '38', '39', '40', '41', '42', '43', '44', '45',\n",
       "       '46', '47', '48', '49', '50', '51', '52', '53', '54', '55', '56',\n",
       "       '57', '58', '59', '60', '61', '62', '63', '64', '65', '66', '67',\n",
       "       '68', '69', '70', '71', '72', '73', '74', '75', '76', '77', '78',\n",
       "       '79', '80', '81', '82', '83', '84', '85', '86', '87', '88', '89',\n",
       "       '90', '91', '92', '93', '94', '95', '96', '97', '98', '99', '100',\n",
       "       '101', '102', '103', '104', '105', '106', '107', '108', '109',\n",
       "       '110', '111', '112', '113', '114', '115', '116', '117', '118',\n",
       "       '119', '120', '121', '122', '123', '124', '125', '126', '127',\n",
       "       '128', '129', '130', '131', '132', '133', '134', '135', '136',\n",
       "       '137', '138', '139', '140', '141', '142', '143', '144', '145',\n",
       "       '146', '147', '148', '149', '150', '151', '152', '153', '154',\n",
       "       '155', '156', '157', '158', '159', '160', '161', '162', '163',\n",
       "       '164', '165', '166', '167', '168', '169', '170', '171', '172',\n",
       "       '173', '174', '175', '176', '177', '178', '179', '180', '181',\n",
       "       '182', '183', '184', '185', '186', '187', 9, '188', '189', '190',\n",
       "       '191', '192', '193', '194', '195', '196', '197', '198', '199',\n",
       "       '200', '201', '202', '203', '204', '205', '206', '207', '208',\n",
       "       '209', '210', '211', '212', '213', '214', '215', '216', '217',\n",
       "       '218', '219', '220', '221', '222', '223', '224', '225', '226',\n",
       "       '227', '228', 0], dtype=object)"
      ]
     },
     "execution_count": 28,
     "metadata": {},
     "output_type": "execute_result"
    }
   ],
   "source": [
    "df['House Number'] = df['House Number'].fillna(0)\n",
    "df['House Number'].unique()\n"
   ]
  },
  {
   "cell_type": "code",
   "execution_count": 29,
   "id": "40fed348",
   "metadata": {},
   "outputs": [
    {
     "data": {
      "text/plain": [
       "array([  1,   2,   3,   4,   5,   6,   7,   8,   9,  10,  11,  12,  13,\n",
       "        14,  15,  16,  17,  18,  19,  20,  21,  22,  23,  24,  25,  26,\n",
       "        27,  28,  29,  30,  31,  32,  33,  34,  35,  36,  37,  38,  39,\n",
       "        40,  41,  42,  43,  44,  45,  46,  47,  48,  49,  50,  51,  52,\n",
       "        53,  54,  55,  56,  57,  58,  59,  60,  61,  62,  63,  64,  65,\n",
       "        66,  67,  68,  69,  70,  71,  72,  73,  74,  75,  76,  77,  78,\n",
       "        79,  80,  81,  82,  83,  84,  85,  86,  87,  88,  89,  90,  91,\n",
       "        92,  93,  94,  95,  96,  97,  98,  99, 100, 101, 102, 103, 104,\n",
       "       105, 106, 107, 108, 109, 110, 111, 112, 113, 114, 115, 116, 117,\n",
       "       118, 119, 120, 121, 122, 123, 124, 125, 126, 127, 128, 129, 130,\n",
       "       131, 132, 133, 134, 135, 136, 137, 138, 139, 140, 141, 142, 143,\n",
       "       144, 145, 146, 147, 148, 149, 150, 151, 152, 153, 154, 155, 156,\n",
       "       157, 158, 159, 160, 161, 162, 163, 164, 165, 166, 167, 168, 169,\n",
       "       170, 171, 172, 173, 174, 175, 176, 177, 178, 179, 180, 181, 182,\n",
       "       183, 184, 185, 186, 187, 188, 189, 190, 191, 192, 193, 194, 195,\n",
       "       196, 197, 198, 199, 200, 201, 202, 203, 204, 205, 206, 207, 208,\n",
       "       209, 210, 211, 212, 213, 214, 215, 216, 217, 218, 219, 220, 221,\n",
       "       222, 223, 224, 225, 226, 227, 228,   0])"
      ]
     },
     "execution_count": 29,
     "metadata": {},
     "output_type": "execute_result"
    }
   ],
   "source": [
    "df['House Number']=df['House Number'].astype(int)\n",
    "df['House Number'].unique()"
   ]
  },
  {
   "cell_type": "code",
   "execution_count": 30,
   "id": "545f2c3d",
   "metadata": {},
   "outputs": [
    {
     "data": {
      "text/plain": [
       "0       1\n",
       "1       2\n",
       "2       3\n",
       "3       3\n",
       "4       4\n",
       "       ..\n",
       "9682    1\n",
       "9683    1\n",
       "9684    1\n",
       "9685    1\n",
       "9686    1\n",
       "Name: House Number, Length: 9687, dtype: int32"
      ]
     },
     "execution_count": 30,
     "metadata": {},
     "output_type": "execute_result"
    }
   ],
   "source": [
    "df['House Number']"
   ]
  },
  {
   "cell_type": "code",
   "execution_count": 31,
   "id": "a35e50ab",
   "metadata": {},
   "outputs": [
    {
     "data": {
      "text/plain": [
       "array(['Barry Avenue', 'Peacock Avenue', 'Merlin Locks', nan,\n",
       "       'Smith Street', 'Peterborough Bypass', 'Shaw Key',\n",
       "       'Harrison Vista', 'Cellar Street', 'Vincent Stream', 'Baker Locks',\n",
       "       'Rogers Parkways', 'Thompson Causeway', 'Wong Islands',\n",
       "       'Cook Coves', 'Bell Vista', 'Brightwater Locks', 'Silver Wells',\n",
       "       'Plymouth Lane', 'Dove Road', 'Clementine Plaza', 'Hayes Radial',\n",
       "       'Anglia Creek', 'Plymouthpull Avenue', 'Baldwin Street',\n",
       "       'Bastille Junction', 'Solsticekit Lane', 'Lee Stravenue',\n",
       "       'Davis Crossroad', 'Reeves Lane', 'Carlisle Avenue',\n",
       "       'Parkes Avenue', 'Collins Street', 'Bentley Street', 'Bishop Road',\n",
       "       'Orchard Street', 'Carlisle Fort', 'Evans Street', 'Cinnamon Lane',\n",
       "       'Honeysucklebag Avenue', 'Baker Land', 'Lynch Row',\n",
       "       'ExcaliburBellsgain Lane', 'Easter Ridge', 'West Mount',\n",
       "       'Peterborough Circle', 'Lightning Cape', 'Edwards Stream',\n",
       "       'Knight Street', 'Protectorate Station', 'Glorious Fort',\n",
       "       'Yates Burg', 'Perth Wells', 'Pearson Drive', 'Leicester Drive',\n",
       "       'Ali Estates', 'Tulip Loop', 'Brennan Drive', 'Honeysuckle Place',\n",
       "       'Coconut Parkway', 'Gregory Rapids', 'Mercia Lane', 'Burns Road',\n",
       "       'Wells Parkway', 'Cox Shoal', 'Tulip Street', 'Smith Pines',\n",
       "       'Whitehead Street', 'Anglia Well', 'Mary Road', 'Yucca Square',\n",
       "       'Smith Lodge', 'Waterloo Street', 'Hopenod Avenue',\n",
       "       'Phillips Harbors', 'Moss Glen', 'Holt Mountain', 'Brown Ridge',\n",
       "       'Smith Forges', 'Rose Drive', 'Threpenny Viaduct',\n",
       "       'Kestrel Avenue', 'Taylor Well', 'Yellow Inlet',\n",
       "       'Appletree Islands', 'Peterborough Pines', 'Jones Hill',\n",
       "       'Gray Avenue', 'Morgan Common', 'Hereford Lane', 'Burton Avenue',\n",
       "       'December Rocks', 'Charity Obervatory', 'Stone Inn',\n",
       "       'Mahogany Spire', 'Baker Fortress', 'Wells Farm', 'Burns Rocks',\n",
       "       'Woods Fortress', 'Charity Hall', 'Dixon Granary',\n",
       "       'Stirling Spire', 'Hollywood Farm', 'Reindeer Lodge',\n",
       "       'Williams Manorhouse', 'Duck Hall'], dtype=object)"
      ]
     },
     "execution_count": 31,
     "metadata": {},
     "output_type": "execute_result"
    }
   ],
   "source": [
    "# unique value street #nan\n",
    "df['Street'].unique()"
   ]
  },
  {
   "cell_type": "code",
   "execution_count": 32,
   "id": "859da9fc",
   "metadata": {},
   "outputs": [
    {
     "name": "stdout",
     "output_type": "stream",
     "text": [
      "Mode: 0    Lee Stravenue\n",
      "dtype: object\n"
     ]
    }
   ],
   "source": [
    "Street=df['Street']\n",
    "print(\"Mode:\", Street.mode())"
   ]
  },
  {
   "cell_type": "code",
   "execution_count": 33,
   "id": "b667aa77",
   "metadata": {},
   "outputs": [
    {
     "data": {
      "text/plain": [
       "2442    Lee Stravenue\n",
       "2443    Lee Stravenue\n",
       "2444    Lee Stravenue\n",
       "2445    Lee Stravenue\n",
       "2446    Lee Stravenue\n",
       "            ...      \n",
       "3635    Lee Stravenue\n",
       "3636    Lee Stravenue\n",
       "3637    Lee Stravenue\n",
       "3638    Lee Stravenue\n",
       "3639    Lee Stravenue\n",
       "Name: Street, Length: 1198, dtype: object"
      ]
     },
     "execution_count": 33,
     "metadata": {},
     "output_type": "execute_result"
    }
   ],
   "source": [
    "df['Street'][df['Street']=='Lee Stravenue']"
   ]
  },
  {
   "cell_type": "code",
   "execution_count": 34,
   "id": "c9fdafb3",
   "metadata": {},
   "outputs": [
    {
     "data": {
      "text/plain": [
       "count              9686\n",
       "unique              105\n",
       "top       Lee Stravenue\n",
       "freq               1198\n",
       "Name: Street, dtype: object"
      ]
     },
     "execution_count": 34,
     "metadata": {},
     "output_type": "execute_result"
    }
   ],
   "source": [
    "df['Street'].describe()"
   ]
  },
  {
   "cell_type": "code",
   "execution_count": 35,
   "id": "8e011e96",
   "metadata": {},
   "outputs": [
    {
     "data": {
      "text/plain": [
       "array(['Barry Avenue', 'Peacock Avenue', 'Merlin Locks', 'Lee Stravenue',\n",
       "       'Smith Street', 'Peterborough Bypass', 'Shaw Key',\n",
       "       'Harrison Vista', 'Cellar Street', 'Vincent Stream', 'Baker Locks',\n",
       "       'Rogers Parkways', 'Thompson Causeway', 'Wong Islands',\n",
       "       'Cook Coves', 'Bell Vista', 'Brightwater Locks', 'Silver Wells',\n",
       "       'Plymouth Lane', 'Dove Road', 'Clementine Plaza', 'Hayes Radial',\n",
       "       'Anglia Creek', 'Plymouthpull Avenue', 'Baldwin Street',\n",
       "       'Bastille Junction', 'Solsticekit Lane', 'Davis Crossroad',\n",
       "       'Reeves Lane', 'Carlisle Avenue', 'Parkes Avenue',\n",
       "       'Collins Street', 'Bentley Street', 'Bishop Road',\n",
       "       'Orchard Street', 'Carlisle Fort', 'Evans Street', 'Cinnamon Lane',\n",
       "       'Honeysucklebag Avenue', 'Baker Land', 'Lynch Row',\n",
       "       'ExcaliburBellsgain Lane', 'Easter Ridge', 'West Mount',\n",
       "       'Peterborough Circle', 'Lightning Cape', 'Edwards Stream',\n",
       "       'Knight Street', 'Protectorate Station', 'Glorious Fort',\n",
       "       'Yates Burg', 'Perth Wells', 'Pearson Drive', 'Leicester Drive',\n",
       "       'Ali Estates', 'Tulip Loop', 'Brennan Drive', 'Honeysuckle Place',\n",
       "       'Coconut Parkway', 'Gregory Rapids', 'Mercia Lane', 'Burns Road',\n",
       "       'Wells Parkway', 'Cox Shoal', 'Tulip Street', 'Smith Pines',\n",
       "       'Whitehead Street', 'Anglia Well', 'Mary Road', 'Yucca Square',\n",
       "       'Smith Lodge', 'Waterloo Street', 'Hopenod Avenue',\n",
       "       'Phillips Harbors', 'Moss Glen', 'Holt Mountain', 'Brown Ridge',\n",
       "       'Smith Forges', 'Rose Drive', 'Threpenny Viaduct',\n",
       "       'Kestrel Avenue', 'Taylor Well', 'Yellow Inlet',\n",
       "       'Appletree Islands', 'Peterborough Pines', 'Jones Hill',\n",
       "       'Gray Avenue', 'Morgan Common', 'Hereford Lane', 'Burton Avenue',\n",
       "       'December Rocks', 'Charity Obervatory', 'Stone Inn',\n",
       "       'Mahogany Spire', 'Baker Fortress', 'Wells Farm', 'Burns Rocks',\n",
       "       'Woods Fortress', 'Charity Hall', 'Dixon Granary',\n",
       "       'Stirling Spire', 'Hollywood Farm', 'Reindeer Lodge',\n",
       "       'Williams Manorhouse', 'Duck Hall'], dtype=object)"
      ]
     },
     "execution_count": 35,
     "metadata": {},
     "output_type": "execute_result"
    }
   ],
   "source": [
    "df['Street'] = df['Street'].replace(to_replace=np.nan, value='Lee Stravenue')\n",
    "df['Street'].unique()"
   ]
  },
  {
   "cell_type": "code",
   "execution_count": 36,
   "id": "1273ae1d",
   "metadata": {},
   "outputs": [
    {
     "data": {
      "text/plain": [
       "array(['Gail', 'Grace', 'John', 'Andrea', 'Jade', 'Sylvia', 'Denis',\n",
       "       'Carolyn', 'Irene', 'Mathew', 'Helen', 'Gareth', 'Susan', 'Emily',\n",
       "       'Shaun', 'Joel', 'Ross', 'Wayne', 'Molly', 'Jason', 'Aimee',\n",
       "       'Eileen', 'Liam', 'Damien', 'Jenna', 'Catherine', 'Teresa', 'Mary',\n",
       "       'Hayley', 'Glenn', 'Victor', 'Wendy', 'Raymond', 'Ann', 'Timothy',\n",
       "       'Antony', 'Adam', 'Sophie', 'Stewart', 'Hannah', 'Valerie',\n",
       "       'Nicholas', 'Maria', 'Anthony', 'George', 'Owen', 'Simon',\n",
       "       'Claire', 'Shannon', 'Terence', 'Katherine', 'Brian', 'Brandon',\n",
       "       'Chelsea', 'Charlotte', 'Olivia', 'Lewis', 'Jack', 'Yvonne',\n",
       "       'Rhys', 'Joan', 'Josephine', 'Mohammed', 'Laura', 'Gerard', 'Roy',\n",
       "       'Elliot', 'Ashley', 'Lynne', 'Edward', 'Christopher', 'Sandra',\n",
       "       'Lisa', 'Lesley', 'Derek', 'Francesca', 'Sheila', 'Ryan',\n",
       "       'Rachael', 'Jodie', 'William', 'Jamie', 'Clive', 'Arthur', 'Ellie',\n",
       "       'Rosemary', 'Oliver', 'Sally', 'Abigail', 'Lucy', 'Sharon',\n",
       "       'Benjamin', 'Bethan', 'Nicola', 'Paula', 'Marion', 'Allan', 'Neil',\n",
       "       'Marc', 'Amy', 'Lynn', 'Douglas', 'Louise', 'Jeffrey', 'Angela',\n",
       "       'Anne', 'Nigel', 'Stacey', 'Adrian', 'Carly', 'Dorothy', 'Joseph',\n",
       "       'Paige', 'Christian', 'Linda', 'Philip', 'Steven', 'Paul', 'Reece',\n",
       "       'Lauren', 'Alan', 'Daniel', 'Gavin', 'Dominic', 'Gordon',\n",
       "       'Stanley', 'Jane', 'Leonard', 'Harry', 'Judith', 'Alice', 'Naomi',\n",
       "       'Sara', 'Hilary', 'Lynda', 'Glen', 'Melanie', 'Alison', 'Rosie',\n",
       "       'Keith', 'Jasmine', 'Kathryn', 'Victoria', 'Geraldine', 'Carole',\n",
       "       'Brenda', 'Kayleigh', 'Toby', 'Joshua', 'Andrew', 'Kathleen',\n",
       "       'Karl', 'Beverley', 'David', 'Amelia', 'Lydia', 'Abbie', 'Joyce',\n",
       "       'Gemma', 'James', 'Norman', 'Samantha', 'Gary', 'Leah', 'Thomas',\n",
       "       'Christine', 'Jake', 'Eric', 'Jill', 'Pauline', 'Bryan', 'Marilyn',\n",
       "       'Alex', 'Maurice', 'Stephen', 'Richard', 'Rebecca', 'Tina',\n",
       "       'Frank', 'Shane', 'Charles', 'Abdul', 'Elaine', 'Robert',\n",
       "       'Patricia', 'Graham', 'Russell', 'Diana', 'Leanne', 'Dennis',\n",
       "       'Gillian', 'Barbara', 'Declan', 'Julian', 'Janice', 'Henry',\n",
       "       'Tracey', 'Carol', 'Dale', 'Ronald', 'Martyn', 'Julie', 'Kyle',\n",
       "       'Ruth', 'Fiona', 'Amber', 'Katie', 'Holly', 'Peter', 'Connor',\n",
       "       'Cheryl', 'Elizabeth', 'Jemma', 'Kim', 'Damian', 'Vanessa', 'Kate',\n",
       "       'Callum', 'Bruce', 'Clare', 'Jay', 'Iain', 'Jennifer', 'Lee',\n",
       "       'Mandy', 'Gerald', 'Marcus', 'Danny', 'Hollie', 'Jordan', 'Howard',\n",
       "       'Melissa', 'Mohamed', 'Rachel', 'Lindsey', 'Dylan', 'Albert',\n",
       "       'Jacqueline', 'Phillip', 'Zoe', 'Cameron', 'Donna', 'Denise',\n",
       "       'Heather', 'Stuart', 'Katy', 'Sarah', 'Dean', 'Guy', 'Eleanor',\n",
       "       'Maureen', 'Matthew', 'Marie', 'Scott', 'Shirley', 'Rita', 'Chloe',\n",
       "       'Martin', 'Darren', 'Frederick', 'Sean', 'Hazel', 'Elliott',\n",
       "       'Roger', 'Samuel', 'Louis', 'Billy', 'Lorraine', 'Craig', 'Debra',\n",
       "       'Ian', 'Garry', 'Aaron', 'Marian', 'Ashleigh', 'Vincent',\n",
       "       'Mitchell', 'Jeremy', 'Kimberley', 'Ben', 'Luke', 'Deborah',\n",
       "       'Charlie', 'Kirsty', 'Bradley', 'Carl', 'Nathan', 'Barry',\n",
       "       'Joanne', 'Brett', 'Kieran', 'Jean', 'Harriet', 'Leslie', 'Justin',\n",
       "       'Megan', 'Max', 'Bethany', 'Pamela', 'Jacob', 'Clifford', 'Kerry',\n",
       "       'Colin', 'Kenneth', 'Danielle', 'Robin', 'Bernard', 'Leigh',\n",
       "       'Amanda', 'Michael', 'Lawrence', 'Gregory', 'Ricky', 'Margaret',\n",
       "       'Donald', 'Graeme', 'Joanna', 'Natasha', 'Conor', 'Tom', 'Diane',\n",
       "       'Tracy', 'Charlene', 'Julia', 'Georgina', 'Emma', 'Beth',\n",
       "       'Mohammad', 'Anna', 'Suzanne', 'Trevor', 'Jessica', 'Jayne',\n",
       "       'Frances', 'Geoffrey', 'Georgia', 'Francis', 'Josh', 'Sian',\n",
       "       'Kevin', 'Michelle', 'Tony', 'Stephanie', 'Kelly', 'Nicole',\n",
       "       'Dawn', 'Joe', 'Hugh', 'Patrick', 'Sam', 'Jonathan', 'Malcolm',\n",
       "       'Mark', 'Janet', 'Caroline', 'Alexandra', 'Karen', 'Terry',\n",
       "       'Annette', 'June', 'Leon', 'Duncan', 'Natalie', 'Alexander',\n",
       "       'Jo-anne', 'Marie Kondo', 'Daniel Day', 'B', 'S', nan, 'E'],\n",
       "      dtype=object)"
      ]
     },
     "execution_count": 36,
     "metadata": {},
     "output_type": "execute_result"
    }
   ],
   "source": [
    "# unique value First Name\n",
    "df['First Name'].unique() #B, #S, #nan, #E "
   ]
  },
  {
   "cell_type": "code",
   "execution_count": 37,
   "id": "023c3a4f",
   "metadata": {},
   "outputs": [
    {
     "data": {
      "text/plain": [
       "2680    B\n",
       "Name: First Name, dtype: object"
      ]
     },
     "execution_count": 37,
     "metadata": {},
     "output_type": "execute_result"
    }
   ],
   "source": [
    "df['First Name'][df['First Name']=='B']"
   ]
  },
  {
   "cell_type": "code",
   "execution_count": 38,
   "id": "0e1d5a88",
   "metadata": {},
   "outputs": [
    {
     "data": {
      "text/plain": [
       "House Number                                          37\n",
       "Street                                     Lee Stravenue\n",
       "First Name                                             B\n",
       "Surname                                             Hill\n",
       "Age                                                   16\n",
       "Relationship to Head of House                        Son\n",
       "Marital Status                                       NaN\n",
       "Gender                                              Male\n",
       "Occupation                                       Student\n",
       "Infirmity                                           None\n",
       "Religion                                             NaN\n",
       "House Number_ismissing                             False\n",
       "Street_ismissing                                   False\n",
       "First Name_ismissing                               False\n",
       "Surname_ismissing                                  False\n",
       "Relationship to Head of House_ismissing            False\n",
       "Marital Status_ismissing                            True\n",
       "Gender_ismissing                                   False\n",
       "Religion_ismissing                                  True\n",
       "num_missing                                            2\n",
       "Name: 2680, dtype: object"
      ]
     },
     "execution_count": 38,
     "metadata": {},
     "output_type": "execute_result"
    }
   ],
   "source": [
    "df.loc[2680]"
   ]
  },
  {
   "cell_type": "code",
   "execution_count": 39,
   "id": "b258cfd2",
   "metadata": {},
   "outputs": [
    {
     "data": {
      "text/plain": [
       "2703    S\n",
       "Name: First Name, dtype: object"
      ]
     },
     "execution_count": 39,
     "metadata": {},
     "output_type": "execute_result"
    }
   ],
   "source": [
    "df['First Name'][df['First Name']=='S']"
   ]
  },
  {
   "cell_type": "code",
   "execution_count": 40,
   "id": "32454ada",
   "metadata": {},
   "outputs": [
    {
     "data": {
      "text/plain": [
       "House Number                                                     41\n",
       "Street                                                Lee Stravenue\n",
       "First Name                                                        S\n",
       "Surname                                                       Smith\n",
       "Age                                                              33\n",
       "Relationship to Head of House                                  None\n",
       "Marital Status                                               Single\n",
       "Gender                                                       Female\n",
       "Occupation                                 Magazine features editor\n",
       "Infirmity                                                      None\n",
       "Religion                                                     Muslim\n",
       "House Number_ismissing                                        False\n",
       "Street_ismissing                                              False\n",
       "First Name_ismissing                                          False\n",
       "Surname_ismissing                                             False\n",
       "Relationship to Head of House_ismissing                       False\n",
       "Marital Status_ismissing                                      False\n",
       "Gender_ismissing                                              False\n",
       "Religion_ismissing                                            False\n",
       "num_missing                                                       0\n",
       "Name: 2703, dtype: object"
      ]
     },
     "execution_count": 40,
     "metadata": {},
     "output_type": "execute_result"
    }
   ],
   "source": [
    "df.loc[2703]"
   ]
  },
  {
   "cell_type": "code",
   "execution_count": 41,
   "id": "b26ed9d7",
   "metadata": {},
   "outputs": [
    {
     "data": {
      "text/plain": [
       "8117    E\n",
       "Name: First Name, dtype: object"
      ]
     },
     "execution_count": 41,
     "metadata": {},
     "output_type": "execute_result"
    }
   ],
   "source": [
    "df['First Name'][df['First Name']=='E']"
   ]
  },
  {
   "cell_type": "code",
   "execution_count": 42,
   "id": "1d006afc",
   "metadata": {},
   "outputs": [
    {
     "data": {
      "text/plain": [
       "House Number                                                     47\n",
       "Street                                               Hopenod Avenue\n",
       "First Name                                                        E\n",
       "Surname                                                      Walker\n",
       "Age                                                              54\n",
       "Relationship to Head of House                                  Head\n",
       "Marital Status                                               Single\n",
       "Gender                                                       Female\n",
       "Occupation                                 Therapist, horticultural\n",
       "Infirmity                                                      None\n",
       "Religion                                                   Catholic\n",
       "House Number_ismissing                                        False\n",
       "Street_ismissing                                              False\n",
       "First Name_ismissing                                          False\n",
       "Surname_ismissing                                             False\n",
       "Relationship to Head of House_ismissing                       False\n",
       "Marital Status_ismissing                                      False\n",
       "Gender_ismissing                                              False\n",
       "Religion_ismissing                                            False\n",
       "num_missing                                                       0\n",
       "Name: 8117, dtype: object"
      ]
     },
     "execution_count": 42,
     "metadata": {},
     "output_type": "execute_result"
    }
   ],
   "source": [
    "df.loc[8117]"
   ]
  },
  {
   "cell_type": "code",
   "execution_count": 43,
   "id": "af7e34b3",
   "metadata": {},
   "outputs": [
    {
     "data": {
      "text/plain": [
       "array(['Gail', 'Grace', 'John', 'Andrea', 'Jade', 'Sylvia', 'Denis',\n",
       "       'Carolyn', 'Irene', 'Mathew', 'Helen', 'Gareth', 'Susan', 'Emily',\n",
       "       'Shaun', 'Joel', 'Ross', 'Wayne', 'Molly', 'Jason', 'Aimee',\n",
       "       'Eileen', 'Liam', 'Damien', 'Jenna', 'Catherine', 'Teresa', 'Mary',\n",
       "       'Hayley', 'Glenn', 'Victor', 'Wendy', 'Raymond', 'Ann', 'Timothy',\n",
       "       'Antony', 'Adam', 'Sophie', 'Stewart', 'Hannah', 'Valerie',\n",
       "       'Nicholas', 'Maria', 'Anthony', 'George', 'Owen', 'Simon',\n",
       "       'Claire', 'Shannon', 'Terence', 'Katherine', 'Brian', 'Brandon',\n",
       "       'Chelsea', 'Charlotte', 'Olivia', 'Lewis', 'Jack', 'Yvonne',\n",
       "       'Rhys', 'Joan', 'Josephine', 'Mohammed', 'Laura', 'Gerard', 'Roy',\n",
       "       'Elliot', 'Ashley', 'Lynne', 'Edward', 'Christopher', 'Sandra',\n",
       "       'Lisa', 'Lesley', 'Derek', 'Francesca', 'Sheila', 'Ryan',\n",
       "       'Rachael', 'Jodie', 'William', 'Jamie', 'Clive', 'Arthur', 'Ellie',\n",
       "       'Rosemary', 'Oliver', 'Sally', 'Abigail', 'Lucy', 'Sharon',\n",
       "       'Benjamin', 'Bethan', 'Nicola', 'Paula', 'Marion', 'Allan', 'Neil',\n",
       "       'Marc', 'Amy', 'Lynn', 'Douglas', 'Louise', 'Jeffrey', 'Angela',\n",
       "       'Anne', 'Nigel', 'Stacey', 'Adrian', 'Carly', 'Dorothy', 'Joseph',\n",
       "       'Paige', 'Christian', 'Linda', 'Philip', 'Steven', 'Paul', 'Reece',\n",
       "       'Lauren', 'Alan', 'Daniel', 'Gavin', 'Dominic', 'Gordon',\n",
       "       'Stanley', 'Jane', 'Leonard', 'Harry', 'Judith', 'Alice', 'Naomi',\n",
       "       'Sara', 'Hilary', 'Lynda', 'Glen', 'Melanie', 'Alison', 'Rosie',\n",
       "       'Keith', 'Jasmine', 'Kathryn', 'Victoria', 'Geraldine', 'Carole',\n",
       "       'Brenda', 'Kayleigh', 'Toby', 'Joshua', 'Andrew', 'Kathleen',\n",
       "       'Karl', 'Beverley', 'David', 'Amelia', 'Lydia', 'Abbie', 'Joyce',\n",
       "       'Gemma', 'James', 'Norman', 'Samantha', 'Gary', 'Leah', 'Thomas',\n",
       "       'Christine', 'Jake', 'Eric', 'Jill', 'Pauline', 'Bryan', 'Marilyn',\n",
       "       'Alex', 'Maurice', 'Stephen', 'Richard', 'Rebecca', 'Tina',\n",
       "       'Frank', 'Shane', 'Charles', 'Abdul', 'Elaine', 'Robert',\n",
       "       'Patricia', 'Graham', 'Russell', 'Diana', 'Leanne', 'Dennis',\n",
       "       'Gillian', 'Barbara', 'Declan', 'Julian', 'Janice', 'Henry',\n",
       "       'Tracey', 'Carol', 'Dale', 'Ronald', 'Martyn', 'Julie', 'Kyle',\n",
       "       'Ruth', 'Fiona', 'Amber', 'Katie', 'Holly', 'Peter', 'Connor',\n",
       "       'Cheryl', 'Elizabeth', 'Jemma', 'Kim', 'Damian', 'Vanessa', 'Kate',\n",
       "       'Callum', 'Bruce', 'Clare', 'Jay', 'Iain', 'Jennifer', 'Lee',\n",
       "       'Mandy', 'Gerald', 'Marcus', 'Danny', 'Hollie', 'Jordan', 'Howard',\n",
       "       'Melissa', 'Mohamed', 'Rachel', 'Lindsey', 'Dylan', 'Albert',\n",
       "       'Jacqueline', 'Phillip', 'Zoe', 'Cameron', 'Donna', 'Denise',\n",
       "       'Heather', 'Stuart', 'Katy', 'Sarah', 'Dean', 'Guy', 'Eleanor',\n",
       "       'Maureen', 'Matthew', 'Marie', 'Scott', 'Shirley', 'Rita', 'Chloe',\n",
       "       'Martin', 'Darren', 'Frederick', 'Sean', 'Hazel', 'Elliott',\n",
       "       'Roger', 'Samuel', 'Louis', 'Billy', 'Lorraine', 'Craig', 'Debra',\n",
       "       'Ian', 'Garry', 'Aaron', 'Marian', 'Ashleigh', 'Vincent',\n",
       "       'Mitchell', 'Jeremy', 'Kimberley', 'Ben', 'Luke', 'Deborah',\n",
       "       'Charlie', 'Kirsty', 'Bradley', 'Carl', 'Nathan', 'Barry',\n",
       "       'Joanne', 'Brett', 'Kieran', 'Jean', 'Harriet', 'Leslie', 'Justin',\n",
       "       'Megan', 'Max', 'Bethany', 'Pamela', 'Jacob', 'Clifford', 'Kerry',\n",
       "       'Colin', 'Kenneth', 'Danielle', 'Robin', 'Bernard', 'Leigh',\n",
       "       'Amanda', 'Michael', 'Lawrence', 'Gregory', 'Ricky', 'Margaret',\n",
       "       'Donald', 'Graeme', 'Joanna', 'Natasha', 'Conor', 'Tom', 'Diane',\n",
       "       'Tracy', 'Charlene', 'Julia', 'Georgina', 'Emma', 'Beth',\n",
       "       'Mohammad', 'Anna', 'Suzanne', 'Trevor', 'Jessica', 'Jayne',\n",
       "       'Frances', 'Geoffrey', 'Georgia', 'Francis', 'Josh', 'Sian',\n",
       "       'Kevin', 'Michelle', 'Tony', 'Stephanie', 'Kelly', 'Nicole',\n",
       "       'Dawn', 'Joe', 'Hugh', 'Patrick', 'Sam', 'Jonathan', 'Malcolm',\n",
       "       'Mark', 'Janet', 'Caroline', 'Alexandra', 'Karen', 'Terry',\n",
       "       'Annette', 'June', 'Leon', 'Duncan', 'Natalie', 'Alexander',\n",
       "       'Jo-Anne', 'Marie Kondo', 'Daniel Day', nan], dtype=object)"
      ]
     },
     "execution_count": 43,
     "metadata": {},
     "output_type": "execute_result"
    }
   ],
   "source": [
    "df['First Name']=df['First Name'].replace(to_replace='B', value=np.nan)\n",
    "df['First Name']=df['First Name'].replace(to_replace='S', value=np.nan)\n",
    "df['First Name']=df['First Name'].replace(to_replace='E', value=np.nan)\n",
    "df['First Name']=df['First Name'].replace(to_replace='Jo-anne', value='Jo-Anne')\n",
    "df['First Name'].unique()\n"
   ]
  },
  {
   "cell_type": "code",
   "execution_count": 44,
   "id": "c7afb7c5",
   "metadata": {},
   "outputs": [
    {
     "data": {
      "text/plain": [
       "array(['Gail', 'Grace', 'John', 'Andrea', 'Jade', 'Sylvia', 'Denis',\n",
       "       'Carolyn', 'Irene', 'Mathew', 'Helen', 'Gareth', 'Susan', 'Emily',\n",
       "       'Shaun', 'Joel', 'Ross', 'Wayne', 'Molly', 'Jason', 'Aimee',\n",
       "       'Eileen', 'Liam', 'Damien', 'Jenna', 'Catherine', 'Teresa', 'Mary',\n",
       "       'Hayley', 'Glenn', 'Victor', 'Wendy', 'Raymond', 'Ann', 'Timothy',\n",
       "       'Antony', 'Adam', 'Sophie', 'Stewart', 'Hannah', 'Valerie',\n",
       "       'Nicholas', 'Maria', 'Anthony', 'George', 'Owen', 'Simon',\n",
       "       'Claire', 'Shannon', 'Terence', 'Katherine', 'Brian', 'Brandon',\n",
       "       'Chelsea', 'Charlotte', 'Olivia', 'Lewis', 'Jack', 'Yvonne',\n",
       "       'Rhys', 'Joan', 'Josephine', 'Mohammed', 'Laura', 'Gerard', 'Roy',\n",
       "       'Elliot', 'Ashley', 'Lynne', 'Edward', 'Christopher', 'Sandra',\n",
       "       'Lisa', 'Lesley', 'Derek', 'Francesca', 'Sheila', 'Ryan',\n",
       "       'Rachael', 'Jodie', 'William', 'Jamie', 'Clive', 'Arthur', 'Ellie',\n",
       "       'Rosemary', 'Oliver', 'Sally', 'Abigail', 'Lucy', 'Sharon',\n",
       "       'Benjamin', 'Bethan', 'Nicola', 'Paula', 'Marion', 'Allan', 'Neil',\n",
       "       'Marc', 'Amy', 'Lynn', 'Douglas', 'Louise', 'Jeffrey', 'Angela',\n",
       "       'Anne', 'Nigel', 'Stacey', 'Adrian', 'Carly', 'Dorothy', 'Joseph',\n",
       "       'Paige', 'Christian', 'Linda', 'Philip', 'Steven', 'Paul', 'Reece',\n",
       "       'Lauren', 'Alan', 'Daniel', 'Gavin', 'Dominic', 'Gordon',\n",
       "       'Stanley', 'Jane', 'Leonard', 'Harry', 'Judith', 'Alice', 'Naomi',\n",
       "       'Sara', 'Hilary', 'Lynda', 'Glen', 'Melanie', 'Alison', 'Rosie',\n",
       "       'Keith', 'Jasmine', 'Kathryn', 'Victoria', 'Geraldine', 'Carole',\n",
       "       'Brenda', 'Kayleigh', 'Toby', 'Joshua', 'Andrew', 'Kathleen',\n",
       "       'Karl', 'Beverley', 'David', 'Amelia', 'Lydia', 'Abbie', 'Joyce',\n",
       "       'Gemma', 'James', 'Norman', 'Samantha', 'Gary', 'Leah', 'Thomas',\n",
       "       'Christine', 'Jake', 'Eric', 'Jill', 'Pauline', 'Bryan', 'Marilyn',\n",
       "       'Alex', 'Maurice', 'Stephen', 'Richard', 'Rebecca', 'Tina',\n",
       "       'Frank', 'Shane', 'Charles', 'Abdul', 'Elaine', 'Robert',\n",
       "       'Patricia', 'Graham', 'Russell', 'Diana', 'Leanne', 'Dennis',\n",
       "       'Gillian', 'Barbara', 'Declan', 'Julian', 'Janice', 'Henry',\n",
       "       'Tracey', 'Carol', 'Dale', 'Ronald', 'Martyn', 'Julie', 'Kyle',\n",
       "       'Ruth', 'Fiona', 'Amber', 'Katie', 'Holly', 'Peter', 'Connor',\n",
       "       'Cheryl', 'Elizabeth', 'Jemma', 'Kim', 'Damian', 'Vanessa', 'Kate',\n",
       "       'Callum', 'Bruce', 'Clare', 'Jay', 'Iain', 'Jennifer', 'Lee',\n",
       "       'Mandy', 'Gerald', 'Marcus', 'Danny', 'Hollie', 'Jordan', 'Howard',\n",
       "       'Melissa', 'Mohamed', 'Rachel', 'Lindsey', 'Dylan', 'Albert',\n",
       "       'Jacqueline', 'Phillip', 'Zoe', 'Cameron', 'Donna', 'Denise',\n",
       "       'Heather', 'Stuart', 'Katy', 'Sarah', 'Dean', 'Guy', 'Eleanor',\n",
       "       'Maureen', 'Matthew', 'Marie', 'Scott', 'Shirley', 'Rita', 'Chloe',\n",
       "       'Martin', 'Darren', 'Frederick', 'Sean', 'Hazel', 'Elliott',\n",
       "       'Roger', 'Samuel', 'Louis', 'Billy', 'Lorraine', 'Craig', 'Debra',\n",
       "       'Ian', 'Garry', 'Aaron', 'Marian', 'Ashleigh', 'Vincent',\n",
       "       'Mitchell', 'Jeremy', 'Kimberley', 'Ben', 'Luke', 'Deborah',\n",
       "       'Charlie', 'Kirsty', 'Bradley', 'Carl', 'Nathan', 'Barry',\n",
       "       'Joanne', 'Brett', 'Kieran', 'Jean', 'Harriet', 'Leslie', 'Justin',\n",
       "       'Megan', 'Max', 'Bethany', 'Pamela', 'Jacob', 'Clifford', 'Kerry',\n",
       "       'Colin', 'Kenneth', 'Danielle', 'Robin', 'Bernard', 'Leigh',\n",
       "       'Amanda', 'Michael', 'Lawrence', 'Gregory', 'Ricky', 'Margaret',\n",
       "       'Donald', 'Graeme', 'Joanna', 'Natasha', 'Conor', 'Tom', 'Diane',\n",
       "       'Tracy', 'Charlene', 'Julia', 'Georgina', 'Emma', 'Beth',\n",
       "       'Mohammad', 'Anna', 'Suzanne', 'Trevor', 'Jessica', 'Jayne',\n",
       "       'Frances', 'Geoffrey', 'Georgia', 'Francis', 'Josh', 'Sian',\n",
       "       'Kevin', 'Michelle', 'Tony', 'Stephanie', 'Kelly', 'Nicole',\n",
       "       'Dawn', 'Joe', 'Hugh', 'Patrick', 'Sam', 'Jonathan', 'Malcolm',\n",
       "       'Mark', 'Janet', 'Caroline', 'Alexandra', 'Karen', 'Terry',\n",
       "       'Annette', 'June', 'Leon', 'Duncan', 'Natalie', 'Alexander',\n",
       "       'Jo-Anne', 'Marie Kondo', 'Daniel Day', 0], dtype=object)"
      ]
     },
     "execution_count": 44,
     "metadata": {},
     "output_type": "execute_result"
    }
   ],
   "source": [
    "df['First Name'] = df['First Name'].fillna(0)\n",
    "df['First Name'].unique()"
   ]
  },
  {
   "cell_type": "code",
   "execution_count": 45,
   "id": "23fca5d6",
   "metadata": {},
   "outputs": [
    {
     "data": {
      "text/plain": [
       "2646    Marie Kondo\n",
       "Name: First Name, dtype: object"
      ]
     },
     "execution_count": 45,
     "metadata": {},
     "output_type": "execute_result"
    }
   ],
   "source": [
    "df['First Name'][df['First Name']=='Marie Kondo']"
   ]
  },
  {
   "cell_type": "code",
   "execution_count": 46,
   "id": "19721503",
   "metadata": {},
   "outputs": [
    {
     "data": {
      "text/plain": [
       "House Number                                                                          34\n",
       "Street                                                                     Lee Stravenue\n",
       "First Name                                                                   Marie Kondo\n",
       "Surname                                                                           Harris\n",
       "Age                                                                                   93\n",
       "Relationship to Head of House                                                       Head\n",
       "Marital Status                                                                   Married\n",
       "Gender                                                                            Female\n",
       "Occupation                                 Retired Emergency planning/management officer\n",
       "Infirmity                                                                           None\n",
       "Religion                                                                            None\n",
       "House Number_ismissing                                                             False\n",
       "Street_ismissing                                                                   False\n",
       "First Name_ismissing                                                               False\n",
       "Surname_ismissing                                                                  False\n",
       "Relationship to Head of House_ismissing                                            False\n",
       "Marital Status_ismissing                                                           False\n",
       "Gender_ismissing                                                                   False\n",
       "Religion_ismissing                                                                 False\n",
       "num_missing                                                                            0\n",
       "Name: 2646, dtype: object"
      ]
     },
     "execution_count": 46,
     "metadata": {},
     "output_type": "execute_result"
    }
   ],
   "source": [
    "df.loc[2646]"
   ]
  },
  {
   "cell_type": "code",
   "execution_count": 47,
   "id": "03a34c5f",
   "metadata": {},
   "outputs": [
    {
     "data": {
      "text/plain": [
       "2647    Daniel Day\n",
       "Name: First Name, dtype: object"
      ]
     },
     "execution_count": 47,
     "metadata": {},
     "output_type": "execute_result"
    }
   ],
   "source": [
    "df['First Name'][df['First Name']=='Daniel Day']"
   ]
  },
  {
   "cell_type": "code",
   "execution_count": 48,
   "id": "383640a7",
   "metadata": {},
   "outputs": [
    {
     "data": {
      "text/plain": [
       "House Number                                                    34\n",
       "Street                                               Lee Stravenue\n",
       "First Name                                              Daniel Day\n",
       "Surname                                                     Harris\n",
       "Age                                                             95\n",
       "Relationship to Head of House                              Husband\n",
       "Marital Status                                             Married\n",
       "Gender                                                        Male\n",
       "Occupation                                 Retired Systems analyst\n",
       "Infirmity                                                     None\n",
       "Religion                                                      None\n",
       "House Number_ismissing                                       False\n",
       "Street_ismissing                                             False\n",
       "First Name_ismissing                                         False\n",
       "Surname_ismissing                                            False\n",
       "Relationship to Head of House_ismissing                      False\n",
       "Marital Status_ismissing                                     False\n",
       "Gender_ismissing                                             False\n",
       "Religion_ismissing                                           False\n",
       "num_missing                                                      0\n",
       "Name: 2647, dtype: object"
      ]
     },
     "execution_count": 48,
     "metadata": {},
     "output_type": "execute_result"
    }
   ],
   "source": [
    "df.loc[2647]"
   ]
  },
  {
   "cell_type": "code",
   "execution_count": 49,
   "id": "e52efb40",
   "metadata": {},
   "outputs": [
    {
     "data": {
      "text/plain": [
       "array(['Lamb', 'Wells', 'Rowley', 'Morris', 'Mahmood', 'Lyons', 'Thomas',\n",
       "       'Jones', 'Brown', 'Iqbal', 'Hunter', 'Booth', 'Owen', 'Goodwin',\n",
       "       'Ahmed', 'Dixon', 'Mason', 'Long', 'Rose', 'Law', 'Smith',\n",
       "       'Johnson', 'Williams', 'Harris', 'Willis', 'Harding', 'Webster',\n",
       "       'Greenwood', 'Graham', 'White', 'Payne', \"O'Donnell\", 'Hall',\n",
       "       'Pearce', 'Ward', 'Walsh', 'Davies', 'Storey', 'Jenkins',\n",
       "       'Gilbert', 'Watson', 'Watkins', 'Bolton', 'Hawkins', 'Mann',\n",
       "       'Lloyd', 'Phillips', 'Rogers', 'Reynolds', 'Day-Reynolds', 'Cox',\n",
       "       'Oliver', 'Kirby', 'McCarthy', 'Matthews', 'Carter-Matthews',\n",
       "       'Patterson', 'Perry', 'Lowe', 'Turner', 'Barnes', 'Kelly',\n",
       "       'Robinson', 'Bailey', 'Walters', 'Ferguson', 'Roberts',\n",
       "       'Richardson', 'May', 'May-Owen', 'Begum', 'Stone', 'Howard',\n",
       "       'Arnold', 'Simpson', 'Pearson', 'Lewis', 'Parsons', 'Todd',\n",
       "       'Butler', 'Holmes', 'Cooke', 'Freeman', 'Fletcher', 'Price',\n",
       "       'Barker', 'Wood', 'Carey', 'Riley', 'Brennan', 'Clements',\n",
       "       'Gregory', 'Fraser', 'Adams', 'Chapman', 'Mills', 'Flynn',\n",
       "       'Campbell', 'Summers', 'Scott', 'Marsh', 'Bennett', 'Herbert',\n",
       "       'Berry', 'Berry-Taylor', 'Day', 'Page', 'Walker', 'Robson', 'Khan',\n",
       "       'Jenkins-Khan', 'Austin', \"O'Brien\", 'Jones-Bolton', 'Bond',\n",
       "       'Kirk', 'Lee-Ward', 'Lawrence', \"O'Neill\", \"Fletcher-O'Neill\",\n",
       "       'Newman', 'Thompson', 'Higgins', 'Shah', 'Lucas', 'Cartwright',\n",
       "       'Thorpe', 'Gordon', 'Conway', 'Lane', 'Harrison', 'Holt', 'Reed',\n",
       "       'Tyler', 'West', 'Hammond', 'Taylor', 'Morgan', 'Evans', 'Duncan',\n",
       "       'Singh', 'Harvey', 'Henry', 'Day-Davies', 'Slater', 'Fowler',\n",
       "       'Baker', 'Brookes', 'Coles', 'Hudson', 'Sutton', 'Hughes',\n",
       "       'Browne', 'Allan', 'Hanson', 'Brady', 'Allen', 'Gray', 'Mitchell',\n",
       "       'Stevens', 'Patel', 'Rhodes', 'Moore', 'Jackson-Baker', 'Russell',\n",
       "       'Burns', 'Hill', 'Brooks', 'Abbott', 'Atkins', 'Carter', 'Bell',\n",
       "       'Marshall', 'Hart', 'Hart-Hill', 'Coleman', 'Talbot', 'Foster',\n",
       "       'Johnson-Smith', 'Stanley', 'Perkins', 'Hooper', 'Vaughan',\n",
       "       'James', 'Weston', 'Johnston', 'Kent', 'Kent-Mann', 'Ali',\n",
       "       'Parker', 'Douglas', 'Gould', 'Hyde', 'Kerr', 'Vincent', 'Yates',\n",
       "       'Humphries', 'Haynes', 'Woodward', 'North', 'Turnbull', 'Francis',\n",
       "       'Duffy', 'Simmons', 'Gardner', 'Cole', 'Hobbs', 'Henderson-Hobbs',\n",
       "       'Connolly', 'Edwards', 'Baxter', 'Carter-Baxter', 'Power',\n",
       "       'Waters', 'Dale', 'Collins', 'Young', 'Preston', 'Richards',\n",
       "       'Parkes', 'Jackson-West', 'Fraser-Taylor', 'Benson', 'Wright',\n",
       "       'Burgess', 'Crawford', 'Clark', 'Craig', 'Bradshaw', 'Coates',\n",
       "       'Jackson', 'Hamilton', 'Cooper', 'Barber', 'Dyer',\n",
       "       'Walters-Sutton', 'Wilson', 'Burton-Walters-Sutton', 'Hopkins',\n",
       "       'Knowles', 'Hayes', 'Hunt', 'Davis', 'Peacock', 'Bray', 'Lee',\n",
       "       'Morrison', 'Townsend', 'Savage', 'Cook', 'Clayton', 'Quinn',\n",
       "       'Burton', 'Spencer', 'Smith-Barnes', 'Welch', 'Pugh', 'Woods',\n",
       "       'Brookes-Gray', 'Forster', 'Barnett', 'Hardy', 'Sanderson',\n",
       "       'Glover', 'Hancock-Glover', 'Green', 'Robertson', 'Sims',\n",
       "       'Burrows', 'Daly', 'Gibson', 'Barrett', 'Bibi', 'Fox', 'Winter',\n",
       "       'Lord', 'Heath', 'Butcher', 'Gardiner', 'Palmer', 'Parkin',\n",
       "       'Farmer', 'Whitehead', 'Ingram', 'Smart', 'Stephenson', 'Black',\n",
       "       'Anderson', 'McLean', 'Stokes', 'Noble', 'Holland', 'Davison',\n",
       "       'Kemp', 'Warner', 'Whitehouse', 'Stewart', 'Wong', 'Bartlett',\n",
       "       'Lucas-Begum', 'Ellis', 'Wilkinson', 'Bruce', 'Reeves', 'Martin',\n",
       "       'Blackburn', 'Atkinson', 'Burke', 'Fisher', 'Akhtar', 'Howell',\n",
       "       'Elliott', 'Fleming', 'Baldwin', 'Jarvis', 'Dunn', 'Andrews',\n",
       "       'Sinclair', 'Naylor', 'Hurst', 'Reid', 'Grant', 'Nicholson',\n",
       "       'Miles', 'Knight', 'Moss', 'King', 'Clarke', 'Kaur', 'Williamson',\n",
       "       'Dobson', 'Bates', 'Griffiths', 'Hayward', 'Webb', 'Ball',\n",
       "       'Buckley', 'Barry', 'Bird', 'Smith-Bird', 'Gibbons',\n",
       "       'Crawford-Scott', 'Pickering', 'Chan', 'Randall', 'Murphy',\n",
       "       'Wallace', 'Davey', 'Bowen', 'Hussain', 'Hodgson', 'Kennedy',\n",
       "       'Birch', 'French', 'Mellor', 'Miller', 'Fitzgerald', 'Watts',\n",
       "       'Kay', 'Sheppard', 'Saunders', 'Baxter-Campbell', 'George',\n",
       "       'Bevan', 'Howe', 'Ashton', 'Hope', 'Field', 'Hutchinson-Robinson',\n",
       "       'Bradley', 'Hutchinson', 'Goddard', 'Cook-Martin', 'Lynch',\n",
       "       'Jordan', 'Farrell', 'Carroll', 'Field-Lloyd', 'Warren',\n",
       "       'Richardson-Warren', 'Wallis', 'Nixon', 'Horton', 'Lawson',\n",
       "       'Steele', 'Berry-Thomas', 'Sykes', 'Hewitt', 'Stevenson', 'Banks',\n",
       "       'Davies-Conway', 'Poole', 'Howarth', 'Blake', 'Newton',\n",
       "       'Tomlinson', 'Reynolds-Tomlinson', 'Ford', 'Nash', 'Butler-Baker',\n",
       "       'Thornton', 'Frost', 'Webb-Walker', 'Myers', 'Nicholls',\n",
       "       'Middleton', 'Bowen-Middleton', 'Faulkner', 'Faulkner-Simpson',\n",
       "       'Douglas-Hodgson', 'Daniels', 'Byrne', 'Little', 'Henderson',\n",
       "       'Connor', 'Parkinson', 'Smith-Arnold', 'Pritchard', 'Howells',\n",
       "       'Dawson', 'Leonard', 'Potts', 'May-Potts', 'Ross', 'Curtis',\n",
       "       'Sanders', 'Carr', 'Fry', 'Davidson', 'Bentley', 'Armstrong',\n",
       "       'Godfrey', 'Tucker', 'Watson-Simmons', 'Baxter-Taylor', 'Powell',\n",
       "       'Gough', 'Barton', 'Lambert', 'Hicks', 'Cameron', 'Read',\n",
       "       'McDonald', 'Williamson-Berry', 'Murray', 'Archer', 'Waters-Reid',\n",
       "       'Shepherd', 'Sharpe', 'Dennis', 'Hilton', 'Parry', 'Miah',\n",
       "       'Robinson-Miah', 'Robinson-Powell', \"O'Connor\", 'Rahman',\n",
       "       'Bailey-Morgan', 'Metcalfe', 'Wilson-Rhodes', 'Campbell-Ali',\n",
       "       'Bishop', 'Alexander', 'Thomson', 'Nelson', 'Gordon-Cole',\n",
       "       'Russell-Berry', 'Townsend-Atkinson', 'Shaw', 'Osborne', 'Bull',\n",
       "       'Wall', 'Bryan', 'Mills-Bird', 'Norris', 'Wilson-Rose',\n",
       "       'Jackson-Bryant', 'Chambers', 'Dodd', 'Fuller', 'Carpenter',\n",
       "       'Marshall-Clements', 'Whittaker', 'Pearson-Glover', 'Doyle',\n",
       "       'Fletcher-Doyle', 'Sullivan', 'Sharp', 'Joyce', 'Schofield',\n",
       "       'Clarke-Jones', 'Green-Parker', 'Jenkins-Pearce',\n",
       "       'Barnes-Jenkins-Pearce', 'Mann-Shah', 'Baker-Blackburn', 'Holden',\n",
       "       'Holmes-Pearson', 'Pollard', 'Morgan-Oliver', 'Leach', 'Mistry',\n",
       "       'Ford-Adams', 'Morris-Ford-Adams', 'Roberts-Ward', 'Ryan', 'Cross',\n",
       "       'Robinson-Miller', 'Fletcher-Thompson', 'Wyatt', 'Wilson-Williams',\n",
       "       'Briggs', 'Harvey-Morrison', 'Parker-Cook', 'Morton', 'Norman',\n",
       "       'Walker-Murphy', 'Hancock', 'Pope', 'Barlow', 'Rose-Duffy',\n",
       "       'Pratt', 'Wilson-Whittaker', 'Murphy-Wilson-Whittaker', 'Wilkins',\n",
       "       'Owens', 'Wilson-Mann', 'Walker-Barton', 'Turner-Baxter', 'Morley',\n",
       "       'Griffin', 'Dale-Bradley', 'Rees', 'Smith-Smith',\n",
       "       'Wilson-Chambers', 'Norton', 'Wilkinson-Yates', 'Marshall-Green',\n",
       "       'Marsden', 'Hale', 'Richardson-Grant', 'Lane-Holmes', 'Humphreys',\n",
       "       'Giles', 'Chadwick', 'Clarke-Patterson', 'Macdonald', 'Garner',\n",
       "       'Franklin', 'Short', 'Walton', 'Doherty', 'Collier', 'Potter',\n",
       "       'Dickinson', 'Jennings', 'Harper', 'Potter-Evans', 'Nolan',\n",
       "       'Hussain-Parker', 'Manning', 'Wheeler', 'Miller-Edwards',\n",
       "       'Clark-Sharp', 'Porter', 'Watson-Banks', 'Smith-Lewis', 'Donnelly',\n",
       "       'Barrett-Miller', 'Taylor-Cook', 'Morgan-Walker', 'Fisher-Foster',\n",
       "       'Cunningham', 'Yates-Baker', 'Green-Evans', 'Bryant',\n",
       "       'Powell-Hooper', 'Wright-Pugh', 'Chandler', 'Wilson-Coleman',\n",
       "       'Fleming-Booth', 'Evans-Roberts', 'Lees', 'Parker-Walker', 'Wade',\n",
       "       'Stephens', 'Grant-Harvey', 'Flynn-Douglas', 'Ashton-Knowles',\n",
       "       'Buckley-Scott', 'Lawrence-Campbell', 'Gill', 'Thomas-Poole',\n",
       "       'Thorpe-Newton', 'Dean', 'Cole-Cartwright', 'Price-Baker', 'Gibbs',\n",
       "       'Collins-Davis', 'Moss-Stevens', 'Lewis-Moss-Stevens',\n",
       "       'Davis-Bennett', 'Peters', 'Webb-Leach', 'Skinner',\n",
       "       'Hughes-Simpson', 'Farrell-Bailey', 'Swift', 'Finch', 'Holloway',\n",
       "       'Williams-Clarke', 'Pearce-Hartley', 'Walker-Williams',\n",
       "       'Mills-Wright', 'White-Bentley', 'James-Oliver', 'Evans-Bell',\n",
       "       'Rice', 'Rowe', 'Boyle', 'Carter-Quinn', 'John', 'Houghton',\n",
       "       'Powell-Ryan', 'Mills-Clarke', 'Walker-Wong', 'Pritchard-Burrows',\n",
       "       'Chapman-George', 'Blake-Jarvis', 'Simmons-Tucker', 'Turner-Brown',\n",
       "       'Dale-Morton', 'Fowler-Lamb', 'Gallagher', 'Charlton',\n",
       "       'Oliver-Shepherd', 'Hargreaves', 'McKenzie', 'Moore-Byrne',\n",
       "       'Gilbert-Simpson', 'Chamberlain', \"O'Sullivan\", 'Kirby-Smith',\n",
       "       'Evans-Barrett', 'Chambers-Naylor', 'Bates-Howarth',\n",
       "       'Robertson-Baker', 'Kirby-Ross', nan, 'Parry-Davison',\n",
       "       'George Edwards', 'George-Edwards', 'T', 'Hussain-Burton',\n",
       "       'Bryant-Davies', 'Duffy-Owen', 'Knight-Wells',\n",
       "       'Brooks-Knight-Wells', 'H', 'Joanna Butler', 'Jones-Storey',\n",
       "       'Fox-Howe', 'Jones-Harris', 'Wilkins-Wood', 'Moore-Bryant',\n",
       "       'Hart-Edwards', 'Poole-Baxter', 'Burke-Williams',\n",
       "       'Wyatt-Burke-Williams'], dtype=object)"
      ]
     },
     "execution_count": 49,
     "metadata": {},
     "output_type": "execute_result"
    }
   ],
   "source": [
    "# unique value Surname\n",
    "df['Surname'].unique() #nan #T #H"
   ]
  },
  {
   "cell_type": "code",
   "execution_count": 50,
   "id": "409e7ebd",
   "metadata": {},
   "outputs": [
    {
     "data": {
      "text/plain": [
       "8132    T\n",
       "Name: Surname, dtype: object"
      ]
     },
     "execution_count": 50,
     "metadata": {},
     "output_type": "execute_result"
    }
   ],
   "source": [
    "df['Surname'][df['Surname']=='T']"
   ]
  },
  {
   "cell_type": "code",
   "execution_count": 51,
   "id": "3c13cdf5",
   "metadata": {},
   "outputs": [
    {
     "data": {
      "text/plain": [
       "House Number                                                  7\n",
       "Street                                         Phillips Harbors\n",
       "First Name                                              Charles\n",
       "Surname                                                       T\n",
       "Age                                                          55\n",
       "Relationship to Head of House                              Head\n",
       "Marital Status                                         Divorced\n",
       "Gender                                                     Male\n",
       "Occupation                                 Chartered accountant\n",
       "Infirmity                                                  None\n",
       "Religion                                              Christian\n",
       "House Number_ismissing                                    False\n",
       "Street_ismissing                                          False\n",
       "First Name_ismissing                                      False\n",
       "Surname_ismissing                                         False\n",
       "Relationship to Head of House_ismissing                   False\n",
       "Marital Status_ismissing                                  False\n",
       "Gender_ismissing                                          False\n",
       "Religion_ismissing                                        False\n",
       "num_missing                                                   0\n",
       "Name: 8132, dtype: object"
      ]
     },
     "execution_count": 51,
     "metadata": {},
     "output_type": "execute_result"
    }
   ],
   "source": [
    "df.loc[8132]"
   ]
  },
  {
   "cell_type": "code",
   "execution_count": 52,
   "id": "1c84152c",
   "metadata": {},
   "outputs": [
    {
     "data": {
      "text/plain": [
       "8802    H\n",
       "Name: Surname, dtype: object"
      ]
     },
     "execution_count": 52,
     "metadata": {},
     "output_type": "execute_result"
    }
   ],
   "source": [
    "df['Surname'][df['Surname']=='H']"
   ]
  },
  {
   "cell_type": "code",
   "execution_count": 53,
   "id": "ccfd45d2",
   "metadata": {},
   "outputs": [
    {
     "data": {
      "text/plain": [
       "House Number                                         23\n",
       "Street                                     Yellow Inlet\n",
       "First Name                                       Oliver\n",
       "Surname                                               H\n",
       "Age                                                  26\n",
       "Relationship to Head of House                      None\n",
       "Marital Status                                   Single\n",
       "Gender                                             Male\n",
       "Occupation                                  PhD Student\n",
       "Infirmity                                          None\n",
       "Religion                                           None\n",
       "House Number_ismissing                            False\n",
       "Street_ismissing                                  False\n",
       "First Name_ismissing                              False\n",
       "Surname_ismissing                                 False\n",
       "Relationship to Head of House_ismissing           False\n",
       "Marital Status_ismissing                          False\n",
       "Gender_ismissing                                  False\n",
       "Religion_ismissing                                False\n",
       "num_missing                                           0\n",
       "Name: 8802, dtype: object"
      ]
     },
     "execution_count": 53,
     "metadata": {},
     "output_type": "execute_result"
    }
   ],
   "source": [
    "df.loc[8802]"
   ]
  },
  {
   "cell_type": "code",
   "execution_count": 54,
   "id": "56e29ff1",
   "metadata": {},
   "outputs": [
    {
     "data": {
      "text/plain": [
       "array(['Lamb', 'Wells', 'Rowley', 'Morris', 'Mahmood', 'Lyons', 'Thomas',\n",
       "       'Jones', 'Brown', 'Iqbal', 'Hunter', 'Booth', 'Owen', 'Goodwin',\n",
       "       'Ahmed', 'Dixon', 'Mason', 'Long', 'Rose', 'Law', 'Smith',\n",
       "       'Johnson', 'Williams', 'Harris', 'Willis', 'Harding', 'Webster',\n",
       "       'Greenwood', 'Graham', 'White', 'Payne', \"O'Donnell\", 'Hall',\n",
       "       'Pearce', 'Ward', 'Walsh', 'Davies', 'Storey', 'Jenkins',\n",
       "       'Gilbert', 'Watson', 'Watkins', 'Bolton', 'Hawkins', 'Mann',\n",
       "       'Lloyd', 'Phillips', 'Rogers', 'Reynolds', 'Day-Reynolds', 'Cox',\n",
       "       'Oliver', 'Kirby', 'McCarthy', 'Matthews', 'Carter-Matthews',\n",
       "       'Patterson', 'Perry', 'Lowe', 'Turner', 'Barnes', 'Kelly',\n",
       "       'Robinson', 'Bailey', 'Walters', 'Ferguson', 'Roberts',\n",
       "       'Richardson', 'May', 'May-Owen', 'Begum', 'Stone', 'Howard',\n",
       "       'Arnold', 'Simpson', 'Pearson', 'Lewis', 'Parsons', 'Todd',\n",
       "       'Butler', 'Holmes', 'Cooke', 'Freeman', 'Fletcher', 'Price',\n",
       "       'Barker', 'Wood', 'Carey', 'Riley', 'Brennan', 'Clements',\n",
       "       'Gregory', 'Fraser', 'Adams', 'Chapman', 'Mills', 'Flynn',\n",
       "       'Campbell', 'Summers', 'Scott', 'Marsh', 'Bennett', 'Herbert',\n",
       "       'Berry', 'Berry-Taylor', 'Day', 'Page', 'Walker', 'Robson', 'Khan',\n",
       "       'Jenkins-Khan', 'Austin', \"O'Brien\", 'Jones-Bolton', 'Bond',\n",
       "       'Kirk', 'Lee-Ward', 'Lawrence', \"O'Neill\", \"Fletcher-O'Neill\",\n",
       "       'Newman', 'Thompson', 'Higgins', 'Shah', 'Lucas', 'Cartwright',\n",
       "       'Thorpe', 'Gordon', 'Conway', 'Lane', 'Harrison', 'Holt', 'Reed',\n",
       "       'Tyler', 'West', 'Hammond', 'Taylor', 'Morgan', 'Evans', 'Duncan',\n",
       "       'Singh', 'Harvey', 'Henry', 'Day-Davies', 'Slater', 'Fowler',\n",
       "       'Baker', 'Brookes', 'Coles', 'Hudson', 'Sutton', 'Hughes',\n",
       "       'Browne', 'Allan', 'Hanson', 'Brady', 'Allen', 'Gray', 'Mitchell',\n",
       "       'Stevens', 'Patel', 'Rhodes', 'Moore', 'Jackson-Baker', 'Russell',\n",
       "       'Burns', 'Hill', 'Brooks', 'Abbott', 'Atkins', 'Carter', 'Bell',\n",
       "       'Marshall', 'Hart', 'Hart-Hill', 'Coleman', 'Talbot', 'Foster',\n",
       "       'Johnson-Smith', 'Stanley', 'Perkins', 'Hooper', 'Vaughan',\n",
       "       'James', 'Weston', 'Johnston', 'Kent', 'Kent-Mann', 'Ali',\n",
       "       'Parker', 'Douglas', 'Gould', 'Hyde', 'Kerr', 'Vincent', 'Yates',\n",
       "       'Humphries', 'Haynes', 'Woodward', 'North', 'Turnbull', 'Francis',\n",
       "       'Duffy', 'Simmons', 'Gardner', 'Cole', 'Hobbs', 'Henderson-Hobbs',\n",
       "       'Connolly', 'Edwards', 'Baxter', 'Carter-Baxter', 'Power',\n",
       "       'Waters', 'Dale', 'Collins', 'Young', 'Preston', 'Richards',\n",
       "       'Parkes', 'Jackson-West', 'Fraser-Taylor', 'Benson', 'Wright',\n",
       "       'Burgess', 'Crawford', 'Clark', 'Craig', 'Bradshaw', 'Coates',\n",
       "       'Jackson', 'Hamilton', 'Cooper', 'Barber', 'Dyer',\n",
       "       'Walters-Sutton', 'Wilson', 'Burton-Walters-Sutton', 'Hopkins',\n",
       "       'Knowles', 'Hayes', 'Hunt', 'Davis', 'Peacock', 'Bray', 'Lee',\n",
       "       'Morrison', 'Townsend', 'Savage', 'Cook', 'Clayton', 'Quinn',\n",
       "       'Burton', 'Spencer', 'Smith-Barnes', 'Welch', 'Pugh', 'Woods',\n",
       "       'Brookes-Gray', 'Forster', 'Barnett', 'Hardy', 'Sanderson',\n",
       "       'Glover', 'Hancock-Glover', 'Green', 'Robertson', 'Sims',\n",
       "       'Burrows', 'Daly', 'Gibson', 'Barrett', 'Bibi', 'Fox', 'Winter',\n",
       "       'Lord', 'Heath', 'Butcher', 'Gardiner', 'Palmer', 'Parkin',\n",
       "       'Farmer', 'Whitehead', 'Ingram', 'Smart', 'Stephenson', 'Black',\n",
       "       'Anderson', 'McLean', 'Stokes', 'Noble', 'Holland', 'Davison',\n",
       "       'Kemp', 'Warner', 'Whitehouse', 'Stewart', 'Wong', 'Bartlett',\n",
       "       'Lucas-Begum', 'Ellis', 'Wilkinson', 'Bruce', 'Reeves', 'Martin',\n",
       "       'Blackburn', 'Atkinson', 'Burke', 'Fisher', 'Akhtar', 'Howell',\n",
       "       'Elliott', 'Fleming', 'Baldwin', 'Jarvis', 'Dunn', 'Andrews',\n",
       "       'Sinclair', 'Naylor', 'Hurst', 'Reid', 'Grant', 'Nicholson',\n",
       "       'Miles', 'Knight', 'Moss', 'King', 'Clarke', 'Kaur', 'Williamson',\n",
       "       'Dobson', 'Bates', 'Griffiths', 'Hayward', 'Webb', 'Ball',\n",
       "       'Buckley', 'Barry', 'Bird', 'Smith-Bird', 'Gibbons',\n",
       "       'Crawford-Scott', 'Pickering', 'Chan', 'Randall', 'Murphy',\n",
       "       'Wallace', 'Davey', 'Bowen', 'Hussain', 'Hodgson', 'Kennedy',\n",
       "       'Birch', 'French', 'Mellor', 'Miller', 'Fitzgerald', 'Watts',\n",
       "       'Kay', 'Sheppard', 'Saunders', 'Baxter-Campbell', 'George',\n",
       "       'Bevan', 'Howe', 'Ashton', 'Hope', 'Field', 'Hutchinson-Robinson',\n",
       "       'Bradley', 'Hutchinson', 'Goddard', 'Cook-Martin', 'Lynch',\n",
       "       'Jordan', 'Farrell', 'Carroll', 'Field-Lloyd', 'Warren',\n",
       "       'Richardson-Warren', 'Wallis', 'Nixon', 'Horton', 'Lawson',\n",
       "       'Steele', 'Berry-Thomas', 'Sykes', 'Hewitt', 'Stevenson', 'Banks',\n",
       "       'Davies-Conway', 'Poole', 'Howarth', 'Blake', 'Newton',\n",
       "       'Tomlinson', 'Reynolds-Tomlinson', 'Ford', 'Nash', 'Butler-Baker',\n",
       "       'Thornton', 'Frost', 'Webb-Walker', 'Myers', 'Nicholls',\n",
       "       'Middleton', 'Bowen-Middleton', 'Faulkner', 'Faulkner-Simpson',\n",
       "       'Douglas-Hodgson', 'Daniels', 'Byrne', 'Little', 'Henderson',\n",
       "       'Connor', 'Parkinson', 'Smith-Arnold', 'Pritchard', 'Howells',\n",
       "       'Dawson', 'Leonard', 'Potts', 'May-Potts', 'Ross', 'Curtis',\n",
       "       'Sanders', 'Carr', 'Fry', 'Davidson', 'Bentley', 'Armstrong',\n",
       "       'Godfrey', 'Tucker', 'Watson-Simmons', 'Baxter-Taylor', 'Powell',\n",
       "       'Gough', 'Barton', 'Lambert', 'Hicks', 'Cameron', 'Read',\n",
       "       'McDonald', 'Williamson-Berry', 'Murray', 'Archer', 'Waters-Reid',\n",
       "       'Shepherd', 'Sharpe', 'Dennis', 'Hilton', 'Parry', 'Miah',\n",
       "       'Robinson-Miah', 'Robinson-Powell', \"O'Connor\", 'Rahman',\n",
       "       'Bailey-Morgan', 'Metcalfe', 'Wilson-Rhodes', 'Campbell-Ali',\n",
       "       'Bishop', 'Alexander', 'Thomson', 'Nelson', 'Gordon-Cole',\n",
       "       'Russell-Berry', 'Townsend-Atkinson', 'Shaw', 'Osborne', 'Bull',\n",
       "       'Wall', 'Bryan', 'Mills-Bird', 'Norris', 'Wilson-Rose',\n",
       "       'Jackson-Bryant', 'Chambers', 'Dodd', 'Fuller', 'Carpenter',\n",
       "       'Marshall-Clements', 'Whittaker', 'Pearson-Glover', 'Doyle',\n",
       "       'Fletcher-Doyle', 'Sullivan', 'Sharp', 'Joyce', 'Schofield',\n",
       "       'Clarke-Jones', 'Green-Parker', 'Jenkins-Pearce',\n",
       "       'Barnes-Jenkins-Pearce', 'Mann-Shah', 'Baker-Blackburn', 'Holden',\n",
       "       'Holmes-Pearson', 'Pollard', 'Morgan-Oliver', 'Leach', 'Mistry',\n",
       "       'Ford-Adams', 'Morris-Ford-Adams', 'Roberts-Ward', 'Ryan', 'Cross',\n",
       "       'Robinson-Miller', 'Fletcher-Thompson', 'Wyatt', 'Wilson-Williams',\n",
       "       'Briggs', 'Harvey-Morrison', 'Parker-Cook', 'Morton', 'Norman',\n",
       "       'Walker-Murphy', 'Hancock', 'Pope', 'Barlow', 'Rose-Duffy',\n",
       "       'Pratt', 'Wilson-Whittaker', 'Murphy-Wilson-Whittaker', 'Wilkins',\n",
       "       'Owens', 'Wilson-Mann', 'Walker-Barton', 'Turner-Baxter', 'Morley',\n",
       "       'Griffin', 'Dale-Bradley', 'Rees', 'Smith-Smith',\n",
       "       'Wilson-Chambers', 'Norton', 'Wilkinson-Yates', 'Marshall-Green',\n",
       "       'Marsden', 'Hale', 'Richardson-Grant', 'Lane-Holmes', 'Humphreys',\n",
       "       'Giles', 'Chadwick', 'Clarke-Patterson', 'Macdonald', 'Garner',\n",
       "       'Franklin', 'Short', 'Walton', 'Doherty', 'Collier', 'Potter',\n",
       "       'Dickinson', 'Jennings', 'Harper', 'Potter-Evans', 'Nolan',\n",
       "       'Hussain-Parker', 'Manning', 'Wheeler', 'Miller-Edwards',\n",
       "       'Clark-Sharp', 'Porter', 'Watson-Banks', 'Smith-Lewis', 'Donnelly',\n",
       "       'Barrett-Miller', 'Taylor-Cook', 'Morgan-Walker', 'Fisher-Foster',\n",
       "       'Cunningham', 'Yates-Baker', 'Green-Evans', 'Bryant',\n",
       "       'Powell-Hooper', 'Wright-Pugh', 'Chandler', 'Wilson-Coleman',\n",
       "       'Fleming-Booth', 'Evans-Roberts', 'Lees', 'Parker-Walker', 'Wade',\n",
       "       'Stephens', 'Grant-Harvey', 'Flynn-Douglas', 'Ashton-Knowles',\n",
       "       'Buckley-Scott', 'Lawrence-Campbell', 'Gill', 'Thomas-Poole',\n",
       "       'Thorpe-Newton', 'Dean', 'Cole-Cartwright', 'Price-Baker', 'Gibbs',\n",
       "       'Collins-Davis', 'Moss-Stevens', 'Lewis-Moss-Stevens',\n",
       "       'Davis-Bennett', 'Peters', 'Webb-Leach', 'Skinner',\n",
       "       'Hughes-Simpson', 'Farrell-Bailey', 'Swift', 'Finch', 'Holloway',\n",
       "       'Williams-Clarke', 'Pearce-Hartley', 'Walker-Williams',\n",
       "       'Mills-Wright', 'White-Bentley', 'James-Oliver', 'Evans-Bell',\n",
       "       'Rice', 'Rowe', 'Boyle', 'Carter-Quinn', 'John', 'Houghton',\n",
       "       'Powell-Ryan', 'Mills-Clarke', 'Walker-Wong', 'Pritchard-Burrows',\n",
       "       'Chapman-George', 'Blake-Jarvis', 'Simmons-Tucker', 'Turner-Brown',\n",
       "       'Dale-Morton', 'Fowler-Lamb', 'Gallagher', 'Charlton',\n",
       "       'Oliver-Shepherd', 'Hargreaves', 'McKenzie', 'Moore-Byrne',\n",
       "       'Gilbert-Simpson', 'Chamberlain', \"O'Sullivan\", 'Kirby-Smith',\n",
       "       'Evans-Barrett', 'Chambers-Naylor', 'Bates-Howarth',\n",
       "       'Robertson-Baker', 'Kirby-Ross', nan, 'Parry-Davison',\n",
       "       'George Edwards', 'George-Edwards', 'Hussain-Burton',\n",
       "       'Bryant-Davies', 'Duffy-Owen', 'Knight-Wells',\n",
       "       'Brooks-Knight-Wells', 'Joanna Butler', 'Jones-Storey', 'Fox-Howe',\n",
       "       'Jones-Harris', 'Wilkins-Wood', 'Moore-Bryant', 'Hart-Edwards',\n",
       "       'Poole-Baxter', 'Burke-Williams', 'Wyatt-Burke-Williams'],\n",
       "      dtype=object)"
      ]
     },
     "execution_count": 54,
     "metadata": {},
     "output_type": "execute_result"
    }
   ],
   "source": [
    "df['Surname']=df['Surname'].replace(to_replace='T', value=np.nan)\n",
    "df['Surname']=df['Surname'].replace(to_replace='H', value=np.nan)\n",
    "df['Surname'].unique()"
   ]
  },
  {
   "cell_type": "code",
   "execution_count": 55,
   "id": "db8f24bb",
   "metadata": {},
   "outputs": [
    {
     "data": {
      "text/plain": [
       "array(['Lamb', 'Wells', 'Rowley', 'Morris', 'Mahmood', 'Lyons', 'Thomas',\n",
       "       'Jones', 'Brown', 'Iqbal', 'Hunter', 'Booth', 'Owen', 'Goodwin',\n",
       "       'Ahmed', 'Dixon', 'Mason', 'Long', 'Rose', 'Law', 'Smith',\n",
       "       'Johnson', 'Williams', 'Harris', 'Willis', 'Harding', 'Webster',\n",
       "       'Greenwood', 'Graham', 'White', 'Payne', \"O'Donnell\", 'Hall',\n",
       "       'Pearce', 'Ward', 'Walsh', 'Davies', 'Storey', 'Jenkins',\n",
       "       'Gilbert', 'Watson', 'Watkins', 'Bolton', 'Hawkins', 'Mann',\n",
       "       'Lloyd', 'Phillips', 'Rogers', 'Reynolds', 'Day-Reynolds', 'Cox',\n",
       "       'Oliver', 'Kirby', 'McCarthy', 'Matthews', 'Carter-Matthews',\n",
       "       'Patterson', 'Perry', 'Lowe', 'Turner', 'Barnes', 'Kelly',\n",
       "       'Robinson', 'Bailey', 'Walters', 'Ferguson', 'Roberts',\n",
       "       'Richardson', 'May', 'May-Owen', 'Begum', 'Stone', 'Howard',\n",
       "       'Arnold', 'Simpson', 'Pearson', 'Lewis', 'Parsons', 'Todd',\n",
       "       'Butler', 'Holmes', 'Cooke', 'Freeman', 'Fletcher', 'Price',\n",
       "       'Barker', 'Wood', 'Carey', 'Riley', 'Brennan', 'Clements',\n",
       "       'Gregory', 'Fraser', 'Adams', 'Chapman', 'Mills', 'Flynn',\n",
       "       'Campbell', 'Summers', 'Scott', 'Marsh', 'Bennett', 'Herbert',\n",
       "       'Berry', 'Berry-Taylor', 'Day', 'Page', 'Walker', 'Robson', 'Khan',\n",
       "       'Jenkins-Khan', 'Austin', \"O'Brien\", 'Jones-Bolton', 'Bond',\n",
       "       'Kirk', 'Lee-Ward', 'Lawrence', \"O'Neill\", \"Fletcher-O'Neill\",\n",
       "       'Newman', 'Thompson', 'Higgins', 'Shah', 'Lucas', 'Cartwright',\n",
       "       'Thorpe', 'Gordon', 'Conway', 'Lane', 'Harrison', 'Holt', 'Reed',\n",
       "       'Tyler', 'West', 'Hammond', 'Taylor', 'Morgan', 'Evans', 'Duncan',\n",
       "       'Singh', 'Harvey', 'Henry', 'Day-Davies', 'Slater', 'Fowler',\n",
       "       'Baker', 'Brookes', 'Coles', 'Hudson', 'Sutton', 'Hughes',\n",
       "       'Browne', 'Allan', 'Hanson', 'Brady', 'Allen', 'Gray', 'Mitchell',\n",
       "       'Stevens', 'Patel', 'Rhodes', 'Moore', 'Jackson-Baker', 'Russell',\n",
       "       'Burns', 'Hill', 'Brooks', 'Abbott', 'Atkins', 'Carter', 'Bell',\n",
       "       'Marshall', 'Hart', 'Hart-Hill', 'Coleman', 'Talbot', 'Foster',\n",
       "       'Johnson-Smith', 'Stanley', 'Perkins', 'Hooper', 'Vaughan',\n",
       "       'James', 'Weston', 'Johnston', 'Kent', 'Kent-Mann', 'Ali',\n",
       "       'Parker', 'Douglas', 'Gould', 'Hyde', 'Kerr', 'Vincent', 'Yates',\n",
       "       'Humphries', 'Haynes', 'Woodward', 'North', 'Turnbull', 'Francis',\n",
       "       'Duffy', 'Simmons', 'Gardner', 'Cole', 'Hobbs', 'Henderson-Hobbs',\n",
       "       'Connolly', 'Edwards', 'Baxter', 'Carter-Baxter', 'Power',\n",
       "       'Waters', 'Dale', 'Collins', 'Young', 'Preston', 'Richards',\n",
       "       'Parkes', 'Jackson-West', 'Fraser-Taylor', 'Benson', 'Wright',\n",
       "       'Burgess', 'Crawford', 'Clark', 'Craig', 'Bradshaw', 'Coates',\n",
       "       'Jackson', 'Hamilton', 'Cooper', 'Barber', 'Dyer',\n",
       "       'Walters-Sutton', 'Wilson', 'Burton-Walters-Sutton', 'Hopkins',\n",
       "       'Knowles', 'Hayes', 'Hunt', 'Davis', 'Peacock', 'Bray', 'Lee',\n",
       "       'Morrison', 'Townsend', 'Savage', 'Cook', 'Clayton', 'Quinn',\n",
       "       'Burton', 'Spencer', 'Smith-Barnes', 'Welch', 'Pugh', 'Woods',\n",
       "       'Brookes-Gray', 'Forster', 'Barnett', 'Hardy', 'Sanderson',\n",
       "       'Glover', 'Hancock-Glover', 'Green', 'Robertson', 'Sims',\n",
       "       'Burrows', 'Daly', 'Gibson', 'Barrett', 'Bibi', 'Fox', 'Winter',\n",
       "       'Lord', 'Heath', 'Butcher', 'Gardiner', 'Palmer', 'Parkin',\n",
       "       'Farmer', 'Whitehead', 'Ingram', 'Smart', 'Stephenson', 'Black',\n",
       "       'Anderson', 'McLean', 'Stokes', 'Noble', 'Holland', 'Davison',\n",
       "       'Kemp', 'Warner', 'Whitehouse', 'Stewart', 'Wong', 'Bartlett',\n",
       "       'Lucas-Begum', 'Ellis', 'Wilkinson', 'Bruce', 'Reeves', 'Martin',\n",
       "       'Blackburn', 'Atkinson', 'Burke', 'Fisher', 'Akhtar', 'Howell',\n",
       "       'Elliott', 'Fleming', 'Baldwin', 'Jarvis', 'Dunn', 'Andrews',\n",
       "       'Sinclair', 'Naylor', 'Hurst', 'Reid', 'Grant', 'Nicholson',\n",
       "       'Miles', 'Knight', 'Moss', 'King', 'Clarke', 'Kaur', 'Williamson',\n",
       "       'Dobson', 'Bates', 'Griffiths', 'Hayward', 'Webb', 'Ball',\n",
       "       'Buckley', 'Barry', 'Bird', 'Smith-Bird', 'Gibbons',\n",
       "       'Crawford-Scott', 'Pickering', 'Chan', 'Randall', 'Murphy',\n",
       "       'Wallace', 'Davey', 'Bowen', 'Hussain', 'Hodgson', 'Kennedy',\n",
       "       'Birch', 'French', 'Mellor', 'Miller', 'Fitzgerald', 'Watts',\n",
       "       'Kay', 'Sheppard', 'Saunders', 'Baxter-Campbell', 'George',\n",
       "       'Bevan', 'Howe', 'Ashton', 'Hope', 'Field', 'Hutchinson-Robinson',\n",
       "       'Bradley', 'Hutchinson', 'Goddard', 'Cook-Martin', 'Lynch',\n",
       "       'Jordan', 'Farrell', 'Carroll', 'Field-Lloyd', 'Warren',\n",
       "       'Richardson-Warren', 'Wallis', 'Nixon', 'Horton', 'Lawson',\n",
       "       'Steele', 'Berry-Thomas', 'Sykes', 'Hewitt', 'Stevenson', 'Banks',\n",
       "       'Davies-Conway', 'Poole', 'Howarth', 'Blake', 'Newton',\n",
       "       'Tomlinson', 'Reynolds-Tomlinson', 'Ford', 'Nash', 'Butler-Baker',\n",
       "       'Thornton', 'Frost', 'Webb-Walker', 'Myers', 'Nicholls',\n",
       "       'Middleton', 'Bowen-Middleton', 'Faulkner', 'Faulkner-Simpson',\n",
       "       'Douglas-Hodgson', 'Daniels', 'Byrne', 'Little', 'Henderson',\n",
       "       'Connor', 'Parkinson', 'Smith-Arnold', 'Pritchard', 'Howells',\n",
       "       'Dawson', 'Leonard', 'Potts', 'May-Potts', 'Ross', 'Curtis',\n",
       "       'Sanders', 'Carr', 'Fry', 'Davidson', 'Bentley', 'Armstrong',\n",
       "       'Godfrey', 'Tucker', 'Watson-Simmons', 'Baxter-Taylor', 'Powell',\n",
       "       'Gough', 'Barton', 'Lambert', 'Hicks', 'Cameron', 'Read',\n",
       "       'McDonald', 'Williamson-Berry', 'Murray', 'Archer', 'Waters-Reid',\n",
       "       'Shepherd', 'Sharpe', 'Dennis', 'Hilton', 'Parry', 'Miah',\n",
       "       'Robinson-Miah', 'Robinson-Powell', \"O'Connor\", 'Rahman',\n",
       "       'Bailey-Morgan', 'Metcalfe', 'Wilson-Rhodes', 'Campbell-Ali',\n",
       "       'Bishop', 'Alexander', 'Thomson', 'Nelson', 'Gordon-Cole',\n",
       "       'Russell-Berry', 'Townsend-Atkinson', 'Shaw', 'Osborne', 'Bull',\n",
       "       'Wall', 'Bryan', 'Mills-Bird', 'Norris', 'Wilson-Rose',\n",
       "       'Jackson-Bryant', 'Chambers', 'Dodd', 'Fuller', 'Carpenter',\n",
       "       'Marshall-Clements', 'Whittaker', 'Pearson-Glover', 'Doyle',\n",
       "       'Fletcher-Doyle', 'Sullivan', 'Sharp', 'Joyce', 'Schofield',\n",
       "       'Clarke-Jones', 'Green-Parker', 'Jenkins-Pearce',\n",
       "       'Barnes-Jenkins-Pearce', 'Mann-Shah', 'Baker-Blackburn', 'Holden',\n",
       "       'Holmes-Pearson', 'Pollard', 'Morgan-Oliver', 'Leach', 'Mistry',\n",
       "       'Ford-Adams', 'Morris-Ford-Adams', 'Roberts-Ward', 'Ryan', 'Cross',\n",
       "       'Robinson-Miller', 'Fletcher-Thompson', 'Wyatt', 'Wilson-Williams',\n",
       "       'Briggs', 'Harvey-Morrison', 'Parker-Cook', 'Morton', 'Norman',\n",
       "       'Walker-Murphy', 'Hancock', 'Pope', 'Barlow', 'Rose-Duffy',\n",
       "       'Pratt', 'Wilson-Whittaker', 'Murphy-Wilson-Whittaker', 'Wilkins',\n",
       "       'Owens', 'Wilson-Mann', 'Walker-Barton', 'Turner-Baxter', 'Morley',\n",
       "       'Griffin', 'Dale-Bradley', 'Rees', 'Smith-Smith',\n",
       "       'Wilson-Chambers', 'Norton', 'Wilkinson-Yates', 'Marshall-Green',\n",
       "       'Marsden', 'Hale', 'Richardson-Grant', 'Lane-Holmes', 'Humphreys',\n",
       "       'Giles', 'Chadwick', 'Clarke-Patterson', 'Macdonald', 'Garner',\n",
       "       'Franklin', 'Short', 'Walton', 'Doherty', 'Collier', 'Potter',\n",
       "       'Dickinson', 'Jennings', 'Harper', 'Potter-Evans', 'Nolan',\n",
       "       'Hussain-Parker', 'Manning', 'Wheeler', 'Miller-Edwards',\n",
       "       'Clark-Sharp', 'Porter', 'Watson-Banks', 'Smith-Lewis', 'Donnelly',\n",
       "       'Barrett-Miller', 'Taylor-Cook', 'Morgan-Walker', 'Fisher-Foster',\n",
       "       'Cunningham', 'Yates-Baker', 'Green-Evans', 'Bryant',\n",
       "       'Powell-Hooper', 'Wright-Pugh', 'Chandler', 'Wilson-Coleman',\n",
       "       'Fleming-Booth', 'Evans-Roberts', 'Lees', 'Parker-Walker', 'Wade',\n",
       "       'Stephens', 'Grant-Harvey', 'Flynn-Douglas', 'Ashton-Knowles',\n",
       "       'Buckley-Scott', 'Lawrence-Campbell', 'Gill', 'Thomas-Poole',\n",
       "       'Thorpe-Newton', 'Dean', 'Cole-Cartwright', 'Price-Baker', 'Gibbs',\n",
       "       'Collins-Davis', 'Moss-Stevens', 'Lewis-Moss-Stevens',\n",
       "       'Davis-Bennett', 'Peters', 'Webb-Leach', 'Skinner',\n",
       "       'Hughes-Simpson', 'Farrell-Bailey', 'Swift', 'Finch', 'Holloway',\n",
       "       'Williams-Clarke', 'Pearce-Hartley', 'Walker-Williams',\n",
       "       'Mills-Wright', 'White-Bentley', 'James-Oliver', 'Evans-Bell',\n",
       "       'Rice', 'Rowe', 'Boyle', 'Carter-Quinn', 'John', 'Houghton',\n",
       "       'Powell-Ryan', 'Mills-Clarke', 'Walker-Wong', 'Pritchard-Burrows',\n",
       "       'Chapman-George', 'Blake-Jarvis', 'Simmons-Tucker', 'Turner-Brown',\n",
       "       'Dale-Morton', 'Fowler-Lamb', 'Gallagher', 'Charlton',\n",
       "       'Oliver-Shepherd', 'Hargreaves', 'McKenzie', 'Moore-Byrne',\n",
       "       'Gilbert-Simpson', 'Chamberlain', \"O'Sullivan\", 'Kirby-Smith',\n",
       "       'Evans-Barrett', 'Chambers-Naylor', 'Bates-Howarth',\n",
       "       'Robertson-Baker', 'Kirby-Ross', 0, 'Parry-Davison',\n",
       "       'George Edwards', 'George-Edwards', 'Hussain-Burton',\n",
       "       'Bryant-Davies', 'Duffy-Owen', 'Knight-Wells',\n",
       "       'Brooks-Knight-Wells', 'Joanna Butler', 'Jones-Storey', 'Fox-Howe',\n",
       "       'Jones-Harris', 'Wilkins-Wood', 'Moore-Bryant', 'Hart-Edwards',\n",
       "       'Poole-Baxter', 'Burke-Williams', 'Wyatt-Burke-Williams'],\n",
       "      dtype=object)"
      ]
     },
     "execution_count": 55,
     "metadata": {},
     "output_type": "execute_result"
    }
   ],
   "source": [
    "df['Surname']=df['Surname'].fillna(0)\n",
    "df['Surname'].unique()"
   ]
  },
  {
   "cell_type": "code",
   "execution_count": 56,
   "id": "7132dd9f",
   "metadata": {},
   "outputs": [
    {
     "data": {
      "text/plain": [
       "array(['Head', 'Wife', 'Husband', 'Daughter', 'Son', 'Partner',\n",
       "       'Grandson', 'Lodger', 'None', 'Step-Daughter', 'Granddaughter',\n",
       "       'Visitor', 'Adopted Son', 'Cousin', 'Adopted Granddaughter',\n",
       "       'Sibling', 'Step-Son', 'Adopted Daughter', 'Neice', 'Son-in-law',\n",
       "       'Nephew', nan, ' '], dtype=object)"
      ]
     },
     "execution_count": 56,
     "metadata": {},
     "output_type": "execute_result"
    }
   ],
   "source": [
    "# unique value Relationship to Head of House #nan #blank\n",
    "df['Relationship to Head of House'].unique()"
   ]
  },
  {
   "cell_type": "code",
   "execution_count": 57,
   "id": "a308bfaa",
   "metadata": {},
   "outputs": [
    {
     "name": "stdout",
     "output_type": "stream",
     "text": [
      "Mode: 0    Head\n",
      "dtype: object\n"
     ]
    }
   ],
   "source": [
    "#Mode Relationship to Head of House\n",
    "Relationship_to_Head_of_House=df['Relationship to Head of House']\n",
    "print(\"Mode:\", Relationship_to_Head_of_House.mode())"
   ]
  },
  {
   "cell_type": "code",
   "execution_count": 58,
   "id": "43754bdb",
   "metadata": {},
   "outputs": [
    {
     "data": {
      "text/plain": [
       "9463     \n",
       "Name: Relationship to Head of House, dtype: object"
      ]
     },
     "execution_count": 58,
     "metadata": {},
     "output_type": "execute_result"
    }
   ],
   "source": [
    "df['Relationship to Head of House'][df['Relationship to Head of House']==' ']"
   ]
  },
  {
   "cell_type": "code",
   "execution_count": 59,
   "id": "c91fbd04",
   "metadata": {},
   "outputs": [
    {
     "data": {
      "text/plain": [
       "House Number                                          11\n",
       "Street                                     Morgan Common\n",
       "First Name                                         Naomi\n",
       "Surname                                         Houghton\n",
       "Age                                                   60\n",
       "Relationship to Head of House                           \n",
       "Marital Status                                  Divorced\n",
       "Gender                                            Female\n",
       "Occupation                                    Unemployed\n",
       "Infirmity                                           None\n",
       "Religion                                       Christian\n",
       "House Number_ismissing                             False\n",
       "Street_ismissing                                   False\n",
       "First Name_ismissing                               False\n",
       "Surname_ismissing                                  False\n",
       "Relationship to Head of House_ismissing            False\n",
       "Marital Status_ismissing                           False\n",
       "Gender_ismissing                                   False\n",
       "Religion_ismissing                                 False\n",
       "num_missing                                            0\n",
       "Name: 9463, dtype: object"
      ]
     },
     "execution_count": 59,
     "metadata": {},
     "output_type": "execute_result"
    }
   ],
   "source": [
    "df.loc[9463]"
   ]
  },
  {
   "cell_type": "code",
   "execution_count": 60,
   "id": "76588e3b",
   "metadata": {},
   "outputs": [
    {
     "data": {
      "text/plain": [
       "array(['Head', 'Wife', 'Husband', 'Daughter', 'Son', 'Partner',\n",
       "       'Grandson', 'Lodger', 'None', 'Step-Daughter', 'Granddaughter',\n",
       "       'Visitor', 'Adopted Son', 'Cousin', 'Adopted Granddaughter',\n",
       "       'Sibling', 'Step-Son', 'Adopted Daughter', 'Neice', 'Son-in-law',\n",
       "       'Nephew'], dtype=object)"
      ]
     },
     "execution_count": 60,
     "metadata": {},
     "output_type": "execute_result"
    }
   ],
   "source": [
    "df['Relationship to Head of House']=df['Relationship to Head of House'].replace(to_replace=' ', value='Head')\n",
    "df['Relationship to Head of House']=df['Relationship to Head of House'].replace(to_replace=np.nan, value='Head')\n",
    "df['Relationship to Head of House'].unique()"
   ]
  },
  {
   "cell_type": "code",
   "execution_count": 61,
   "id": "581191e1",
   "metadata": {},
   "outputs": [
    {
     "data": {
      "text/plain": [
       "array(['Single', 'Widowed', 'Married', nan, 'Divorced', 'M', 'S'],\n",
       "      dtype=object)"
      ]
     },
     "execution_count": 61,
     "metadata": {},
     "output_type": "execute_result"
    }
   ],
   "source": [
    "# unique value  Marital Status  \n",
    "df['Marital Status'].unique() #nan #M #S"
   ]
  },
  {
   "cell_type": "code",
   "execution_count": 62,
   "id": "911ca801",
   "metadata": {},
   "outputs": [
    {
     "name": "stdout",
     "output_type": "stream",
     "text": [
      "Mode: 0    Single\n",
      "dtype: object\n"
     ]
    }
   ],
   "source": [
    "#Mode Marital Status\n",
    "Marital_Status=df['Marital Status']\n",
    "print(\"Mode:\", Marital_Status.mode())\n"
   ]
  },
  {
   "cell_type": "code",
   "execution_count": 63,
   "id": "c1c109c9",
   "metadata": {},
   "outputs": [
    {
     "data": {
      "text/plain": [
       "array(['Single', 'Widowed', 'Married', 'Divorced'], dtype=object)"
      ]
     },
     "execution_count": 63,
     "metadata": {},
     "output_type": "execute_result"
    }
   ],
   "source": [
    "df['Marital Status']=df['Marital Status'].replace(to_replace='M', value='Married')\n",
    "df['Marital Status']=df['Marital Status'].replace(to_replace='S', value='Single')\n",
    "df['Marital Status']=df['Marital Status'].replace(to_replace=np.nan, value='Single')\n",
    "df['Marital Status'].unique()\n"
   ]
  },
  {
   "cell_type": "code",
   "execution_count": 64,
   "id": "e1d9dd56",
   "metadata": {},
   "outputs": [
    {
     "data": {
      "text/plain": [
       "array(['Female', 'Male', 'MALE', 'F-male', ' ', 'M', 'FEMALE', nan, 'F'],\n",
       "      dtype=object)"
      ]
     },
     "execution_count": 64,
     "metadata": {},
     "output_type": "execute_result"
    }
   ],
   "source": [
    "# unique value Gender\n",
    "df['Gender'].unique() #blank #F-male #MALE #FEMALE #F,#nan"
   ]
  },
  {
   "cell_type": "code",
   "execution_count": 65,
   "id": "0031a9c5",
   "metadata": {},
   "outputs": [
    {
     "data": {
      "text/plain": [
       "1948     \n",
       "2938     \n",
       "Name: Gender, dtype: object"
      ]
     },
     "execution_count": 65,
     "metadata": {},
     "output_type": "execute_result"
    }
   ],
   "source": [
    "df['Gender'][df['Gender']==' ']"
   ]
  },
  {
   "cell_type": "code",
   "execution_count": 66,
   "id": "12aa4f99",
   "metadata": {},
   "outputs": [
    {
     "name": "stdout",
     "output_type": "stream",
     "text": [
      "Mode: 0    Female\n",
      "dtype: object\n"
     ]
    }
   ],
   "source": [
    "#Mode Gender\n",
    "Gender=df['Gender']\n",
    "print(\"Mode:\", Gender.mode())"
   ]
  },
  {
   "cell_type": "code",
   "execution_count": 67,
   "id": "18bc642b",
   "metadata": {},
   "outputs": [
    {
     "data": {
      "text/plain": [
       "array(['Female', 'Male'], dtype=object)"
      ]
     },
     "execution_count": 67,
     "metadata": {},
     "output_type": "execute_result"
    }
   ],
   "source": [
    "df['Gender']=df['Gender'].replace(to_replace=' ', value=np.nan)\n",
    "df['Gender']=df['Gender'].replace(to_replace='MALE', value='Male')\n",
    "df['Gender']=df['Gender'].replace(to_replace='FEMALE', value='Female')\n",
    "df['Gender']=df['Gender'].replace(to_replace='F-male', value='Female')\n",
    "df['Gender']=df['Gender'].replace(to_replace='F', value='Female')\n",
    "df['Gender']=df['Gender'].replace(to_replace='M', value='Male')\n",
    "df['Gender']=df['Gender'].replace(to_replace=np.nan, value='Female')\n",
    "df['Gender'].unique()"
   ]
  },
  {
   "cell_type": "code",
   "execution_count": 68,
   "id": "e640cea9",
   "metadata": {},
   "outputs": [
    {
     "data": {
      "text/plain": [
       "array(['Producer, radio', 'Retired Administrator, sports',\n",
       "       'Retired Bookseller', ..., 'Retired Therapist, music',\n",
       "       'Retired Clinical biochemist', 'Retired Art gallery manager'],\n",
       "      dtype=object)"
      ]
     },
     "execution_count": 68,
     "metadata": {},
     "output_type": "execute_result"
    }
   ],
   "source": [
    "# unique value Occupation \n",
    "df['Occupation'].unique()"
   ]
  },
  {
   "cell_type": "code",
   "execution_count": 69,
   "id": "1e961d9d",
   "metadata": {},
   "outputs": [
    {
     "data": {
      "text/plain": [
       "array(['None', 'Deaf', 'Unknown Infection', 'Mental Disability',\n",
       "       'Physical Disability', ' ', 'Blind', 'Disabled', 'Female'],\n",
       "      dtype=object)"
      ]
     },
     "execution_count": 69,
     "metadata": {},
     "output_type": "execute_result"
    }
   ],
   "source": [
    "# Infirmity   #Female #blank\n",
    "df['Infirmity'].unique()"
   ]
  },
  {
   "cell_type": "code",
   "execution_count": 70,
   "id": "650345ca",
   "metadata": {},
   "outputs": [
    {
     "data": {
      "text/plain": [
       "1103     \n",
       "1304     \n",
       "1451     \n",
       "2761     \n",
       "3137     \n",
       "4054     \n",
       "4785     \n",
       "4985     \n",
       "5050     \n",
       "6821     \n",
       "Name: Infirmity, dtype: object"
      ]
     },
     "execution_count": 70,
     "metadata": {},
     "output_type": "execute_result"
    }
   ],
   "source": [
    "df['Infirmity'][df['Infirmity']==' ']"
   ]
  },
  {
   "cell_type": "code",
   "execution_count": 71,
   "id": "f23e35e6",
   "metadata": {},
   "outputs": [
    {
     "data": {
      "text/plain": [
       "House Number                                                    53\n",
       "Street                                               Lee Stravenue\n",
       "First Name                                                 Marilyn\n",
       "Surname                                                   Sheppard\n",
       "Age                                                             57\n",
       "Relationship to Head of House                                 Head\n",
       "Marital Status                                              Single\n",
       "Gender                                                      Female\n",
       "Occupation                                 Secretary/administrator\n",
       "Infirmity                                                   Female\n",
       "Religion                                                 Christian\n",
       "House Number_ismissing                                       False\n",
       "Street_ismissing                                             False\n",
       "First Name_ismissing                                         False\n",
       "Surname_ismissing                                            False\n",
       "Relationship to Head of House_ismissing                      False\n",
       "Marital Status_ismissing                                     False\n",
       "Gender_ismissing                                             False\n",
       "Religion_ismissing                                           False\n",
       "num_missing                                                      0\n",
       "Name: 2789, dtype: object"
      ]
     },
     "execution_count": 71,
     "metadata": {},
     "output_type": "execute_result"
    }
   ],
   "source": [
    "df['Infirmity'][df['Infirmity']=='Female']\n",
    "df.loc[2789]"
   ]
  },
  {
   "cell_type": "code",
   "execution_count": 72,
   "id": "6672c369",
   "metadata": {},
   "outputs": [
    {
     "name": "stdout",
     "output_type": "stream",
     "text": [
      "Mode: 0    None\n",
      "dtype: object\n"
     ]
    }
   ],
   "source": [
    "#Mode Infirmity\n",
    "Infirmity=df['Infirmity']\n",
    "print(\"Mode:\", Infirmity.mode())"
   ]
  },
  {
   "cell_type": "code",
   "execution_count": 73,
   "id": "59a3fbea",
   "metadata": {},
   "outputs": [
    {
     "data": {
      "text/plain": [
       "array(['None', 'Deaf', 'Unknown Infection', 'Mental Disability',\n",
       "       'Physical Disability', 'Blind', 'Disabled'], dtype=object)"
      ]
     },
     "execution_count": 73,
     "metadata": {},
     "output_type": "execute_result"
    }
   ],
   "source": [
    "df['Infirmity']=df['Infirmity'].replace(to_replace=' ', value=np.nan)\n",
    "df['Infirmity']=df['Infirmity'].replace(to_replace='Female', value='None')\n",
    "df['Infirmity']=df['Infirmity'].replace(to_replace=np.nan, value='None')\n",
    "\n",
    "df['Infirmity'].unique()"
   ]
  },
  {
   "cell_type": "code",
   "execution_count": 74,
   "id": "8ce14be5",
   "metadata": {},
   "outputs": [
    {
     "data": {
      "text/plain": [
       "array(['Methodist', 'Catholic', 'None', 'Christian', nan, 'Muslim',\n",
       "       'Jewish', 'Female', 'Sikh', 'Bahai', 'Hindu', 'Buddist', 'Jedi',\n",
       "       'Baptist', 'Private', 'Undecided', 'Orthodoxy', ' ', 'Quaker',\n",
       "       'Sith'], dtype=object)"
      ]
     },
     "execution_count": 74,
     "metadata": {},
     "output_type": "execute_result"
    }
   ],
   "source": [
    "#Religion #None #nan #Female \n",
    "df['Religion'].unique()"
   ]
  },
  {
   "cell_type": "code",
   "execution_count": 75,
   "id": "b138e48a",
   "metadata": {},
   "outputs": [
    {
     "data": {
      "text/plain": [
       "6954     \n",
       "6955     \n",
       "Name: Religion, dtype: object"
      ]
     },
     "execution_count": 75,
     "metadata": {},
     "output_type": "execute_result"
    }
   ],
   "source": [
    "df['Religion'][df['Religion']==' ']"
   ]
  },
  {
   "cell_type": "code",
   "execution_count": 76,
   "id": "3ec1aa5d",
   "metadata": {},
   "outputs": [
    {
     "data": {
      "text/plain": [
       "House Number                                                        29\n",
       "Street                                                  Peacock Avenue\n",
       "First Name                                                    Rosemary\n",
       "Surname                                                         Oliver\n",
       "Age                                                                 41\n",
       "Relationship to Head of House                                     Head\n",
       "Marital Status                                                  Single\n",
       "Gender                                                          Female\n",
       "Occupation                                 Lecturer, further education\n",
       "Infirmity                                                         None\n",
       "Religion                                                        Female\n",
       "House Number_ismissing                                           False\n",
       "Street_ismissing                                                 False\n",
       "First Name_ismissing                                             False\n",
       "Surname_ismissing                                                False\n",
       "Relationship to Head of House_ismissing                          False\n",
       "Marital Status_ismissing                                         False\n",
       "Gender_ismissing                                                 False\n",
       "Religion_ismissing                                               False\n",
       "num_missing                                                          0\n",
       "Name: 102, dtype: object"
      ]
     },
     "execution_count": 76,
     "metadata": {},
     "output_type": "execute_result"
    }
   ],
   "source": [
    "df['Religion'][df['Religion']=='Female']\n",
    "df.loc[102]"
   ]
  },
  {
   "cell_type": "code",
   "execution_count": 77,
   "id": "cea9b73e",
   "metadata": {},
   "outputs": [
    {
     "name": "stdout",
     "output_type": "stream",
     "text": [
      "Mode: 0    None\n",
      "dtype: object\n"
     ]
    }
   ],
   "source": [
    "#Mode Religion\n",
    "Religion=df['Religion']\n",
    "print(\"Mode:\", Religion.mode())"
   ]
  },
  {
   "cell_type": "code",
   "execution_count": 78,
   "id": "fb355eca",
   "metadata": {},
   "outputs": [
    {
     "data": {
      "text/plain": [
       "array(['Methodist', 'Catholic', 'None', 'Christian', 'Muslim', 'Jewish',\n",
       "       'Sikh', 'Bahai', 'Hindu', 'Buddhist', 'Jedi', 'Baptist',\n",
       "       'Orthodoxy', 'Quaker', 'Sith'], dtype=object)"
      ]
     },
     "execution_count": 78,
     "metadata": {},
     "output_type": "execute_result"
    }
   ],
   "source": [
    "df['Religion']=df['Religion'].replace(to_replace='Female', value='None')\n",
    "df['Religion']=df['Religion'].replace(to_replace=' ', value=np.nan)\n",
    "df['Religion']=df['Religion'].replace(to_replace=np.nan, value='None')\n",
    "df['Religion']=df['Religion'].replace(to_replace='Private', value='None')\n",
    "df['Religion']=df['Religion'].replace(to_replace='Undecided', value='None')\n",
    "df['Religion']=df['Religion'].replace(to_replace='Buddist', value='Buddhist')\n",
    "df['Religion'].unique()"
   ]
  },
  {
   "cell_type": "code",
   "execution_count": 79,
   "id": "7ed7a825",
   "metadata": {},
   "outputs": [
    {
     "data": {
      "text/plain": [
       "<seaborn.axisgrid.FacetGrid at 0x190cd07d820>"
      ]
     },
     "execution_count": 79,
     "metadata": {},
     "output_type": "execute_result"
    },
    {
     "data": {
      "image/png": "[encoded data removed]",
      "text/plain": [
       "<Figure size 360x360 with 1 Axes>"
      ]
     },
     "metadata": {
      "needs_background": "light"
     },
     "output_type": "display_data"
    }
   ],
   "source": [
    "#Histogram of \"Religion\"\n",
    "\n",
    "sns.displot(data=df, y='Religion')"
   ]
  },
  {
   "cell_type": "code",
   "execution_count": 80,
   "id": "456c3ae9",
   "metadata": {},
   "outputs": [
    {
     "data": {
      "text/plain": [
       "count     9687\n",
       "unique      15\n",
       "top       None\n",
       "freq      5560\n",
       "Name: Religion, dtype: object"
      ]
     },
     "execution_count": 80,
     "metadata": {},
     "output_type": "execute_result"
    }
   ],
   "source": [
    "df['Religion'].describe()"
   ]
  },
  {
   "cell_type": "code",
   "execution_count": 81,
   "id": "b13a38ea",
   "metadata": {},
   "outputs": [
    {
     "data": {
      "text/plain": [
       "<seaborn.axisgrid.FacetGrid at 0x190cf810df0>"
      ]
     },
     "execution_count": 81,
     "metadata": {},
     "output_type": "execute_result"
    },
    {
     "data": {
      "image/png": "[encoded data removed]",
      "text/plain": [
       "<Figure size 360x360 with 1 Axes>"
      ]
     },
     "metadata": {
      "needs_background": "light"
     },
     "output_type": "display_data"
    }
   ],
   "source": [
    "#Histogram of Age\n",
    "sns.displot(data=df, x='Age', binwidth=10)"
   ]
  },
  {
   "cell_type": "code",
   "execution_count": 82,
   "id": "f2477481",
   "metadata": {},
   "outputs": [
    {
     "data": {
      "text/plain": [
       "<AxesSubplot:>"
      ]
     },
     "execution_count": 82,
     "metadata": {},
     "output_type": "execute_result"
    },
    {
     "data": {
      "image/png": "[encoded data removed]",
      "text/plain": [
       "<Figure size 432x288 with 1 Axes>"
      ]
     },
     "metadata": {
      "needs_background": "light"
     },
     "output_type": "display_data"
    }
   ],
   "source": [
    "sns.boxplot(data=df.Age)"
   ]
  },
  {
   "cell_type": "code",
   "execution_count": 83,
   "id": "d4dc6d9e",
   "metadata": {},
   "outputs": [
    {
     "data": {
      "text/plain": [
       "<seaborn.axisgrid.FacetGrid at 0x190cf298850>"
      ]
     },
     "execution_count": 83,
     "metadata": {},
     "output_type": "execute_result"
    },
    {
     "data": {
      "image/png": "[encoded data removed]",
      "text/plain": [
       "<Figure size 360x360 with 1 Axes>"
      ]
     },
     "metadata": {
      "needs_background": "light"
     },
     "output_type": "display_data"
    }
   ],
   "source": [
    "#Histogram of Age and Religion\n",
    "sns.displot(data=df, x='Age', y='Religion')"
   ]
  },
  {
   "cell_type": "code",
   "execution_count": 84,
   "id": "1f967605",
   "metadata": {},
   "outputs": [
    {
     "data": {
      "text/plain": [
       "<seaborn.axisgrid.FacetGrid at 0x190cf29ed30>"
      ]
     },
     "execution_count": 84,
     "metadata": {},
     "output_type": "execute_result"
    },
    {
     "data": {
      "image/png": "[encoded data removed]",
      "text/plain": [
       "<Figure size 360x360 with 1 Axes>"
      ]
     },
     "metadata": {
      "needs_background": "light"
     },
     "output_type": "display_data"
    }
   ],
   "source": [
    "#Histogram of Age and Infirmity\n",
    "sns.displot(data=df, x='Age', y='Infirmity')"
   ]
  },
  {
   "cell_type": "code",
   "execution_count": 85,
   "id": "c256dafd",
   "metadata": {},
   "outputs": [
    {
     "data": {
      "text/plain": [
       "<seaborn.axisgrid.FacetGrid at 0x190cf816a60>"
      ]
     },
     "execution_count": 85,
     "metadata": {},
     "output_type": "execute_result"
    },
    {
     "data": {
      "image/png": "[encoded data removed]",
      "text/plain": [
       "<Figure size 360x360 with 1 Axes>"
      ]
     },
     "metadata": {
      "needs_background": "light"
     },
     "output_type": "display_data"
    }
   ],
   "source": [
    "sns.relplot(data=df, x='Age', y='Infirmity')"
   ]
  },
  {
   "cell_type": "code",
   "execution_count": 86,
   "id": "3d19311d",
   "metadata": {},
   "outputs": [
    {
     "data": {
      "text/plain": [
       "<seaborn.axisgrid.FacetGrid at 0x190cf9aa130>"
      ]
     },
     "execution_count": 86,
     "metadata": {},
     "output_type": "execute_result"
    },
    {
     "data": {
      "image/png": "[encoded data removed]",
      "text/plain": [
       "<Figure size 360x360 with 1 Axes>"
      ]
     },
     "metadata": {
      "needs_background": "light"
     },
     "output_type": "display_data"
    }
   ],
   "source": [
    "#Histogram of Age and Gender\n",
    "sns.displot(data=df, x='Age', y='Gender', binwidth=10)"
   ]
  },
  {
   "cell_type": "code",
   "execution_count": 87,
   "id": "8cc99f2f",
   "metadata": {},
   "outputs": [
    {
     "data": {
      "text/plain": [
       "<seaborn.axisgrid.FacetGrid at 0x190d0a0eee0>"
      ]
     },
     "execution_count": 87,
     "metadata": {},
     "output_type": "execute_result"
    },
    {
     "data": {
      "image/png": "[encoded data removed]",
      "text/plain": [
       "<Figure size 360x360 with 1 Axes>"
      ]
     },
     "metadata": {
      "needs_background": "light"
     },
     "output_type": "display_data"
    }
   ],
   "source": [
    "#Histogram of Gender\n",
    "sns.displot(data=df, x='Gender', binwidth=5)"
   ]
  },
  {
   "cell_type": "code",
   "execution_count": 88,
   "id": "04ad1ee6",
   "metadata": {},
   "outputs": [
    {
     "data": {
      "text/plain": [
       "<seaborn.axisgrid.FacetGrid at 0x190d09fa400>"
      ]
     },
     "execution_count": 88,
     "metadata": {},
     "output_type": "execute_result"
    },
    {
     "data": {
      "image/png": "[encoded data removed]",
      "text/plain": [
       "<Figure size 360x360 with 1 Axes>"
      ]
     },
     "metadata": {
      "needs_background": "light"
     },
     "output_type": "display_data"
    }
   ],
   "source": [
    "#Histogram of Infirmity\n",
    "sns.displot(data=df, y='Infirmity')"
   ]
  },
  {
   "cell_type": "code",
   "execution_count": 89,
   "id": "f4936c7f",
   "metadata": {},
   "outputs": [
    {
     "data": {
      "text/plain": [
       "<seaborn.axisgrid.FacetGrid at 0x190d0b51430>"
      ]
     },
     "execution_count": 89,
     "metadata": {},
     "output_type": "execute_result"
    },
    {
     "data": {
      "image/png": "[encoded data removed]",
      "text/plain": [
       "<Figure size 360x360 with 1 Axes>"
      ]
     },
     "metadata": {
      "needs_background": "light"
     },
     "output_type": "display_data"
    }
   ],
   "source": [
    "#Histogram of Relationship to Head of House\n",
    "sns.displot(data=df, y='Relationship to Head of House')"
   ]
  },
  {
   "cell_type": "code",
   "execution_count": 90,
   "id": "e1b01606",
   "metadata": {},
   "outputs": [
    {
     "data": {
      "text/plain": [
       "<seaborn.axisgrid.FacetGrid at 0x190d0b41220>"
      ]
     },
     "execution_count": 90,
     "metadata": {},
     "output_type": "execute_result"
    },
    {
     "data": {
      "image/png": "[encoded data removed]",
      "text/plain": [
       "<Figure size 360x360 with 1 Axes>"
      ]
     },
     "metadata": {
      "needs_background": "light"
     },
     "output_type": "display_data"
    }
   ],
   "source": [
    "#Histogram of House Number\n",
    "sns.displot(data=df, x='House Number', binwidth=10)"
   ]
  },
  {
   "cell_type": "code",
   "execution_count": 91,
   "id": "6719d9ab",
   "metadata": {},
   "outputs": [
    {
     "data": {
      "text/plain": [
       "<seaborn.axisgrid.FacetGrid at 0x190d0c691f0>"
      ]
     },
     "execution_count": 91,
     "metadata": {},
     "output_type": "execute_result"
    },
    {
     "data": {
      "image/png": "[encoded data removed]",
      "text/plain": [
       "<Figure size 360x360 with 1 Axes>"
      ]
     },
     "metadata": {
      "needs_background": "light"
     },
     "output_type": "display_data"
    }
   ],
   "source": [
    "#Histogram of Marital status\n",
    "sns.displot(data=df, x='Marital Status')"
   ]
  },
  {
   "cell_type": "code",
   "execution_count": 92,
   "id": "51d9cb7f",
   "metadata": {},
   "outputs": [
    {
     "data": {
      "text/plain": [
       "2       88\n",
       "6       43\n",
       "10      54\n",
       "12      54\n",
       "16      22\n",
       "        ..\n",
       "9672    17\n",
       "9673    16\n",
       "9674    13\n",
       "9681    48\n",
       "9685     4\n",
       "Name: Age, Length: 4590, dtype: int32"
      ]
     },
     "execution_count": 92,
     "metadata": {},
     "output_type": "execute_result"
    }
   ],
   "source": [
    "#Providing more details about the Age column, Male Age\n",
    "\n",
    "Male=df[df['Gender']=='Male']\n",
    "Male['Age']"
   ]
  },
  {
   "cell_type": "code",
   "execution_count": 93,
   "id": "b322099c",
   "metadata": {},
   "outputs": [
    {
     "data": {
      "text/plain": [
       "<seaborn.axisgrid.FacetGrid at 0x190d0b46f10>"
      ]
     },
     "execution_count": 93,
     "metadata": {},
     "output_type": "execute_result"
    },
    {
     "data": {
      "image/png": "[encoded data removed]",
      "text/plain": [
       "<Figure size 360x360 with 1 Axes>"
      ]
     },
     "metadata": {
      "needs_background": "light"
     },
     "output_type": "display_data"
    }
   ],
   "source": [
    "#Histogram Male Age\n",
    "sns.displot(data=df, x=Male['Age'])"
   ]
  },
  {
   "cell_type": "code",
   "execution_count": 94,
   "id": "b1c6d858",
   "metadata": {},
   "outputs": [
    {
     "data": {
      "text/plain": [
       "0       31\n",
       "1       91\n",
       "3       88\n",
       "4       73\n",
       "5       41\n",
       "        ..\n",
       "9680    46\n",
       "9682    17\n",
       "9683    11\n",
       "9684     9\n",
       "9686    69\n",
       "Name: Age, Length: 5097, dtype: int32"
      ]
     },
     "execution_count": 94,
     "metadata": {},
     "output_type": "execute_result"
    }
   ],
   "source": [
    "#Female Age\n",
    "Female=df[df['Gender']=='Female']\n",
    "Female['Age']"
   ]
  },
  {
   "cell_type": "code",
   "execution_count": 95,
   "id": "59b8e6bc",
   "metadata": {},
   "outputs": [
    {
     "data": {
      "text/plain": [
       "<seaborn.axisgrid.FacetGrid at 0x190d0c48fa0>"
      ]
     },
     "execution_count": 95,
     "metadata": {},
     "output_type": "execute_result"
    },
    {
     "data": {
      "image/png": "[encoded data removed]",
      "text/plain": [
       "<Figure size 360x360 with 1 Axes>"
      ]
     },
     "metadata": {
      "needs_background": "light"
     },
     "output_type": "display_data"
    }
   ],
   "source": [
    "#Histogram of female Age\n",
    "sns.displot(data=df, x=Female['Age'])"
   ]
  },
  {
   "cell_type": "markdown",
   "id": "a5935e52",
   "metadata": {},
   "source": [
    "Age pyramid"
   ]
  },
  {
   "cell_type": "code",
   "execution_count": 96,
   "id": "05715052",
   "metadata": {},
   "outputs": [],
   "source": [
    "#creating list\n",
    "one,ten,twenty,thirty,fourty,fifty= 0,0,0,0,0,0 \n",
    "sixty,seventy,eighty,ninety,hundred=0,0,0,0,0"
   ]
  },
  {
   "cell_type": "code",
   "execution_count": 97,
   "id": "a58f7ee7",
   "metadata": {},
   "outputs": [],
   "source": [
    "#getting the Age class and Age count for Male\n",
    "for age in Male['Age']:\n",
    "    if age <=9:\n",
    "        one +=1\n",
    "    elif age >=10 and age<=19:\n",
    "        ten +=1\n",
    "    elif age >=20 and age<=29:\n",
    "        twenty +=1\n",
    "    elif age >=30 and age<=39:\n",
    "        thirty +=1\n",
    "    elif age >=40 and age<=49:\n",
    "        fourty +=1\n",
    "    elif age >=50 and age<=59:\n",
    "        fifty +=1\n",
    "    elif age >=60 and age<=69:\n",
    "        sixty +=1\n",
    "    elif age >=70 and age<=79:\n",
    "        seventy +=1\n",
    "    elif age >=80 and age<=89:\n",
    "        eighty +=1\n",
    "    elif age >=90 and age<=99:\n",
    "        ninety +=1\n",
    "    elif age >=100:\n",
    "        hundred +=1\n",
    "        "
   ]
  },
  {
   "cell_type": "code",
   "execution_count": 98,
   "id": "59d36010",
   "metadata": {},
   "outputs": [],
   "source": [
    "data =[one,ten,twenty,thirty,fourty,fifty,sixty,seventy,eighty,ninety,hundred]\n",
    "data.reverse()"
   ]
  },
  {
   "cell_type": "code",
   "execution_count": 99,
   "id": "8ce8e4b3",
   "metadata": {},
   "outputs": [
    {
     "name": "stdout",
     "output_type": "stream",
     "text": [
      "[4, 24, 102, 215, 350, 535, 662, 700, 696, 697, 605]\n"
     ]
    }
   ],
   "source": [
    "print(data)"
   ]
  },
  {
   "cell_type": "code",
   "execution_count": 100,
   "id": "25e0bc25",
   "metadata": {},
   "outputs": [],
   "source": [
    "#getting the Age class and Age count for female\n",
    "one,ten,twenty,thirty,fourty,fifty= 0,0,0,0,0,0 \n",
    "sixty,seventy,eighty,ninety,hundred=0,0,0,0,0"
   ]
  },
  {
   "cell_type": "code",
   "execution_count": 101,
   "id": "89d7fe06",
   "metadata": {},
   "outputs": [],
   "source": [
    "for age in Female['Age']:\n",
    "    if age <=9:\n",
    "        one +=1\n",
    "    elif age >=10 and age<=19:\n",
    "        ten +=1\n",
    "    elif age >=20 and age<=29:\n",
    "        twenty +=1\n",
    "    elif age >=30 and age<=39:\n",
    "        thirty +=1\n",
    "    elif age >=40 and age<=49:\n",
    "        fourty +=1\n",
    "    elif age >=50 and age<=59:\n",
    "        fifty +=1\n",
    "    elif age >=60 and age<=69:\n",
    "        sixty +=1\n",
    "    elif age >=70 and age<=79:\n",
    "        seventy +=1\n",
    "    elif age >=80 and age<=89:\n",
    "        eighty +=1\n",
    "    elif age >=90 and age<=99:\n",
    "        ninety +=1\n",
    "    elif age >=100:\n",
    "        hundred +=1"
   ]
  },
  {
   "cell_type": "code",
   "execution_count": 102,
   "id": "f7248779",
   "metadata": {},
   "outputs": [],
   "source": [
    "data=[one,ten,twenty,thirty,fourty,fifty,sixty,seventy,eighty,ninety,hundred]\n",
    "data.reverse()"
   ]
  },
  {
   "cell_type": "code",
   "execution_count": 103,
   "id": "8d46264f",
   "metadata": {},
   "outputs": [
    {
     "name": "stdout",
     "output_type": "stream",
     "text": [
      "[8, 13, 126, 262, 413, 605, 758, 868, 764, 650, 630]\n"
     ]
    }
   ],
   "source": [
    "print(data)"
   ]
  },
  {
   "cell_type": "code",
   "execution_count": 104,
   "id": "e2cd3a43",
   "metadata": {},
   "outputs": [
    {
     "data": {
      "text/plain": [
       "[Text(0.5, 0, 'Population Count'), Text(0, 0.5, 'Age Group')]"
      ]
     },
     "execution_count": 104,
     "metadata": {},
     "output_type": "execute_result"
    },
    {
     "data": {
      "image/png": "[encoded data removed]",
      "text/plain": [
       "<Figure size 432x288 with 1 Axes>"
      ]
     },
     "metadata": {
      "needs_background": "light"
     },
     "output_type": "display_data"
    }
   ],
   "source": [
    "#Age pyramid\n",
    "#Male count is multiplies by -1, to give the shape of pyramid.\n",
    "\n",
    "import matplotlib.pyplot as plt\n",
    "age_p = pd.DataFrame({'Age': ['100+', '90-99', '80-89', '70-79', '60-69', '50-59', '40-49', \n",
    "'30-39', '20-29', '10-19', '0-9'], 'Male': [-4, -24, -102, -215, -350, -535, -662, -698, -696, -697, -607],'Female': [8, 13, 126, 262, 413, 605, 758, 866, 763, 649, 629]})\n",
    "\n",
    "AgeClass = ['100+', '90-99', '80-89', '70-79', '60-69', '50-59', '40-49', '30-39', '20-29', '10-19', '0-9']\n",
    "\n",
    "age_pyramid = sns.barplot(x='Male', y='Age', data=age_p, order=AgeClass, \n",
    "color=('mediumblue'), label='Male') \n",
    " \n",
    "age_pyramid = sns.barplot(x='Female', y='Age', data=age_p, order=AgeClass, \n",
    "color=('darkorange'), label='Female') \n",
    " \n",
    "age_pyramid.legend() \n",
    "plt.title('Age Pyramid') \n",
    "\n",
    "age_pyramid.set(xlabel='Population Count', ylabel='Age Group') \n",
    " \n",
    "    \n",
    "\n",
    "\n"
   ]
  },
  {
   "cell_type": "code",
   "execution_count": 105,
   "id": "0a0b8f53",
   "metadata": {},
   "outputs": [
    {
     "data": {
      "text/html": [
       "<div>\n",
       "<style scoped>\n",
       "    .dataframe tbody tr th:only-of-type {\n",
       "        vertical-align: middle;\n",
       "    }\n",
       "\n",
       "    .dataframe tbody tr th {\n",
       "        vertical-align: top;\n",
       "    }\n",
       "\n",
       "    .dataframe thead th {\n",
       "        text-align: right;\n",
       "    }\n",
       "</style>\n",
       "<table border=\"1\" class=\"dataframe\">\n",
       "  <thead>\n",
       "    <tr style=\"text-align: right;\">\n",
       "      <th></th>\n",
       "      <th>Age</th>\n",
       "      <th>Male</th>\n",
       "      <th>Female</th>\n",
       "    </tr>\n",
       "  </thead>\n",
       "  <tbody>\n",
       "    <tr>\n",
       "      <th>0</th>\n",
       "      <td>100+</td>\n",
       "      <td>-4</td>\n",
       "      <td>8</td>\n",
       "    </tr>\n",
       "    <tr>\n",
       "      <th>1</th>\n",
       "      <td>90-99</td>\n",
       "      <td>-24</td>\n",
       "      <td>13</td>\n",
       "    </tr>\n",
       "    <tr>\n",
       "      <th>2</th>\n",
       "      <td>80-89</td>\n",
       "      <td>-102</td>\n",
       "      <td>126</td>\n",
       "    </tr>\n",
       "    <tr>\n",
       "      <th>3</th>\n",
       "      <td>70-79</td>\n",
       "      <td>-215</td>\n",
       "      <td>262</td>\n",
       "    </tr>\n",
       "    <tr>\n",
       "      <th>4</th>\n",
       "      <td>60-69</td>\n",
       "      <td>-350</td>\n",
       "      <td>413</td>\n",
       "    </tr>\n",
       "    <tr>\n",
       "      <th>5</th>\n",
       "      <td>50-59</td>\n",
       "      <td>-535</td>\n",
       "      <td>605</td>\n",
       "    </tr>\n",
       "    <tr>\n",
       "      <th>6</th>\n",
       "      <td>40-49</td>\n",
       "      <td>-662</td>\n",
       "      <td>758</td>\n",
       "    </tr>\n",
       "    <tr>\n",
       "      <th>7</th>\n",
       "      <td>30-39</td>\n",
       "      <td>-698</td>\n",
       "      <td>866</td>\n",
       "    </tr>\n",
       "    <tr>\n",
       "      <th>8</th>\n",
       "      <td>20-29</td>\n",
       "      <td>-696</td>\n",
       "      <td>763</td>\n",
       "    </tr>\n",
       "    <tr>\n",
       "      <th>9</th>\n",
       "      <td>10-19</td>\n",
       "      <td>-697</td>\n",
       "      <td>649</td>\n",
       "    </tr>\n",
       "    <tr>\n",
       "      <th>10</th>\n",
       "      <td>0-9</td>\n",
       "      <td>-607</td>\n",
       "      <td>629</td>\n",
       "    </tr>\n",
       "  </tbody>\n",
       "</table>\n",
       "</div>"
      ],
      "text/plain": [
       "      Age  Male  Female\n",
       "0    100+    -4       8\n",
       "1   90-99   -24      13\n",
       "2   80-89  -102     126\n",
       "3   70-79  -215     262\n",
       "4   60-69  -350     413\n",
       "5   50-59  -535     605\n",
       "6   40-49  -662     758\n",
       "7   30-39  -698     866\n",
       "8   20-29  -696     763\n",
       "9   10-19  -697     649\n",
       "10    0-9  -607     629"
      ]
     },
     "execution_count": 105,
     "metadata": {},
     "output_type": "execute_result"
    }
   ],
   "source": [
    "age_p"
   ]
  },
  {
   "cell_type": "code",
   "execution_count": 106,
   "id": "82119e1b",
   "metadata": {},
   "outputs": [],
   "source": [
    "#unemployement by age, Gender, marital status and house Nunber\n",
    "unemployed=df[df['Occupation']=='Unemployed']\n",
    "age=unemployed['Age']\n",
    "gender=unemployed['Gender']\n",
    "marital_status=unemployed['Marital Status']\n",
    "House_Number=unemployed['House Number']"
   ]
  },
  {
   "cell_type": "code",
   "execution_count": 107,
   "id": "b41b6c91",
   "metadata": {},
   "outputs": [
    {
     "data": {
      "text/plain": [
       "Text(0.5, 0.98, 'Unemployment by Age')"
      ]
     },
     "execution_count": 107,
     "metadata": {},
     "output_type": "execute_result"
    },
    {
     "data": {
      "image/png": "[encoded data removed]",
      "text/plain": [
       "<Figure size 360x360 with 1 Axes>"
      ]
     },
     "metadata": {
      "needs_background": "light"
     },
     "output_type": "display_data"
    }
   ],
   "source": [
    "#Histogram of Unemployment by age  \n",
    "x=sns.displot(data=unemployed, x=age)\n",
    "x.fig.suptitle('Unemployment by Age') "
   ]
  },
  {
   "cell_type": "code",
   "execution_count": 108,
   "id": "42a03363",
   "metadata": {},
   "outputs": [
    {
     "data": {
      "text/plain": [
       "Text(0.5, 0.98, 'Unemployment by Gender')"
      ]
     },
     "execution_count": 108,
     "metadata": {},
     "output_type": "execute_result"
    },
    {
     "data": {
      "image/png": "[encoded data removed]",
      "text/plain": [
       "<Figure size 360x360 with 1 Axes>"
      ]
     },
     "metadata": {
      "needs_background": "light"
     },
     "output_type": "display_data"
    }
   ],
   "source": [
    "#Histogram of Unemployment by Gender \n",
    "x=sns.displot(data=unemployed, x=gender)\n",
    "x.fig.suptitle('Unemployment by Gender')"
   ]
  },
  {
   "cell_type": "code",
   "execution_count": 109,
   "id": "0a77aa10",
   "metadata": {},
   "outputs": [
    {
     "data": {
      "text/plain": [
       "Text(0.5, 0.98, 'Unemployment by Marital Status')"
      ]
     },
     "execution_count": 109,
     "metadata": {},
     "output_type": "execute_result"
    },
    {
     "data": {
      "image/png": "[encoded data removed]",
      "text/plain": [
       "<Figure size 360x360 with 1 Axes>"
      ]
     },
     "metadata": {
      "needs_background": "light"
     },
     "output_type": "display_data"
    }
   ],
   "source": [
    "#Histogram of Unempolyed by Marital status\n",
    "x=sns.displot(data=unemployed, x=marital_status)\n",
    "x.fig.suptitle('Unemployment by Marital Status')"
   ]
  },
  {
   "cell_type": "code",
   "execution_count": 110,
   "id": "b37f3efa",
   "metadata": {},
   "outputs": [
    {
     "data": {
      "text/plain": [
       "Text(0.5, 0.98, 'Unemployment by House Number')"
      ]
     },
     "execution_count": 110,
     "metadata": {},
     "output_type": "execute_result"
    },
    {
     "data": {
      "image/png": "[encoded data removed]",
      "text/plain": [
       "<Figure size 360x360 with 1 Axes>"
      ]
     },
     "metadata": {
      "needs_background": "light"
     },
     "output_type": "display_data"
    }
   ],
   "source": [
    "#histogram of Unemployment by House Number\n",
    "x=sns.displot(data=unemployed, x= House_Number)\n",
    "x.fig.suptitle('Unemployment by House Number')"
   ]
  },
  {
   "cell_type": "code",
   "execution_count": 111,
   "id": "6a251b15",
   "metadata": {},
   "outputs": [
    {
     "data": {
      "text/plain": [
       "House Number                               0\n",
       "Street                                     0\n",
       "First Name                                 0\n",
       "Surname                                    0\n",
       "Age                                        0\n",
       "Relationship to Head of House              0\n",
       "Marital Status                             0\n",
       "Gender                                     0\n",
       "Occupation                                 0\n",
       "Infirmity                                  0\n",
       "Religion                                   0\n",
       "House Number_ismissing                     0\n",
       "Street_ismissing                           0\n",
       "First Name_ismissing                       0\n",
       "Surname_ismissing                          0\n",
       "Relationship to Head of House_ismissing    0\n",
       "Marital Status_ismissing                   0\n",
       "Gender_ismissing                           0\n",
       "Religion_ismissing                         0\n",
       "num_missing                                0\n",
       "dtype: int64"
      ]
     },
     "execution_count": 111,
     "metadata": {},
     "output_type": "execute_result"
    }
   ],
   "source": [
    "#checking missing values(nan)\n",
    "df.isnull().sum()"
   ]
  },
  {
   "cell_type": "code",
   "execution_count": 112,
   "id": "56fd558f",
   "metadata": {},
   "outputs": [
    {
     "data": {
      "text/plain": [
       "<seaborn.axisgrid.FacetGrid at 0x190d2007c40>"
      ]
     },
     "execution_count": 112,
     "metadata": {},
     "output_type": "execute_result"
    },
    {
     "data": {
      "image/png": "[encoded data removed]",
      "text/plain": [
       "<Figure size 360x360 with 1 Axes>"
      ]
     },
     "metadata": {
      "needs_background": "light"
     },
     "output_type": "display_data"
    }
   ],
   "source": [
    "#plot of Religion and Age\n",
    "sns.relplot(data=df, x='Age', y='Religion')"
   ]
  },
  {
   "cell_type": "code",
   "execution_count": 113,
   "id": "9921dffb",
   "metadata": {},
   "outputs": [
    {
     "data": {
      "image/png": "[encoded data removed]",
      "text/plain": [
       "<Figure size 432x288 with 1 Axes>"
      ]
     },
     "metadata": {
      "needs_background": "light"
     },
     "output_type": "display_data"
    }
   ],
   "source": [
    "#bar plot Marital status by Age\n",
    "x=df['Age']\n",
    "y=df['Marital Status']\n",
    "Colours= ['yellow']\n",
    "plt.title('Marital Status by Age')\n",
    "plt.bar(df['Marital Status'],df['Age'], color= Colours)\n",
    "plt.xlabel('Marital Status', fontsize=9)\n",
    "plt.ylabel('Age', fontsize=9)\n",
    "plt.show()"
   ]
  },
  {
   "cell_type": "code",
   "execution_count": 114,
   "id": "91d6a823",
   "metadata": {},
   "outputs": [
    {
     "data": {
      "text/plain": [
       "count       9687\n",
       "unique         4\n",
       "top       Single\n",
       "freq        5761\n",
       "Name: Marital Status, dtype: object"
      ]
     },
     "execution_count": 114,
     "metadata": {},
     "output_type": "execute_result"
    }
   ],
   "source": [
    "df['Marital Status'].describe()"
   ]
  },
  {
   "cell_type": "code",
   "execution_count": 115,
   "id": "d9c5ee14",
   "metadata": {},
   "outputs": [
    {
     "data": {
      "text/plain": [
       "count    9687.000000\n",
       "mean       35.909879\n",
       "std        21.651665\n",
       "min         0.000000\n",
       "25%        19.000000\n",
       "50%        35.000000\n",
       "75%        52.000000\n",
       "max       107.000000\n",
       "Name: Age, dtype: float64"
      ]
     },
     "execution_count": 115,
     "metadata": {},
     "output_type": "execute_result"
    }
   ],
   "source": [
    "df['Age'].describe()"
   ]
  },
  {
   "cell_type": "code",
   "execution_count": 116,
   "id": "4cc936ee",
   "metadata": {},
   "outputs": [
    {
     "data": {
      "text/plain": [
       "count    9687.000000\n",
       "mean       46.198617\n",
       "std        51.459189\n",
       "min         0.000000\n",
       "25%        11.000000\n",
       "50%        26.000000\n",
       "75%        54.000000\n",
       "max       228.000000\n",
       "Name: House Number, dtype: float64"
      ]
     },
     "execution_count": 116,
     "metadata": {},
     "output_type": "execute_result"
    }
   ],
   "source": [
    "df['House Number'].describe()"
   ]
  },
  {
   "cell_type": "code",
   "execution_count": 117,
   "id": "c6440c54",
   "metadata": {},
   "outputs": [
    {
     "data": {
      "text/plain": [
       "count       9687\n",
       "unique         2\n",
       "top       Female\n",
       "freq        5097\n",
       "Name: Gender, dtype: object"
      ]
     },
     "execution_count": 117,
     "metadata": {},
     "output_type": "execute_result"
    }
   ],
   "source": [
    "df['Gender'].describe()"
   ]
  },
  {
   "cell_type": "code",
   "execution_count": 118,
   "id": "9b91db91",
   "metadata": {},
   "outputs": [
    {
     "name": "stdout",
     "output_type": "stream",
     "text": [
      "<class 'pandas.core.frame.DataFrame'>\n",
      "RangeIndex: 9687 entries, 0 to 9686\n",
      "Data columns (total 20 columns):\n",
      " #   Column                                   Non-Null Count  Dtype \n",
      "---  ------                                   --------------  ----- \n",
      " 0   House Number                             9687 non-null   int32 \n",
      " 1   Street                                   9687 non-null   object\n",
      " 2   First Name                               9687 non-null   object\n",
      " 3   Surname                                  9687 non-null   object\n",
      " 4   Age                                      9687 non-null   int32 \n",
      " 5   Relationship to Head of House            9687 non-null   object\n",
      " 6   Marital Status                           9687 non-null   object\n",
      " 7   Gender                                   9687 non-null   object\n",
      " 8   Occupation                               9687 non-null   object\n",
      " 9   Infirmity                                9687 non-null   object\n",
      " 10  Religion                                 9687 non-null   object\n",
      " 11  House Number_ismissing                   9687 non-null   bool  \n",
      " 12  Street_ismissing                         9687 non-null   bool  \n",
      " 13  First Name_ismissing                     9687 non-null   bool  \n",
      " 14  Surname_ismissing                        9687 non-null   bool  \n",
      " 15  Relationship to Head of House_ismissing  9687 non-null   bool  \n",
      " 16  Marital Status_ismissing                 9687 non-null   bool  \n",
      " 17  Gender_ismissing                         9687 non-null   bool  \n",
      " 18  Religion_ismissing                       9687 non-null   bool  \n",
      " 19  num_missing                              9687 non-null   int64 \n",
      "dtypes: bool(8), int32(2), int64(1), object(9)\n",
      "memory usage: 908.3+ KB\n"
     ]
    }
   ],
   "source": [
    "df.info()"
   ]
  },
  {
   "cell_type": "code",
   "execution_count": 119,
   "id": "d17bb64d",
   "metadata": {},
   "outputs": [
    {
     "data": {
      "text/html": [
       "<div>\n",
       "<style scoped>\n",
       "    .dataframe tbody tr th:only-of-type {\n",
       "        vertical-align: middle;\n",
       "    }\n",
       "\n",
       "    .dataframe tbody tr th {\n",
       "        vertical-align: top;\n",
       "    }\n",
       "\n",
       "    .dataframe thead th {\n",
       "        text-align: right;\n",
       "    }\n",
       "</style>\n",
       "<table border=\"1\" class=\"dataframe\">\n",
       "  <thead>\n",
       "    <tr style=\"text-align: right;\">\n",
       "      <th></th>\n",
       "      <th>House Number</th>\n",
       "      <th>Age</th>\n",
       "      <th>num_missing</th>\n",
       "    </tr>\n",
       "  </thead>\n",
       "  <tbody>\n",
       "    <tr>\n",
       "      <th>count</th>\n",
       "      <td>9687.000000</td>\n",
       "      <td>9687.000000</td>\n",
       "      <td>9687.000000</td>\n",
       "    </tr>\n",
       "    <tr>\n",
       "      <th>mean</th>\n",
       "      <td>46.198617</td>\n",
       "      <td>35.909879</td>\n",
       "      <td>0.470424</td>\n",
       "    </tr>\n",
       "    <tr>\n",
       "      <th>std</th>\n",
       "      <td>51.459189</td>\n",
       "      <td>21.651665</td>\n",
       "      <td>0.845197</td>\n",
       "    </tr>\n",
       "    <tr>\n",
       "      <th>min</th>\n",
       "      <td>0.000000</td>\n",
       "      <td>0.000000</td>\n",
       "      <td>0.000000</td>\n",
       "    </tr>\n",
       "    <tr>\n",
       "      <th>25%</th>\n",
       "      <td>11.000000</td>\n",
       "      <td>19.000000</td>\n",
       "      <td>0.000000</td>\n",
       "    </tr>\n",
       "    <tr>\n",
       "      <th>50%</th>\n",
       "      <td>26.000000</td>\n",
       "      <td>35.000000</td>\n",
       "      <td>0.000000</td>\n",
       "    </tr>\n",
       "    <tr>\n",
       "      <th>75%</th>\n",
       "      <td>54.000000</td>\n",
       "      <td>52.000000</td>\n",
       "      <td>0.000000</td>\n",
       "    </tr>\n",
       "    <tr>\n",
       "      <th>max</th>\n",
       "      <td>228.000000</td>\n",
       "      <td>107.000000</td>\n",
       "      <td>3.000000</td>\n",
       "    </tr>\n",
       "  </tbody>\n",
       "</table>\n",
       "</div>"
      ],
      "text/plain": [
       "       House Number          Age  num_missing\n",
       "count   9687.000000  9687.000000  9687.000000\n",
       "mean      46.198617    35.909879     0.470424\n",
       "std       51.459189    21.651665     0.845197\n",
       "min        0.000000     0.000000     0.000000\n",
       "25%       11.000000    19.000000     0.000000\n",
       "50%       26.000000    35.000000     0.000000\n",
       "75%       54.000000    52.000000     0.000000\n",
       "max      228.000000   107.000000     3.000000"
      ]
     },
     "execution_count": 119,
     "metadata": {},
     "output_type": "execute_result"
    }
   ],
   "source": [
    "df.describe()"
   ]
  },
  {
   "cell_type": "code",
   "execution_count": 120,
   "id": "5035ad4e",
   "metadata": {},
   "outputs": [
    {
     "data": {
      "text/plain": [
       "2       Married\n",
       "6       Married\n",
       "10      Married\n",
       "12       Single\n",
       "16      Married\n",
       "         ...   \n",
       "9672     Single\n",
       "9673     Single\n",
       "9674     Single\n",
       "9681    Married\n",
       "9685     Single\n",
       "Name: Marital Status, Length: 4590, dtype: object"
      ]
     },
     "execution_count": 120,
     "metadata": {},
     "output_type": "execute_result"
    }
   ],
   "source": [
    "#getting more detials about male marital status\n",
    "Male=df[df['Gender']=='Male']\n",
    "Male['Marital Status']"
   ]
  },
  {
   "cell_type": "code",
   "execution_count": 121,
   "id": "c19ec5e5",
   "metadata": {},
   "outputs": [
    {
     "data": {
      "text/plain": [
       "<seaborn.axisgrid.FacetGrid at 0x190d1e70250>"
      ]
     },
     "execution_count": 121,
     "metadata": {},
     "output_type": "execute_result"
    },
    {
     "data": {
      "image/png": "[encoded data removed]",
      "text/plain": [
       "<Figure size 360x360 with 1 Axes>"
      ]
     },
     "metadata": {
      "needs_background": "light"
     },
     "output_type": "display_data"
    }
   ],
   "source": [
    "#histogram of male marital status\n",
    "sns.displot(data=df, x=Male['Marital Status'])"
   ]
  },
  {
   "cell_type": "code",
   "execution_count": 122,
   "id": "0b086e4b",
   "metadata": {},
   "outputs": [
    {
     "data": {
      "text/plain": [
       "0        Single\n",
       "1       Widowed\n",
       "3       Married\n",
       "4       Widowed\n",
       "5       Married\n",
       "         ...   \n",
       "9680    Married\n",
       "9682     Single\n",
       "9683     Single\n",
       "9684     Single\n",
       "9686    Widowed\n",
       "Name: Marital Status, Length: 5097, dtype: object"
      ]
     },
     "execution_count": 122,
     "metadata": {},
     "output_type": "execute_result"
    }
   ],
   "source": [
    "#More details on female Marital Status\n",
    "Female=df[df['Gender']=='Female']\n",
    "Female['Marital Status']"
   ]
  },
  {
   "cell_type": "code",
   "execution_count": 123,
   "id": "dfaef572",
   "metadata": {},
   "outputs": [
    {
     "data": {
      "text/plain": [
       "<seaborn.axisgrid.FacetGrid at 0x190da46d910>"
      ]
     },
     "execution_count": 123,
     "metadata": {},
     "output_type": "execute_result"
    },
    {
     "data": {
      "image/png": "[encoded data removed]",
      "text/plain": [
       "<Figure size 360x360 with 1 Axes>"
      ]
     },
     "metadata": {
      "needs_background": "light"
     },
     "output_type": "display_data"
    }
   ],
   "source": [
    "#histogram of Female Marital Status\n",
    "sns.displot(data=df, x=Female['Marital Status'])"
   ]
  },
  {
   "cell_type": "code",
   "execution_count": 124,
   "id": "6e5d7e63",
   "metadata": {},
   "outputs": [
    {
     "data": {
      "text/plain": [
       "7       Student\n",
       "17      Student\n",
       "48      Student\n",
       "49      Student\n",
       "50      Student\n",
       "         ...   \n",
       "9675    Student\n",
       "9676    Student\n",
       "9682    Student\n",
       "9683    Student\n",
       "9684    Student\n",
       "Name: Occupation, Length: 1806, dtype: object"
      ]
     },
     "execution_count": 124,
     "metadata": {},
     "output_type": "execute_result"
    }
   ],
   "source": [
    "#getting more details on student\n",
    "Student=df[df['Occupation']=='Student']\n",
    "Student['Occupation']"
   ]
  },
  {
   "cell_type": "code",
   "execution_count": 125,
   "id": "2fd24dbb",
   "metadata": {},
   "outputs": [
    {
     "data": {
      "text/plain": [
       "1806"
      ]
     },
     "execution_count": 125,
     "metadata": {},
     "output_type": "execute_result"
    }
   ],
   "source": [
    "Student['Occupation'].count()"
   ]
  },
  {
   "cell_type": "code",
   "execution_count": 126,
   "id": "260399e0",
   "metadata": {},
   "outputs": [
    {
     "data": {
      "text/plain": [
       "0                            Producer, radio\n",
       "1              Retired Administrator, sports\n",
       "2                         Retired Bookseller\n",
       "3                   Retired Industrial buyer\n",
       "4            Retired Scientist, audiological\n",
       "                        ...                 \n",
       "9682                                 Student\n",
       "9683                                 Student\n",
       "9684                                 Student\n",
       "9685                                   Child\n",
       "9686    Retired Research officer, government\n",
       "Name: Occupation, Length: 9687, dtype: object"
      ]
     },
     "execution_count": 126,
     "metadata": {},
     "output_type": "execute_result"
    }
   ],
   "source": [
    "df['Occupation']"
   ]
  },
  {
   "cell_type": "markdown",
   "id": "3d41e8dd",
   "metadata": {},
   "source": [
    "CRUDEBIRTHRATE"
   ]
  },
  {
   "cell_type": "code",
   "execution_count": 127,
   "id": "ea1ff2e9",
   "metadata": {},
   "outputs": [
    {
     "name": "stdout",
     "output_type": "stream",
     "text": [
      "9687\n"
     ]
    }
   ],
   "source": [
    "TOTALPOPULATION = len(df)\n",
    "print(len(df))"
   ]
  },
  {
   "cell_type": "code",
   "execution_count": 128,
   "id": "59d8db17",
   "metadata": {},
   "outputs": [
    {
     "name": "stdout",
     "output_type": "stream",
     "text": [
      "95\n"
     ]
    }
   ],
   "source": [
    "LIVEBIRTHS = len(df[df['Age'] == 0])\n",
    "print(len(df[df['Age'] == 0]))"
   ]
  },
  {
   "cell_type": "code",
   "execution_count": 129,
   "id": "ff2f31ec",
   "metadata": {},
   "outputs": [
    {
     "name": "stdout",
     "output_type": "stream",
     "text": [
      "9.806957778465986\n"
     ]
    }
   ],
   "source": [
    "CRUDEBIRTHRATE = (LIVEBIRTHS/TOTALPOPULATION)*1000\n",
    "print(CRUDEBIRTHRATE)"
   ]
  },
  {
   "cell_type": "code",
   "execution_count": 130,
   "id": "d37df904",
   "metadata": {},
   "outputs": [
    {
     "name": "stdout",
     "output_type": "stream",
     "text": [
      "Present Crude Birthrate per 1000: 9.806957778465986\n",
      "Previous Crude Birthrate per 1000: 11.458655930628678\n",
      "Present CBR Change from Previous per 1000: -1.6516981521626928\n"
     ]
    }
   ],
   "source": [
    "BABIES0 = df['Age'] == 0\n",
    "BABIES4 = df['Age'] == 4\n",
    "BABIES8 = df['Age'] == 8\n",
    "\n",
    "CRUDEBIRTHRATE0 = (len(df[BABIES0])/TOTALPOPULATION)*1000\n",
    "\n",
    "CRUDEBIRTHRATE4 = (len(df[BABIES4])/len(df))*1000\n",
    "\n",
    "print(f\"Present Crude Birthrate per 1000: {CRUDEBIRTHRATE0}\")\n",
    "\n",
    "print(f\"Previous Crude Birthrate per 1000: {CRUDEBIRTHRATE4}\")\n",
    "\n",
    "print(f\"Present CBR Change from Previous per 1000: {CRUDEBIRTHRATE0-CRUDEBIRTHRATE4}\")\n",
    "\n",
    "\n",
    "\n"
   ]
  },
  {
   "cell_type": "markdown",
   "id": "c987651b",
   "metadata": {},
   "source": [
    "AGE SPECIFIC FERTILITY"
   ]
  },
  {
   "cell_type": "code",
   "execution_count": 131,
   "id": "f1582f54",
   "metadata": {},
   "outputs": [
    {
     "name": "stdout",
     "output_type": "stream",
     "text": [
      "262.43093922651934\n"
     ]
    }
   ],
   "source": [
    "BIRTHS2529 = len(df[df['Age'] == 0])\n",
    "Age2529 = (df['Age'].between(25,29)) & (df['Gender'] == 'Female')\n",
    "Age2529 = len(df[Age2529])\n",
    "\n",
    "print((BIRTHS2529/Age2529)*1000)"
   ]
  },
  {
   "cell_type": "code",
   "execution_count": 132,
   "id": "4e8e312d",
   "metadata": {},
   "outputs": [
    {
     "name": "stdout",
     "output_type": "stream",
     "text": [
      "AGESPECIFICFERTILITYRATE 25-29 per 1000 262.43093922651934\n",
      "AGESPECIFICFERTILITYRATE 30-34 per 1000 261.7924528301887\n",
      "AGESPECIFICFERTILITYRATE 35-40 per 1000 238.73873873873873\n"
     ]
    }
   ],
   "source": [
    "# Female of childbearing age, corresponding to above year gaps\n",
    "\n",
    "Age2529 = (df['Age'].between(25,29)) & (df['Gender'] == 'Female')\n",
    "Age3034 = (df['Age'].between(30,34)) & (df['Gender'] == 'Female')\n",
    "Age3540 = (df['Age'].between(35,39)) & (df['Gender'] == 'Female')\n",
    "\n",
    "# AGESPECIFICFERTILITY\n",
    "\n",
    "ASFR2529 = (len(df[BABIES0])/len(df[Age2529]))*1000\n",
    "ASFR3034 = (len(df[BABIES4])/len(df[Age3034]))*1000\n",
    "ASFR3540 = (len(df[BABIES8])/len(df[Age3540]))*1000\n",
    "\n",
    "print(f\"AGESPECIFICFERTILITYRATE 25-29 per 1000 {ASFR2529}\")\n",
    "print(f\"AGESPECIFICFERTILITYRATE 30-34 per 1000 {ASFR3034}\")\n",
    "print(f\"AGESPECIFICFERTILITYRATE 35-40 per 1000 {ASFR3540}\")"
   ]
  },
  {
   "cell_type": "markdown",
   "id": "79eec2b9",
   "metadata": {},
   "source": [
    "GENERAL FERTILITY RATE"
   ]
  },
  {
   "cell_type": "code",
   "execution_count": 133,
   "id": "70d6eb01",
   "metadata": {},
   "outputs": [
    {
     "name": "stdout",
     "output_type": "stream",
     "text": [
      "GENERAL FERTILITY RATE: 253.65853658536585\n"
     ]
    }
   ],
   "source": [
    "TOTALBIRTHS = len(df[BABIES0]) +  len(df[BABIES4]) + len(df[BABIES8])\n",
    "CRUDEBIRTHAGE = len(df[Age2529])+ len(df[Age3034])+len(df[Age3540])\n",
    "\n",
    "GENERALFERTILITYRATE = TOTALBIRTHS/CRUDEBIRTHAGE\n",
    "\n",
    "print(f\"GENERAL FERTILITY RATE: {GENERALFERTILITYRATE*1000}\")"
   ]
  },
  {
   "cell_type": "markdown",
   "id": "f16a93af",
   "metadata": {},
   "source": [
    "CRUDE DEATH RATE"
   ]
  },
  {
   "cell_type": "code",
   "execution_count": 134,
   "id": "e238b7dc",
   "metadata": {},
   "outputs": [
    {
     "data": {
      "text/plain": [
       "Age\n",
       "99     1\n",
       "97     6\n",
       "96     1\n",
       "95     3\n",
       "94     3\n",
       "93     7\n",
       "92     4\n",
       "91     4\n",
       "90     8\n",
       "89    13\n",
       "88    16\n",
       "87    19\n",
       "86    18\n",
       "85    16\n",
       "84    26\n",
       "83    21\n",
       "82    34\n",
       "81    36\n",
       "80    29\n",
       "79    40\n",
       "78    35\n",
       "77    29\n",
       "76    35\n",
       "75    30\n",
       "74    55\n",
       "73    61\n",
       "72    58\n",
       "71    75\n",
       "70    59\n",
       "69    66\n",
       "68    52\n",
       "67    67\n",
       "66    68\n",
       "65    63\n",
       "dtype: int64"
      ]
     },
     "execution_count": 134,
     "metadata": {},
     "output_type": "execute_result"
    }
   ],
   "source": [
    "AGINGPOPULATION = df[df['Age'].between(65,99)].groupby('Age').size().sort_index(ascending=False)\n",
    "AGINGPOPULATION"
   ]
  },
  {
   "cell_type": "code",
   "execution_count": 135,
   "id": "bdb58ebf",
   "metadata": {},
   "outputs": [
    {
     "data": {
      "text/plain": [
       "Age\n",
       "99     6.0\n",
       "97     1.0\n",
       "96     3.0\n",
       "95     3.0\n",
       "94     7.0\n",
       "93     4.0\n",
       "92     4.0\n",
       "91     8.0\n",
       "90    13.0\n",
       "89    16.0\n",
       "88    19.0\n",
       "87    18.0\n",
       "86    16.0\n",
       "85    26.0\n",
       "84    21.0\n",
       "83    34.0\n",
       "82    36.0\n",
       "81    29.0\n",
       "80    40.0\n",
       "79    35.0\n",
       "78    29.0\n",
       "77    35.0\n",
       "76    30.0\n",
       "75    55.0\n",
       "74    61.0\n",
       "73    58.0\n",
       "72    75.0\n",
       "71    59.0\n",
       "70    66.0\n",
       "69    52.0\n",
       "68    67.0\n",
       "67    68.0\n",
       "66    63.0\n",
       "65     NaN\n",
       "dtype: float64"
      ]
     },
     "execution_count": 135,
     "metadata": {},
     "output_type": "execute_result"
    }
   ],
   "source": [
    "# moving the ages up one to copy last year's 'counts' per age\n",
    "\n",
    "CALCULATEDAGES = AGINGPOPULATION.shift(-1)\n",
    "CALCULATEDAGES\n"
   ]
  },
  {
   "cell_type": "code",
   "execution_count": 136,
   "id": "9ff29d2b",
   "metadata": {},
   "outputs": [
    {
     "data": {
      "text/html": [
       "<div>\n",
       "<style scoped>\n",
       "    .dataframe tbody tr th:only-of-type {\n",
       "        vertical-align: middle;\n",
       "    }\n",
       "\n",
       "    .dataframe tbody tr th {\n",
       "        vertical-align: top;\n",
       "    }\n",
       "\n",
       "    .dataframe thead th {\n",
       "        text-align: right;\n",
       "    }\n",
       "</style>\n",
       "<table border=\"1\" class=\"dataframe\">\n",
       "  <thead>\n",
       "    <tr style=\"text-align: right;\">\n",
       "      <th></th>\n",
       "      <th>Age</th>\n",
       "      <th>Count</th>\n",
       "    </tr>\n",
       "  </thead>\n",
       "  <tbody>\n",
       "    <tr>\n",
       "      <th>0</th>\n",
       "      <td>99</td>\n",
       "      <td>-5.0</td>\n",
       "    </tr>\n",
       "    <tr>\n",
       "      <th>2</th>\n",
       "      <td>96</td>\n",
       "      <td>-2.0</td>\n",
       "    </tr>\n",
       "    <tr>\n",
       "      <th>4</th>\n",
       "      <td>94</td>\n",
       "      <td>-4.0</td>\n",
       "    </tr>\n",
       "    <tr>\n",
       "      <th>7</th>\n",
       "      <td>91</td>\n",
       "      <td>-4.0</td>\n",
       "    </tr>\n",
       "    <tr>\n",
       "      <th>8</th>\n",
       "      <td>90</td>\n",
       "      <td>-5.0</td>\n",
       "    </tr>\n",
       "    <tr>\n",
       "      <th>9</th>\n",
       "      <td>89</td>\n",
       "      <td>-3.0</td>\n",
       "    </tr>\n",
       "    <tr>\n",
       "      <th>10</th>\n",
       "      <td>88</td>\n",
       "      <td>-3.0</td>\n",
       "    </tr>\n",
       "    <tr>\n",
       "      <th>13</th>\n",
       "      <td>85</td>\n",
       "      <td>-10.0</td>\n",
       "    </tr>\n",
       "    <tr>\n",
       "      <th>15</th>\n",
       "      <td>83</td>\n",
       "      <td>-13.0</td>\n",
       "    </tr>\n",
       "    <tr>\n",
       "      <th>16</th>\n",
       "      <td>82</td>\n",
       "      <td>-2.0</td>\n",
       "    </tr>\n",
       "    <tr>\n",
       "      <th>18</th>\n",
       "      <td>80</td>\n",
       "      <td>-11.0</td>\n",
       "    </tr>\n",
       "    <tr>\n",
       "      <th>21</th>\n",
       "      <td>77</td>\n",
       "      <td>-6.0</td>\n",
       "    </tr>\n",
       "    <tr>\n",
       "      <th>23</th>\n",
       "      <td>75</td>\n",
       "      <td>-25.0</td>\n",
       "    </tr>\n",
       "    <tr>\n",
       "      <th>24</th>\n",
       "      <td>74</td>\n",
       "      <td>-6.0</td>\n",
       "    </tr>\n",
       "    <tr>\n",
       "      <th>26</th>\n",
       "      <td>72</td>\n",
       "      <td>-17.0</td>\n",
       "    </tr>\n",
       "    <tr>\n",
       "      <th>28</th>\n",
       "      <td>70</td>\n",
       "      <td>-7.0</td>\n",
       "    </tr>\n",
       "    <tr>\n",
       "      <th>30</th>\n",
       "      <td>68</td>\n",
       "      <td>-15.0</td>\n",
       "    </tr>\n",
       "    <tr>\n",
       "      <th>31</th>\n",
       "      <td>67</td>\n",
       "      <td>-1.0</td>\n",
       "    </tr>\n",
       "  </tbody>\n",
       "</table>\n",
       "</div>"
      ],
      "text/plain": [
       "    Age  Count\n",
       "0    99   -5.0\n",
       "2    96   -2.0\n",
       "4    94   -4.0\n",
       "7    91   -4.0\n",
       "8    90   -5.0\n",
       "9    89   -3.0\n",
       "10   88   -3.0\n",
       "13   85  -10.0\n",
       "15   83  -13.0\n",
       "16   82   -2.0\n",
       "18   80  -11.0\n",
       "21   77   -6.0\n",
       "23   75  -25.0\n",
       "24   74   -6.0\n",
       "26   72  -17.0\n",
       "28   70   -7.0\n",
       "30   68  -15.0\n",
       "31   67   -1.0"
      ]
     },
     "execution_count": 136,
     "metadata": {},
     "output_type": "execute_result"
    }
   ],
   "source": [
    "# calculating the difference between our two sets\n",
    "\n",
    "DIFF = AGINGPOPULATION - CALCULATEDAGES\n",
    "\n",
    "#  dataframe\n",
    "\n",
    "DIFF = DIFF.reset_index(name='Count')\n",
    "\n",
    "# focus on deaths - not emigration!! So we want minus counts only\n",
    "\n",
    "DEATHS = DIFF[DIFF['Count'] < 0]\n",
    "DEATHS"
   ]
  },
  {
   "cell_type": "code",
   "execution_count": 137,
   "id": "2f381808",
   "metadata": {},
   "outputs": [
    {
     "data": {
      "text/plain": [
       "14.34912769691339"
      ]
     },
     "execution_count": 137,
     "metadata": {},
     "output_type": "execute_result"
    }
   ],
   "source": [
    "DEATHRATE = abs(((DEATHS['Count']).sum())/TOTALPOPULATION)*1000\n",
    "DEATHRATE"
   ]
  },
  {
   "cell_type": "markdown",
   "id": "83d898cd",
   "metadata": {},
   "source": [
    "CRUDE GROWTH RATE"
   ]
  },
  {
   "cell_type": "code",
   "execution_count": 138,
   "id": "4568051a",
   "metadata": {},
   "outputs": [
    {
     "name": "stdout",
     "output_type": "stream",
     "text": [
      "CRUDEGROWTHRATE -4.542169918447405\n",
      "CRUDEGROWTHRATE as Percentage -0.45421699184474046%\n"
     ]
    }
   ],
   "source": [
    "print(f\"CRUDEGROWTHRATE {CRUDEBIRTHRATE - DEATHRATE}\")\n",
    "print(f\"CRUDEGROWTHRATE as Percentage {(CRUDEBIRTHRATE-DEATHRATE)/10}%\")"
   ]
  },
  {
   "cell_type": "code",
   "execution_count": 139,
   "id": "93f10ca2",
   "metadata": {},
   "outputs": [
    {
     "data": {
      "text/html": [
       "<div>\n",
       "<style scoped>\n",
       "    .dataframe tbody tr th:only-of-type {\n",
       "        vertical-align: middle;\n",
       "    }\n",
       "\n",
       "    .dataframe tbody tr th {\n",
       "        vertical-align: top;\n",
       "    }\n",
       "\n",
       "    .dataframe thead th {\n",
       "        text-align: right;\n",
       "    }\n",
       "</style>\n",
       "<table border=\"1\" class=\"dataframe\">\n",
       "  <thead>\n",
       "    <tr style=\"text-align: right;\">\n",
       "      <th></th>\n",
       "      <th>House Number</th>\n",
       "      <th>Street</th>\n",
       "      <th>Occupancy Count</th>\n",
       "    </tr>\n",
       "  </thead>\n",
       "  <tbody>\n",
       "    <tr>\n",
       "      <th>0</th>\n",
       "      <td>0</td>\n",
       "      <td>Baker Land</td>\n",
       "      <td>1</td>\n",
       "    </tr>\n",
       "    <tr>\n",
       "      <th>1</th>\n",
       "      <td>0</td>\n",
       "      <td>Gregory Rapids</td>\n",
       "      <td>2</td>\n",
       "    </tr>\n",
       "    <tr>\n",
       "      <th>2</th>\n",
       "      <td>0</td>\n",
       "      <td>Yellow Inlet</td>\n",
       "      <td>1</td>\n",
       "    </tr>\n",
       "    <tr>\n",
       "      <th>3</th>\n",
       "      <td>1</td>\n",
       "      <td>Ali Estates</td>\n",
       "      <td>2</td>\n",
       "    </tr>\n",
       "    <tr>\n",
       "      <th>4</th>\n",
       "      <td>1</td>\n",
       "      <td>Anglia Creek</td>\n",
       "      <td>2</td>\n",
       "    </tr>\n",
       "    <tr>\n",
       "      <th>...</th>\n",
       "      <td>...</td>\n",
       "      <td>...</td>\n",
       "      <td>...</td>\n",
       "    </tr>\n",
       "    <tr>\n",
       "      <th>3420</th>\n",
       "      <td>224</td>\n",
       "      <td>Jones Hill</td>\n",
       "      <td>1</td>\n",
       "    </tr>\n",
       "    <tr>\n",
       "      <th>3421</th>\n",
       "      <td>225</td>\n",
       "      <td>Bishop Road</td>\n",
       "      <td>1</td>\n",
       "    </tr>\n",
       "    <tr>\n",
       "      <th>3422</th>\n",
       "      <td>226</td>\n",
       "      <td>Bishop Road</td>\n",
       "      <td>1</td>\n",
       "    </tr>\n",
       "    <tr>\n",
       "      <th>3423</th>\n",
       "      <td>227</td>\n",
       "      <td>Bishop Road</td>\n",
       "      <td>1</td>\n",
       "    </tr>\n",
       "    <tr>\n",
       "      <th>3424</th>\n",
       "      <td>228</td>\n",
       "      <td>Bishop Road</td>\n",
       "      <td>1</td>\n",
       "    </tr>\n",
       "  </tbody>\n",
       "</table>\n",
       "<p>3425 rows × 3 columns</p>\n",
       "</div>"
      ],
      "text/plain": [
       "      House Number          Street  Occupancy Count\n",
       "0                0      Baker Land                1\n",
       "1                0  Gregory Rapids                2\n",
       "2                0    Yellow Inlet                1\n",
       "3                1     Ali Estates                2\n",
       "4                1    Anglia Creek                2\n",
       "...            ...             ...              ...\n",
       "3420           224      Jones Hill                1\n",
       "3421           225     Bishop Road                1\n",
       "3422           226     Bishop Road                1\n",
       "3423           227     Bishop Road                1\n",
       "3424           228     Bishop Road                1\n",
       "\n",
       "[3425 rows x 3 columns]"
      ]
     },
     "execution_count": 139,
     "metadata": {},
     "output_type": "execute_result"
    }
   ],
   "source": [
    "# brief method to show occupancy rates\n",
    "\n",
    "HOUSEHOLD = df.groupby(['House Number', 'Street']).size().reset_index(name='Occupancy Count')\n",
    "HOUSEHOLD"
   ]
  },
  {
   "cell_type": "code",
   "execution_count": 140,
   "id": "2ee04c9c",
   "metadata": {},
   "outputs": [
    {
     "data": {
      "text/plain": [
       "count              9687\n",
       "unique              105\n",
       "top       Lee Stravenue\n",
       "freq               1199\n",
       "Name: Street, dtype: object"
      ]
     },
     "execution_count": 140,
     "metadata": {},
     "output_type": "execute_result"
    }
   ],
   "source": [
    "df['Street'].describe()"
   ]
  },
  {
   "cell_type": "code",
   "execution_count": 141,
   "id": "13431bd2",
   "metadata": {},
   "outputs": [
    {
     "data": {
      "text/plain": [
       "count    9687.000000\n",
       "mean       46.198617\n",
       "std        51.459189\n",
       "min         0.000000\n",
       "25%        11.000000\n",
       "50%        26.000000\n",
       "75%        54.000000\n",
       "max       228.000000\n",
       "Name: House Number, dtype: float64"
      ]
     },
     "execution_count": 141,
     "metadata": {},
     "output_type": "execute_result"
    }
   ],
   "source": [
    "df['House Number'].describe()"
   ]
  },
  {
   "cell_type": "code",
   "execution_count": 142,
   "id": "3676c6e4",
   "metadata": {},
   "outputs": [
    {
     "name": "stdout",
     "output_type": "stream",
     "text": [
      "Mode: 0    1\n",
      "dtype: int32\n"
     ]
    }
   ],
   "source": [
    "#mode of House Number\n",
    "House_Number=df['House Number']\n",
    "print(\"Mode:\", House_Number.mode())"
   ]
  },
  {
   "cell_type": "code",
   "execution_count": null,
   "id": "f2f9c562",
   "metadata": {},
   "outputs": [],
   "source": []
  }
 ],
 "metadata": {
  "kernelspec": {
   "display_name": "Python 3.9.7 64-bit",
   "language": "python",
   "name": "python3"
  },
  "language_info": {
   "codemirror_mode": {
    "name": "ipython",
    "version": 3
   },
   "file_extension": ".py",
   "mimetype": "text/x-python",
   "name": "python",
   "nbconvert_exporter": "python",
   "pygments_lexer": "ipython3",
   "version": "3.9.7"
  },
  "vscode": {
   "interpreter": {
    "hash": "1a64f954787cd6c49ae44ffbb2295060a51070908123d77830c4d50e306005fd"
   }
  },
  "widgets": {
   "application/vnd.jupyter.widget-state+json": {
    "state": {},
    "version_major": 2,
    "version_minor": 0
   }
  }
 },
 "nbformat": 4,
 "nbformat_minor": 5
}
